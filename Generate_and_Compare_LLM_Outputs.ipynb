{
  "nbformat": 4,
  "nbformat_minor": 0,
  "metadata": {
    "colab": {
      "provenance": [],
      "authorship_tag": "ABX9TyPZdDpmSvNAtlwc0yPVKSHF",
      "include_colab_link": true
    },
    "kernelspec": {
      "name": "python3",
      "display_name": "Python 3"
    },
    "language_info": {
      "name": "python"
    }
  },
  "cells": [
    {
      "cell_type": "markdown",
      "metadata": {
        "id": "view-in-github",
        "colab_type": "text"
      },
      "source": [
        "<a href=\"https://colab.research.google.com/github/AI-Cultural-Heritage-Lab/ushmm_model_comparisons/blob/main/Generate_and_Compare_LLM_Outputs.ipynb\" target=\"_parent\"><img src=\"https://colab.research.google.com/assets/colab-badge.svg\" alt=\"Open In Colab\"/></a>"
      ]
    },
    {
      "cell_type": "markdown",
      "source": [
        "# Setup"
      ],
      "metadata": {
        "id": "QQtfiAsBF7Hq"
      }
    },
    {
      "cell_type": "code",
      "source": [
        "#import API keys and mount google drive\n",
        "from google.colab import drive\n",
        "from google.colab import userdata\n",
        "!pip install --upgrade openai\n",
        "#make sure we have openAI and Gemini access tokens before proceeding (key icon on left)\n",
        "import os\n",
        "from openai import OpenAI\n",
        "import google.generativeai as genai\n",
        "# Pass the API key to Open AI\n",
        "os.environ['OPEN_AI_API_KEY'] = userdata.get(\"OPEN_AI_PROJECT_KEY\")\n",
        "client = OpenAI(api_key=os.environ.get(\"OPEN_AI_API_KEY\"))\n",
        "# Pass the API key to Gemini\n",
        "os.environ['GEMINI_API_KEY'] = userdata.get(\"GEMINI_PROJECT_KEY\")\n",
        "# Pass the API key to Grok\n",
        "os.environ['GROK_API_KEY'] = userdata.get(\"GROK_PROJECT_KEY\")\n",
        "# Pass the API key to SERP\n",
        "os.environ['SERP_API_KEY'] = userdata.get(\"SERP_PROJECT_KEY\")\n",
        "#mount drive\n",
        "drive.mount('/content/drive')"
      ],
      "metadata": {
        "colab": {
          "base_uri": "https://localhost:8080/"
        },
        "id": "FgtEeSg9F1G8",
        "outputId": "e99f4313-a9ad-4691-d473-c56836dd7569"
      },
      "execution_count": null,
      "outputs": [
        {
          "output_type": "stream",
          "name": "stdout",
          "text": [
            "Requirement already satisfied: openai in /usr/local/lib/python3.11/dist-packages (1.78.1)\n",
            "Collecting openai\n",
            "  Downloading openai-1.82.0-py3-none-any.whl.metadata (25 kB)\n",
            "Requirement already satisfied: anyio<5,>=3.5.0 in /usr/local/lib/python3.11/dist-packages (from openai) (4.9.0)\n",
            "Requirement already satisfied: distro<2,>=1.7.0 in /usr/local/lib/python3.11/dist-packages (from openai) (1.9.0)\n",
            "Requirement already satisfied: httpx<1,>=0.23.0 in /usr/local/lib/python3.11/dist-packages (from openai) (0.28.1)\n",
            "Requirement already satisfied: jiter<1,>=0.4.0 in /usr/local/lib/python3.11/dist-packages (from openai) (0.9.0)\n",
            "Requirement already satisfied: pydantic<3,>=1.9.0 in /usr/local/lib/python3.11/dist-packages (from openai) (2.11.4)\n",
            "Requirement already satisfied: sniffio in /usr/local/lib/python3.11/dist-packages (from openai) (1.3.1)\n",
            "Requirement already satisfied: tqdm>4 in /usr/local/lib/python3.11/dist-packages (from openai) (4.67.1)\n",
            "Requirement already satisfied: typing-extensions<5,>=4.11 in /usr/local/lib/python3.11/dist-packages (from openai) (4.13.2)\n",
            "Requirement already satisfied: idna>=2.8 in /usr/local/lib/python3.11/dist-packages (from anyio<5,>=3.5.0->openai) (3.10)\n",
            "Requirement already satisfied: certifi in /usr/local/lib/python3.11/dist-packages (from httpx<1,>=0.23.0->openai) (2025.4.26)\n",
            "Requirement already satisfied: httpcore==1.* in /usr/local/lib/python3.11/dist-packages (from httpx<1,>=0.23.0->openai) (1.0.9)\n",
            "Requirement already satisfied: h11>=0.16 in /usr/local/lib/python3.11/dist-packages (from httpcore==1.*->httpx<1,>=0.23.0->openai) (0.16.0)\n",
            "Requirement already satisfied: annotated-types>=0.6.0 in /usr/local/lib/python3.11/dist-packages (from pydantic<3,>=1.9.0->openai) (0.7.0)\n",
            "Requirement already satisfied: pydantic-core==2.33.2 in /usr/local/lib/python3.11/dist-packages (from pydantic<3,>=1.9.0->openai) (2.33.2)\n",
            "Requirement already satisfied: typing-inspection>=0.4.0 in /usr/local/lib/python3.11/dist-packages (from pydantic<3,>=1.9.0->openai) (0.4.0)\n",
            "Downloading openai-1.82.0-py3-none-any.whl (720 kB)\n",
            "\u001b[2K   \u001b[90m━━━━━━━━━━━━━━━━━━━━━━━━━━━━━━━━━━━━━━━━\u001b[0m \u001b[32m720.4/720.4 kB\u001b[0m \u001b[31m9.9 MB/s\u001b[0m eta \u001b[36m0:00:00\u001b[0m\n",
            "\u001b[?25hInstalling collected packages: openai\n",
            "  Attempting uninstall: openai\n",
            "    Found existing installation: openai 1.78.1\n",
            "    Uninstalling openai-1.78.1:\n",
            "      Successfully uninstalled openai-1.78.1\n",
            "Successfully installed openai-1.82.0\n",
            "Mounted at /content/drive\n"
          ]
        }
      ]
    },
    {
      "cell_type": "code",
      "source": [
        "## Import Data - imports the data as an excel file from the Google Sheet containing the text you want to feed to the LLM(s)\n",
        "\n",
        "import gdown\n",
        "import pandas as pd\n",
        "\n",
        "\n",
        "#ALL 6000 search queries (1000 for each country - USA, Germany, S Korea, Russia, Turkey, China)\n",
        "#this is Ulysses' \"ushmm_data_with_articles\" spreadsheet that includes the ushmmm article link and text for each query\n",
        "url_ALL = 'https://docs.google.com/spreadsheets/d/1i6PRehieuZKl2Zk7EoJFjwRuS4e-NR8mtBAbTt6rZ4c/edit?gid=525940975#gid=525940975'\n",
        "export_url_ALL= f\"{url_ALL}\"+\"/export?format=xlsx\"\n",
        "temp_file_ALL = \"file_ALL.xlsx\"\n",
        "gdown.download(export_url_ALL, temp_file_ALL, quiet=False, fuzzy=True)\n",
        "\n",
        "# Load the Excel file into pandas\n",
        "df_ALL = pd.read_excel(temp_file_ALL)\n",
        "\n",
        "# Display the DataFrame\n",
        "print(df_ALL.head())"
      ],
      "metadata": {
        "id": "SnQkTCqLG9B9"
      },
      "execution_count": null,
      "outputs": []
    },
    {
      "cell_type": "code",
      "source": [
        "#If that does not work, simply load the excel file from the directory\n",
        "df_ALL = pd.read_excel('ushmm_data_with_articles.xlsx')\n",
        "# Display the DataFrame\n",
        "print(df_ALL.head())"
      ],
      "metadata": {
        "colab": {
          "base_uri": "https://localhost:8080/"
        },
        "id": "2z-Kj_lKKHSg",
        "outputId": "66678ad5-6c04-4422-9110-275fe668e084"
      },
      "execution_count": 7,
      "outputs": [
        {
          "output_type": "stream",
          "name": "stdout",
          "text": [
            "   id                                          file_name  file_row_index  \\\n",
            "0   0  Copy of Holocaust Encyclopedia - search querie...               0   \n",
            "1   1  Copy of Holocaust Encyclopedia - search querie...               1   \n",
            "2   2  Copy of Holocaust Encyclopedia - search querie...               2   \n",
            "3   3  Copy of Holocaust Encyclopedia - search querie...               3   \n",
            "4   4  Copy of Holocaust Encyclopedia - search querie...               4   \n",
            "\n",
            "        location  year                            Top queries  Clicks  \\\n",
            "0  United States  2024  how many people died in the holocaust   40678   \n",
            "1  United States  2024                      armenian genocide   37535   \n",
            "2  United States  2024                 holocaust encyclopedia   35664   \n",
            "3  United States  2024                    first they came for   34702   \n",
            "4  United States  2024                              holocaust   33996   \n",
            "\n",
            "   Impressions     CTR  Position ai_overview_standalone  \\\n",
            "0       189593  0.2146      1.02                     []   \n",
            "1       447164  0.0839      2.44                     []   \n",
            "2        50277  0.7094      1.00                     []   \n",
            "3        77617  0.4471      1.08                     []   \n",
            "4      1330137  0.0256      1.91                     []   \n",
            "\n",
            "                                   related_questions  \\\n",
            "0                                                 []   \n",
            "1                                                 []   \n",
            "2  [{'question': 'Is the Holocaust Encyclopedia c...   \n",
            "3  [{'question': 'What is the saying \"first they ...   \n",
            "4  [{'question': 'Are any Holocaust survivors sti...   \n",
            "\n",
            "                                         ushmm_links  \\\n",
            "0  ['https://encyclopedia.ushmm.org/content/en/ar...   \n",
            "1  ['https://encyclopedia.ushmm.org/content/en/ar...   \n",
            "2  ['https://encyclopedia.ushmm.org/', 'https://e...   \n",
            "3  ['https://encyclopedia.ushmm.org/content/en/ar...   \n",
            "4  ['https://encyclopedia.ushmm.org/content/en/ar...   \n",
            "\n",
            "                                       ushmm_article  \\\n",
            "0  #How Many People did the Nazis Murder? | Holoc...   \n",
            "1  #The Armenian Genocide (1915-16): Overview | H...   \n",
            "2  #Introduction to the Holocaust: What was the H...   \n",
            "3  #Martin Niemöller: \"First they came for the So...   \n",
            "4  #Introduction to the Holocaust: What was the H...   \n",
            "\n",
            "   total_ai_generated_content  \n",
            "0                           1  \n",
            "1                           1  \n",
            "2                           3  \n",
            "3                           4  \n",
            "4                           3  \n"
          ]
        }
      ]
    },
    {
      "cell_type": "markdown",
      "source": [
        "# Initialize LLMs and define functions to query them"
      ],
      "metadata": {
        "id": "ky8D5NFVLotm"
      }
    },
    {
      "cell_type": "code",
      "source": [
        "#load API keys\n",
        "OPENAI_API_KEY = userdata.get('OPEN_AI_PROJECT_KEY')\n",
        "GOOGLE_API_KEY = userdata.get('GEMINI_PROJECT_KEY')\n",
        "GROK_API_KEY = userdata.get('GROK_PROJECT_KEY')"
      ],
      "metadata": {
        "id": "yH-rtAOhLuR0"
      },
      "execution_count": 10,
      "outputs": []
    },
    {
      "cell_type": "code",
      "source": [
        "#GPT\n",
        "\n",
        "from typing import List, Dict, Any, Callable\n",
        "from pydantic import BaseModel, Field, ValidationError\n",
        "import json\n",
        "import time\n",
        "\n",
        "# Import Colab Secrets userdata module\n",
        "from google.colab import userdata\n",
        "import os\n",
        "from openai import OpenAI\n",
        "\n",
        "\n",
        "# Pass the API key to Open AI\n",
        "client = OpenAI(api_key=userdata.get('OPEN_AI_PROJECT_KEY'))\n",
        "\n",
        "def query_gpt4o(prompt: str) -> str:\n",
        "  try:\n",
        "    time.sleep(0.13)\n",
        "    response = client.chat.completions.create(\n",
        "        messages=[{\"role\": \"user\", \"content\": prompt}],\n",
        "        model=\"gpt-4o\",\n",
        "    )\n",
        "    return response.choices[0].message.content\n",
        "  except Exception as e:\n",
        "    return f\"GPT-4o Error: {str(e)}\"\n",
        "\n",
        "  #alternative querying functions\n",
        "def base_gpt(input, model):\n",
        "    response = client.chat.completions.create(\n",
        "        messages=[\n",
        "            {\"role\": \"user\", \"content\": input,}],\n",
        "        model=model,\n",
        "    )\n",
        "    output_dict = {\n",
        "        \"model\": model,\n",
        "        \"output\": response.choices[0].message.content\n",
        "    }\n",
        "    return response.choices[0].message.content\n",
        "\n",
        "def generate_LLM_response(row) -> List[str]:\n",
        "    #Let's start the the fewest assumptions\n",
        "    input_data = row['Top queries']\n",
        "    response = base_gpt(input_data, \"gpt-4o\")\n",
        "    return response"
      ],
      "metadata": {
        "id": "XG3HUDIiLwB1"
      },
      "execution_count": 11,
      "outputs": []
    },
    {
      "cell_type": "code",
      "source": [
        "#Gemini\n",
        "\n",
        "from typing import List, Dict\n",
        "import json\n",
        "import os\n",
        "import requests\n",
        "import google.generativeai as genai\n",
        "from google.colab import userdata\n",
        "from openai import OpenAI\n",
        "\n",
        "# Initialize Gemini\n",
        "genai.configure(api_key=GOOGLE_API_KEY)\n",
        "\n",
        "# Query Gemini 2.0 Flash\n",
        "def query_gemini(prompt: str) -> str:\n",
        "    model = genai.GenerativeModel(\n",
        "    'gemini-2.0-flash',\n",
        "    generation_config=genai.GenerationConfig(\n",
        "        max_output_tokens=2000,\n",
        "        temperature=0.9,\n",
        "    ))\n",
        "    try:\n",
        "        time.sleep(4.1)  # ~4 seconds delay to stay under 2.0 flash rate limit 15 requests/minute\n",
        "        response = model.generate_content(prompt)\n",
        "        return response.text.strip()\n",
        "    except Exception as e:\n",
        "        return f\"Error: {str(e)}\""
      ],
      "metadata": {
        "id": "PnYjX9YQLztJ"
      },
      "execution_count": 12,
      "outputs": []
    },
    {
      "cell_type": "code",
      "source": [
        "#Grok\n",
        "\n",
        "# Query Grok latest version\n",
        "# Initialize Grok Client\n",
        "grok_client = OpenAI(\n",
        "    api_key=GROK_API_KEY,\n",
        "    base_url=\"https://api.x.ai/v1\",\n",
        ")\n",
        "\n",
        "# Function to Query Grok\n",
        "def query_grok(prompt: str) -> str:\n",
        "    try:\n",
        "        time.sleep(0.13) # ~1/8 seconds delay to stay under grok-2-1212 rate limit of 8 requests/second\n",
        "        response = grok_client.chat.completions.create(\n",
        "            model=\"grok-2-latest\",  # Use the latest Grok model\n",
        "            messages=[{\"role\": \"user\", \"content\": prompt}],\n",
        "        )\n",
        "        return response.choices[0].message.content\n",
        "    except Exception as e:\n",
        "        return f\"Grok API Error: {str(e)}\""
      ],
      "metadata": {
        "id": "rmNGXycvL208"
      },
      "execution_count": 13,
      "outputs": []
    },
    {
      "cell_type": "markdown",
      "source": [
        "#Generate LLM Responses"
      ],
      "metadata": {
        "id": "hd3T9qXHMBEi"
      }
    },
    {
      "cell_type": "code",
      "source": [
        "# Generate LLM Responses=\n",
        "def generate_LLM_responses(row) -> Dict[str, str]:\n",
        "    prompt = row['Top queries']\n",
        "\n",
        "    return {\n",
        "        \"GPT-4o\": query_gpt4o(prompt),\n",
        "        \"Gemini\": query_gemini(prompt),\n",
        "        \"Grok\": query_grok(prompt)\n",
        "    }\n",
        "\n",
        "import pandas as pd\n",
        "\n",
        "# Process DataFrame and Add LLM Responses\n",
        "def generate_LLM_responses_df(df):\n",
        "    # Apply the function to each row and create new columns\n",
        "    df[['GPT-4o Response', 'Gemini Response', 'Grok Response']] = df['Top queries'].apply(\n",
        "        lambda prompt: pd.Series(generate_LLM_responses({\"Top queries\": prompt}))\n",
        "    )\n",
        "    return df\n"
      ],
      "metadata": {
        "id": "oVO0E7QuL-pe"
      },
      "execution_count": 14,
      "outputs": []
    },
    {
      "cell_type": "code",
      "source": [
        "df_2 = generate_LLM_responses_df(df_ALL[:2])"
      ],
      "metadata": {
        "id": "SZeJz8L7M3Bd"
      },
      "execution_count": null,
      "outputs": []
    },
    {
      "cell_type": "code",
      "source": [
        "print(df_2.head())"
      ],
      "metadata": {
        "id": "XQp_0-wuSRC1"
      },
      "execution_count": null,
      "outputs": []
    },
    {
      "cell_type": "code",
      "source": [
        "us_search_responses_df = generate_LLM_responses_df(df_ALL[:1000])\n",
        "print(us_search_responses_df.head())"
      ],
      "metadata": {
        "id": "GAOwwjjmNgqX"
      },
      "execution_count": null,
      "outputs": []
    },
    {
      "cell_type": "markdown",
      "source": [
        "# Define functions for obtaining similarity and readability metrics"
      ],
      "metadata": {
        "id": "I4YAc87wKtS8"
      }
    },
    {
      "cell_type": "markdown",
      "source": [
        "READABILITY METRICS"
      ],
      "metadata": {
        "id": "lkWCBP8OKyb3"
      }
    },
    {
      "cell_type": "code",
      "source": [
        "#Word Count\n",
        "import re\n",
        "def word_count(text):\n",
        "    #Returns the number of words in a given text using regex\n",
        "    words = re.findall(r'\\b\\w+\\b', text)\n",
        "    return len(words)\n",
        "\n",
        "#Flesch Reading Score\n",
        "def count_sentences(text):\n",
        "    \"\"\"Counts the number of sentences based on punctuation.\"\"\"\n",
        "    return max(1, len(re.findall(r'[.!?]', text)))  # Avoid zero sentences\n",
        "\n",
        "def count_words(text):\n",
        "    \"\"\"Counts the number of words in the text.\"\"\"\n",
        "    return max(1, len(text.split()))  # Avoid division by zero\n",
        "\n",
        "def count_syllables(word):\n",
        "    \"\"\"Counts the number of syllables in a word using regex heuristics.\"\"\"\n",
        "    word = word.lower()\n",
        "    syllables = re.findall(r'[aeiouy]+', word)  # Matches vowel clusters\n",
        "    if word.endswith((\"es\", \"ed\")) and len(syllables) > 1:\n",
        "        syllables.pop()  # Discount silent syllables\n",
        "    return max(1, len(syllables))\n",
        "\n",
        "def count_total_syllables(text):\n",
        "    \"\"\"Counts the total number of syllables in the text.\"\"\"\n",
        "    words = re.findall(r'\\b\\w+\\b', text)  # Extract words\n",
        "    return sum(count_syllables(word) for word in words)\n",
        "\n",
        "def flesch_reading_ease(text):\n",
        "    \"\"\"Calculates the Flesch Reading Ease Score.\"\"\"\n",
        "    words = count_words(text)\n",
        "    sentences = count_sentences(text)\n",
        "    syllables = count_total_syllables(text)\n",
        "\n",
        "    asl = words / sentences  # Average Sentence Length\n",
        "    asw = syllables / words  # Average Syllables per Word\n",
        "\n",
        "    score = 206.835 - (1.015 * asl) - (84.6 * asw)\n",
        "    return round(score, 2)\n",
        "\n",
        "#Coleman Liau Index\n",
        "def count_letters(text):\n",
        "    \"\"\"Counts the number of letters (A-Z, a-z) in the text.\"\"\"\n",
        "    return sum(c.isalpha() for c in text)\n",
        "\n",
        "def count_sentences(text):\n",
        "    \"\"\"Counts the number of sentences based on punctuation.\"\"\"\n",
        "    return max(1, len(re.findall(r'[.!?]', text)))  # Avoid zero sentences\n",
        "\n",
        "def coleman_liau_index(text):\n",
        "    \"\"\"Calculates the Coleman-Liau Index for readability assessment.\"\"\"\n",
        "    letters = count_letters(text)\n",
        "    words = count_words(text)\n",
        "    sentences = count_sentences(text)\n",
        "\n",
        "    L = (letters / words) * 100  # Average letters per 100 words\n",
        "    S = (sentences / words) * 100  # Average sentences per 100 words\n",
        "\n",
        "    CLI = 0.0588 * L - 0.296 * S - 15.8\n",
        "    return round(CLI, 2)"
      ],
      "metadata": {
        "id": "BY13okpfLH3N"
      },
      "execution_count": 18,
      "outputs": []
    },
    {
      "cell_type": "markdown",
      "source": [
        "SIMILARITY METRICS"
      ],
      "metadata": {
        "id": "tRuOBzkLLS2Q"
      }
    },
    {
      "cell_type": "code",
      "source": [
        "#Cosine Similarity\n",
        "\n",
        "from sklearn.feature_extraction.text import TfidfVectorizer\n",
        "from sklearn.metrics.pairwise import cosine_similarity\n",
        "import numpy as np\n",
        "# Define Get Embedding Function\n",
        "def get_embedding(text, model=\"text-embedding-3-small\"):\n",
        "   text = text.replace(\"\\n\", \" \")\n",
        "   return client.embeddings.create(input = text, model=model).data[0].embedding\n",
        "\n",
        "# Example Usage\n",
        "\n",
        "# Create A text string\n",
        "text = \"Hello, I am a member of a Digital Humanities Lab\"\n",
        "\n",
        "# Apply the function to the text and inspect the output\n",
        "print(get_embedding(text))\n",
        "\n",
        "def cosine_similarity_text(text1, text2):\n",
        "    # Generate Embeeddings for the text\n",
        "    embedding1 = get_embedding(text1)\n",
        "    embedding2 = get_embedding(text2)\n",
        "\n",
        "    # Convert embeddings to numpy arrays\n",
        "    embedding1 = np.array(embedding1).reshape(1, -1)\n",
        "    embedding2 = np.array(embedding2).reshape(1, -1)\n",
        "\n",
        "    # Calculate cosine similarity\n",
        "    similarity = cosine_similarity(embedding1, embedding2)[0][0]\n",
        "\n",
        "    # Display the result\n",
        "    print(f\"Cosine similarity: {similarity}\")\n",
        "\n",
        "def cosine_similarity_text_2(text1, text2):\n",
        "    #Calculate cosine similarity between two long text strings using TF-IDF\n",
        "    vectorizer = TfidfVectorizer().fit_transform([text1, text2])\n",
        "    vectors = vectorizer.toarray()\n",
        "    return cosine_similarity(vectors)[0, 1]"
      ],
      "metadata": {
        "colab": {
          "base_uri": "https://localhost:8080/"
        },
        "id": "ZYkjn6BiLTzm",
        "outputId": "7d4bb60d-46d7-4fa2-ae7b-a2f4a5f8fd75"
      },
      "execution_count": 19,
      "outputs": [
        {
          "output_type": "stream",
          "name": "stdout",
          "text": [
            "[-0.030613349750638008, -0.003794631687924266, 0.03129681199789047, -0.011291342787444592, 0.0024437285028398037, -0.01742825098335743, -0.005976722575724125, 0.0819583460688591, -0.034173041582107544, -0.06333404034376144, -0.010109525173902512, -0.037419483065605164, -0.0326637327671051, -0.024561874568462372, -0.0037412361707538366, 0.04097917303442955, -0.04573492333292961, 0.019749170169234276, -0.007902516052126884, 0.06914345920085907, 0.04536471515893936, 0.00037732734926976264, 0.0035579120740294456, 0.00984610803425312, -0.009952898137271404, -0.00466675590723753, -0.021884985268115997, 0.026199333369731903, 0.01695837266743183, -0.007368562277406454, 0.001522658159956336, -0.023081041872501373, -0.07757280766963959, 0.012380608357489109, -0.07130774855613708, 0.051999978721141815, -0.013455635868012905, 0.025928795337677002, 0.013370202854275703, -0.020603496581315994, -0.003602408105507493, -0.04086526483297348, 0.008863632567226887, 0.0015689341817051172, -0.03565387427806854, -0.02478969469666481, 0.003419084008783102, 0.021956179291009903, 0.0033283119555562735, 0.03787512332201004, -0.019507111981511116, 0.004727270919829607, 0.023579400032758713, 0.02105913683772087, 0.014032305218279362, -0.04866810888051987, 0.054990120232105255, 0.016616642475128174, 0.0023298184387385845, -0.00283529469743371, 0.04610513150691986, 0.00222480739466846, 0.007895397022366524, 0.03027161955833435, 0.016516970470547676, -0.0160613302141428, -0.05829351395368576, 0.005699066910892725, -0.037561867386102676, -0.012409086339175701, 0.05584444850683212, 0.046389903873205185, -0.038302283734083176, -0.011675789952278137, -0.0443110466003418, 0.006325572729110718, -0.03451477363705635, 0.013263411819934845, -0.008080501109361649, 0.015776554122567177, -0.00010284172458341345, 0.018980277702212334, 0.03722013905644417, -0.02615661546587944, -0.05097479000687599, -0.027708642184734344, -0.028748072683811188, -0.014459468424320221, -0.018125951290130615, -0.0021358150988817215, 0.03647972270846367, 0.010543807409703732, -0.04362758249044418, 0.01731434091925621, 0.03585321828722954, -0.021956179291009903, -0.02241181954741478, 0.0036736021284013987, 0.01704380474984646, 0.02702518180012703, 0.009732197970151901, -0.023892652243375778, 0.033432625234127045, -0.05843590199947357, 0.002192770130932331, -0.010679075494408607, -0.00407584710046649, 0.0069307200610637665, -0.02491784282028675, 0.027452344074845314, -0.112600177526474, -0.030470963567495346, 0.0036486841272562742, -0.024106234312057495, -0.009077214635908604, 0.0036308858543634415, 0.003990414552390575, -0.052256278693675995, 0.0008658950682729483, -0.04673163592815399, -0.04388388246297836, 0.018368009477853775, 0.006279296707361937, -0.024376770481467247, -0.04049505665898323, -0.02950272709131241, 0.025074470788240433, -0.04735814034938812, -0.037447959184646606, -0.03052791766822338, 0.028861982747912407, -0.047642916440963745, -0.0025540790520608425, 0.004499450791627169, -0.02155749499797821, 0.046133607625961304, -0.040409620851278305, -0.003940579015761614, -0.02813580445945263, -0.02477545663714409, 0.0433712862432003, 0.025231096893548965, 0.04012484848499298, 0.037675779312849045, 0.03687840700149536, -0.030727259814739227, -0.059461094439029694, 0.07170643657445908, 0.007553666364401579, 0.00498000904917717, 0.02291017770767212, 0.004613360855728388, -0.025558587163686752, 0.0019987670239061117, -0.010152241215109825, 0.0011729184770956635, -0.004592002369463444, 0.017527922987937927, -0.01570536009967327, 0.004214675165712833, 0.06880172342061996, 0.007187018170952797, -0.023949606344103813, 0.006229460705071688, -0.014117738232016563, 0.044140178710222244, -0.019350485876202583, -0.018909083679318428, -0.04630447179079056, 0.0241774283349514, -0.047272708266973495, 0.007923874072730541, 0.011860893107950687, 0.04661772400140762, -0.010230554267764091, -0.025558587163686752, -0.015733838081359863, -0.020503824576735497, -0.01419605128467083, -0.04832637682557106, -0.005065441597253084, 0.030584873631596565, -0.01731434091925621, -0.03377435728907585, -0.05578749254345894, -0.022867461666464806, 0.005474806297570467, -0.004947971552610397, -0.014559139497578144, 0.008158814162015915, 0.03477106988430023, 0.08993205428123474, 0.03411608561873436, -0.003159226616844535, 0.014466588385403156, -0.027737120166420937, 0.055872924625873566, 0.010550926439464092, -0.009006020613014698, 0.012715219520032406, 0.021030660718679428, 0.030186187475919724, -0.02715332992374897, -0.01695837266743183, 0.04220370575785637, 0.007902516052126884, 0.02975902520120144, -0.01943591795861721, -0.03086964786052704, -0.015790794044733047, 0.02826395444571972, 0.002370754722505808, 0.023137997835874557, 0.04308651015162468, 0.02792222425341606, -0.011668669991195202, -0.019507111981511116, 0.027352672070264816, 0.05242714285850525, 0.01856735348701477, -0.09135593473911285, 0.030043799430131912, 0.05396492779254913, 0.01537786889821291, 0.0030737940687686205, 0.012017520144581795, 0.04784226045012474, -0.03289155289530754, 0.051373474299907684, -0.010999447666108608, 0.026469869539141655, -0.007788605988025665, -0.033090896904468536, -0.00738280126824975, -0.0021091175731271505, -0.009675242938101292, 0.01816866733133793, 0.01767031103372574, 0.02142934501171112, -0.017727265134453773, -0.015520256944000721, 0.009810511022806168, 0.043029554188251495, 0.03901422396302223, 0.02256844751536846, 0.004243152681738138, -0.003865825477987528, -0.06777653098106384, -0.011177432723343372, 0.05103174224495888, -0.003759034676477313, 0.023351579904556274, 0.019008755683898926, -0.02253996953368187, -0.007696053944528103, 0.04200436547398567, -0.06635265797376633, 0.03861553966999054, -0.021329674869775772, -0.0070873466320335865, -0.019136903807520866, -0.03676449880003929, 0.005852133501321077, -0.008180172182619572, 0.00423247367143631, -0.024561874568462372, 0.018980277702212334, 0.02689703181385994, -0.05681268125772476, -0.03240743651986122, -0.03240743651986122, 0.015036138705909252, 0.012373489327728748, -0.02017633430659771, -0.025330767035484314, -0.022369103506207466, -0.012615548446774483, 0.03696383908390999, 0.015634166076779366, -0.02726723998785019, -0.04972177743911743, 0.04607665166258812, -0.0027000263798981905, 0.014124857261776924, -0.029303383082151413, 0.03551148623228073, -0.0032037226483225822, 0.009454541839659214, -0.0029954807832837105, 0.019108425825834274, 0.04211827367544174, -0.03391674533486366, 0.05316755920648575, -0.034059133380651474, -0.015904704108834267, 0.03770425543189049, 0.022696595638990402, 0.01630338840186596, 0.01008104719221592, -0.003226860659196973, -0.011533401906490326, 0.006254378706216812, 0.03499889001250267, -0.021884985268115997, -0.0035401135683059692, 0.034315429627895355, -0.010721792466938496, -0.00916264671832323, -0.009682361967861652, -0.024248620495200157, -0.015093093737959862, -0.010522449389100075, 0.018909083679318428, 0.03283459693193436, -0.0457918755710125, -0.010508210398256779, -0.0071621001698076725, 0.028178520500659943, 0.002863772213459015, -0.02268235757946968, -0.03326176106929779, -0.06430227309465408, -0.0034386625047773123, -0.05467686802148819, 0.01332748681306839, -0.011846655048429966, 0.05894849821925163, -0.007575024385005236, 0.010066809132695198, -0.056100744754076004, 0.010202077217400074, 0.003525874810293317, 0.014110619202256203, -0.006254378706216812, 0.05963195860385895, -0.04932308942079544, -0.02289593778550625, 0.042403049767017365, -0.0016614862252026796, -0.030414007604122162, -0.030414007604122162, -0.008450708352029324, -0.02429133839905262, 0.04684554412961006, -0.0030292978044599295, 0.06293535232543945, -0.034173041582107544, -0.03075573779642582, -0.014374036341905594, -0.03252134472131729, -0.028975892812013626, -0.02078860066831112, -0.0266692116856575, -0.011319819837808609, -0.020987942814826965, -0.00743975630030036, 0.052996695041656494, -0.041890453547239304, 0.0032553381752222776, -0.012978636659681797, -0.04883897304534912, 0.0336034931242466, 0.04086526483297348, 0.009440302848815918, 0.02093098871409893, 0.024889366701245308, -0.04132090508937836, -0.056613340973854065, 0.03326176106929779, -0.04584883153438568, -0.010465494357049465, -0.04832637682557106, 0.04137785732746124, 0.0077458894811570644, -0.02144358493387699, -0.03297698497772217, 0.04021028056740761, 0.008165933191776276, 0.01768454909324646, 0.056613340973854065, 0.01794084720313549, 0.040039416402578354, 0.005528201349079609, -0.05265496298670769, 0.0007510950090363622, 0.015762316063046455, -0.018866367638111115, 0.026939747855067253, -0.055986832827329636, 0.059233274310827255, 0.08190139383077621, -0.025615543127059937, -0.006588989868760109, 0.028363624587655067, -0.033945221453905106, -0.023380056023597717, 0.004321466200053692, 0.04035266861319542, 0.04100764915347099, -0.06908649951219559, -0.003541893558576703, -0.00578805897384882, -0.015776554122567177, 0.03479954972863197, 0.05655638501048088, 0.0022087888792157173, 0.015192764811217785, 0.03300546482205391, 0.04530775919556618, -0.004542166832834482, -0.04009636864066124, -0.0760350227355957, 0.07136470079421997, -0.01263690646737814, 0.02080283872783184, 0.011291342787444592, 0.021742599084973335, -0.008144575171172619, 0.047899212688207626, -0.022084329277276993, -0.011939207091927528, 0.011469326913356781, 0.02302408777177334, -0.02703941985964775, 0.016403060406446457, 0.017527922987937927, 0.032920029014348984, -0.007874038070440292, 0.030670305714011192, -0.05285430699586868, -0.06732089072465897, 0.029702069237828255, 0.025943035259842873, -0.007347204256802797, -0.035055845975875854, -0.007539427373558283, -0.019222335889935493, 0.014188932254910469, 0.007902516052126884, 0.0035507925786077976, 0.0199342742562294, -0.009006020613014698, -0.003979735542088747, -0.002611034084111452, -0.00253984029404819, -0.006297095213085413, 0.021244240924715996, -0.007247532717883587, -0.017983563244342804, -0.032692208886146545, -0.013227814808487892, -0.021884985268115997, 0.03146767616271973, 0.03126833215355873, 0.007646218407899141, -0.05168672651052475, -0.02144358493387699, 0.027694402262568474, 0.015918942168354988, 0.02803613431751728, -0.009547093883156776, 0.021742599084973335, -0.01319221779704094, 0.015235481783747673, -0.0036985198967158794, 0.003759034676477313, -0.033802833408117294, 0.020874032750725746, -0.03898574411869049, -0.0094118257984519, 0.05854981392621994, 0.008137456141412258, 0.008044904097914696, 0.029331861063838005, -0.04419713467359543, -0.006012319587171078, -0.031837884336709976, -0.02627052552998066, -0.010558046400547028, -0.025615543127059937, 0.004648957867175341, -0.011419491842389107, 0.023764504119753838, 0.01903723180294037, -0.03001532144844532, 0.03129681199789047, -0.03844467177987099, 0.00025763269513845444, 0.009184004738926888, -0.01980612613260746, -0.013420038856565952, -0.015135809779167175, -0.005261224694550037, -0.01781269907951355, 0.009433183819055557, 0.007197697181254625, -0.030186187475919724, 0.021272718906402588, 0.008009307086467743, -0.029217950999736786, -0.006660183425992727, -0.011825296096503735, -0.03428695350885391, -0.004211115650832653, 0.029787501320242882, 0.022397581487894058, -0.02577216923236847, 0.0024775455240160227, 0.013206456787884235, -0.014430991373956203, 0.006293535232543945, 0.011035044677555561, 0.02302408777177334, 0.013555306941270828, -0.00034706995938904583, 0.0003036862181033939, 0.005054762586951256, 0.038672491908073425, 0.0007568795117549598, 0.008130336180329323, -0.018994515761733055, 0.016161002218723297, -0.04906679317355156, -0.03946986421942711, -0.0016534768510609865, -0.009091452695429325, -0.005812976974993944, -0.006841727998107672, 0.000481893279356882, 0.04251696169376373, 0.0066530643962323666, 0.022483013570308685, 0.017015326768159866, 0.02105913683772087, -0.026740405708551407, -0.023963846266269684, 0.04630447179079056, -0.0060336776077747345, -0.012095833197236061, -0.04898136109113693, 0.018966037780046463, 0.024633068591356277, 0.000873459386639297, 0.03112594597041607, -0.006425243802368641, 0.0015466861659660935, -0.020503824576735497, -0.035568442195653915, 0.015221242792904377, 0.021600211039185524, 0.016545448452234268, -0.004809143953025341, 0.031439200043678284, 0.004442495293915272, -0.02329462394118309, -0.013092546723783016, 0.0200339462608099, -0.010885537602007389, -0.016118284314870834, 0.013932634145021439, -0.019079947844147682, -0.02054654248058796, 0.016289150342345238, 0.03254982456564903, 0.016388822346925735, 0.037419483065605164, -0.006799011491239071, 0.007016152609139681, -0.005321739241480827, -0.018368009477853775, -0.0278795063495636, -0.01537786889821291, 0.0035561323165893555, 0.025971511378884315, 0.01327053178101778, -0.020959466695785522, -0.018467681482434273, 0.026882793754339218, -0.0168017465621233, 0.00953285489231348, 0.004289428703486919, -0.024220144376158714, 0.035426054149866104, -0.004435376264154911, -0.026113899424672127, 0.008315440267324448, 0.014039425179362297, 0.03895726799964905, -0.01376176904886961, -0.02068892866373062, -0.007187018170952797, 0.024106234312057495, 0.008550380356609821, -0.0018279018113389611, 0.01537786889821291, -0.01831105537712574, 0.011127596721053123, -0.013313247822225094, 0.017641833052039146, 0.007098025642335415, -0.0028388542123138905, 0.022240955382585526, 0.009739316999912262, -0.011213029734790325, 0.031951796263456345, -0.02766592614352703, 0.012935920618474483, -0.0077601284720003605, -0.0007279569981619716, -0.02318071387708187, 0.01457337848842144, -0.019393201917409897, 0.04710184410214424, -0.027224523946642876, 0.0016534768510609865, 0.03750491514801979, -0.019336245954036713, 0.019962752237915993, 0.00872124545276165, 0.018780933693051338, -0.006592549383640289, -0.01557721197605133, -0.005706185940653086, -0.0024739857763051987, 0.04895288497209549, -0.0016783947357907891, -0.020233288407325745, -0.02551587112247944, -0.041805021464824677, -0.004211115650832653, 0.016730552539229393, 0.016360344365239143, 0.03665058687329292, -0.0334041491150856, -0.01570536009967327, 0.021358150988817215, -0.01806899532675743, -0.002564758062362671, 0.00036153121618553996, -0.04026723653078079, 0.016986850649118423, 0.0036362253595143557, 0.0180832352489233, 0.02430557645857334, 0.05017741769552231, -0.0004801134346053004, 0.014851034618914127, -0.020575018599629402, -0.004349943716078997, -0.03949834033846855, -0.04100764915347099, -0.014188932254910469, -0.012565712444484234, -0.0010136222699657083, 0.015135809779167175, 0.023949606344103813, -0.037163183093070984, -0.010052570141851902, 0.019777648150920868, -0.009091452695429325, 0.010052570141851902, -0.010259032249450684, 0.012530115433037281, 0.0006563182105310261, 0.017784221097826958, 0.037533391267061234, -0.009625406935811043, 0.05017741769552231, -0.015249719843268394, 0.019350485876202583, 0.0024597470182925463, -0.012423324398696423, 0.09796272218227386, -0.011946326121687889, -0.004285869188606739, 0.009988495148718357, -0.0013838302111253142, -0.023593638092279434, 0.002714265137910843, -5.5342086852760985e-05, -0.008251366205513477, 0.002118016593158245, -0.02078860066831112, -0.02004818432033062, 0.022397581487894058, 0.012359250336885452, -0.00010801439930219203, 0.02429133839905262, -0.0026893471367657185, 0.007575024385005236, 0.009062975645065308, -0.0017753962893038988, -0.019606783986091614, -0.032065704464912415, 0.02451915852725506, -0.0004456289461813867, 0.030470963567495346, -0.02614237740635872, 0.0035917290952056646, -0.06555528938770294, 0.021756837144494057, -0.04257391393184662, -0.02477545663714409, 0.005432089790701866, -0.0009201803477481008, -0.0287907887250185, -0.012102952226996422, 0.009404705837368965, 0.030186187475919724, 0.06914345920085907, -0.01758487895131111, -0.013889918103814125, -0.018012041226029396, 0.027181807905435562, 0.002125136088579893, -0.019478633999824524, -0.005930446553975344, -0.015990136191248894, -0.03260677680373192, -0.02392113022506237, -0.03622342646121979, 0.03237895667552948, -0.02776559628546238, -0.0027249441482126713, 0.01757063902914524, -0.02242605946958065, 0.013106785714626312, 0.027865268290042877, -0.015050377696752548, -0.02266811765730381, 0.0003163676301483065, 0.021856509149074554, 0.002778339432552457, -0.020760122686624527, 0.013946873135864735, -0.004542166832834482, -0.009881705045700073, 0.0010625680442899466, -0.008749722503125668, -0.013142382726073265, -0.023365817964076996, 0.019364723935723305, 0.021870747208595276, 0.04160567745566368, 0.022198239341378212, -0.017271624878048897, 0.00933351181447506, 0.026569539681077003, -0.036194946616888046, 0.0032838156912475824, -0.02453339658677578, 0.012288056313991547, -0.027822552248835564, -0.04234609380364418, -0.001003833138383925, -0.03952682018280029, 0.010465494357049465, 0.01583351008594036, 0.006948518566787243, 0.015349391847848892, 0.023095281794667244, 0.035312142223119736, -0.024220144376158714, 0.005684827920049429, 0.002570097567513585, 0.0035579120740294456, 0.004040250554680824, 0.015776554122567177, -0.01831105537712574, -0.0017273405101150274, 0.009504377841949463, 0.008336798287928104, -0.006247259210795164, 0.04442495480179787, 0.04898136109113693, -0.03425847366452217, -0.010572285391390324, 0.0074539948254823685, 0.0010741370497271419, -0.010365823283791542, 0.00914840865880251, 0.017983563244342804, 0.024120472371578217, -0.030556395649909973, -0.01581927016377449, -0.05313907936215401, 0.00866429042071104, -0.022255193442106247, -0.0055246418341994286, -0.02155749499797821, -0.033461105078458786, 0.018097473308444023, -0.008927707560360432, -0.010721792466938496, -0.002370754722505808, 0.023266145959496498, -0.0016588164726272225, -0.03146767616271973, 0.018837889656424522, -0.020717406645417213, -0.01943591795861721, -0.002386773470789194, 0.00927655678242445, 0.012231101281940937, 0.006218781694769859, -0.012067355215549469, -0.04345671832561493, 0.023636354133486748, -0.036081038415431976, -0.020646212622523308, 0.017214670777320862, -0.01151204388588667, -0.03938443213701248, -0.013163740746676922, -0.0007720082066953182, -0.021087614819407463, 0.04374149441719055, -0.02776559628546238, 0.006920041050761938, 0.0019542707595974207, 0.030442485585808754, 0.01557721197605133, -0.014167574234306812, -0.010422778315842152, 0.013626500964164734, 0.015107332728803158, -0.00797371007502079, 0.005421410780400038, 0.023579400032758713, -0.03770425543189049, 0.009354870766401291, -0.016602402552962303, 0.0030079397838562727, -0.00958980992436409, 0.021500539034605026, 0.035938650369644165, -0.03665058687329292, -0.010508210398256779, -0.009810511022806168, -0.028719594702124596, 0.0005286142695695162, -0.012081594206392765, 0.0074468753300607204, 0.0021002183202654123, 0.014160454273223877, -0.018852127715945244, 0.011682908982038498, -0.026768883690238, 0.005133075639605522, 0.005567358341068029, -0.0020646213088184595, -0.016104046255350113, -0.0009006020263768733, 0.012658264487981796, -0.02041839249432087, -0.009618287906050682, 0.01183241605758667, 0.006581870373338461, 0.057496145367622375, 0.00028032573754899204, 0.001079476554878056, -0.04311498999595642, 0.0004890126874670386, -0.039185088127851486, 0.005314620211720467, -0.033090896904468536, 0.010529568418860435, 0.0068559665232896805, 0.0074468753300607204, 0.007518069352954626, -0.015634166076779366, 0.04023875668644905, -0.007354323286563158, 0.001414087601006031, 0.023949606344103813, 0.012743697501718998, -0.0485541969537735, -0.0010180718963965774, 0.033062417060136795, -0.05595835670828819, 0.016844462603330612, -0.020233288407325745, 0.005492604803293943, -0.007874038070440292, -0.0034795987885445356, -0.04496602714061737, 0.019706454128026962, -0.009369108825922012, 0.009048736654222012, 0.005873491521924734, 0.026128139346837997, -0.021642927080392838, -0.009077214635908604, -0.02241181954741478, -0.0016080908244475722, 0.03610951453447342, -0.034201521426439285, -0.003969056531786919, -0.01227381732314825, -0.0074682338163256645, 0.034059133380651474, 0.0038800642360001802, -0.00991018209606409, -0.022710833698511124, -0.013996708206832409, 0.02115880884230137, -0.02577216923236847, 0.005054762586951256, 0.03235048055648804, -0.028363624587655067, -0.023622116073966026, -0.035426054149866104, 0.0239068903028965, 0.017015326768159866, -0.009604048915207386, 0.005521082319319248, -0.015221242792904377, 0.03813141956925392, 0.028377864509820938, -0.03260677680373192, -0.0004983568796887994, 0.018496159464120865, 0.002790798433125019, 0.005207829177379608, -0.024319814518094063, 0.024191666394472122, 0.0037341169081628323, 0.020731646567583084, 0.0058841705322265625, 0.023992324247956276, 0.017371296882629395, 0.023251907899975777, -0.018211383372545242, 0.022255193442106247, 0.03129681199789047, -0.034059133380651474, -0.01818290539085865, 0.06077105924487114, 0.0010892656864598393, -0.01109199970960617, -0.023394295945763588, -0.04012484848499298, 0.027224523946642876, -0.0017397993942722678, 0.021087614819407463, -0.022596923634409904, -0.0052932617254555225, 0.0065783108584582806, -0.0016659358516335487, 0.007279569748789072, 0.020874032750725746, 0.01906570978462696, -0.011312700808048248, 0.009974257089197636, 0.020261766389012337, 0.004207555670291185, 0.04542166739702225, 0.004090086091309786, 0.011504923924803734, 0.027936462312936783, -0.02241181954741478, 0.041150037199258804, -0.006621026899665594, -0.007674695923924446, -0.026341719552874565, 0.002826395444571972, -0.021101852878928185, -0.01033022627234459, -0.025131424888968468, -0.0031076110899448395, 0.016460014507174492, -0.024319814518094063, 0.016004374250769615, 0.019279291853308678, 0.04732966423034668, -0.029730547219514847, 0.011355416849255562, -0.015904704108834267, 0.008699887432157993, -0.009974257089197636, 0.018966037780046463, 0.011170313693583012, 0.028990130871534348, -0.026313243433833122, -0.01954982802271843, 0.007112264633178711, 0.016986850649118423, 0.03163854032754898, 0.011476446874439716, -0.012800652533769608, -6.146030500531197e-05, 0.008009307086467743, -0.03650819882750511, -0.009611167944967747, 0.018353771418333054, -0.019393201917409897, -0.028206998482346535, -0.047386620193719864, 0.052512574940919876, 0.012373489327728748, -0.013982470147311687, 0.00877820048481226, 0.001487061264924705, 0.04918070510029793, 0.04285869002342224, -0.01990579627454281, 0.02530229091644287, -0.015363629907369614, 0.03995398059487343, 0.010465494357049465, 0.01957830600440502, 0.018481919541954994, -0.014794079586863518, 0.027737120166420937, 0.021258480846881866, 0.021472061052918434, 0.003055995563045144, 0.0278795063495636, -0.011561878956854343, 0.012366369366645813, 0.03588169440627098, -0.014580498449504375, 0.027751358225941658, -0.024319814518094063, -0.0028851302340626717, -0.06806130707263947, -0.0006914701662026346, -0.003904982004314661, -0.012316534295678139, 0.029844457283616066, -0.01128422375768423, 0.03198027238249779, -0.01745672896504402, 0.0076177408918738365, -0.051487382501363754, 0.0012690301518887281, 0.013035591691732407, -0.017157714813947678, -0.0010590082965791225, -0.001002943143248558, -0.003990414552390575, -0.04604817554354668, -0.0010109525173902512, -0.0006095972494222224, -0.023394295945763588, 0.028477534651756287, -0.005318179726600647, -0.005791618954390287, 0.038786403834819794, -0.004787785466760397, 0.03747643530368805, -0.012971517629921436, -0.014160454273223877, 0.01487951260060072, 0.0033567894715815783, 0.019492872059345245, -0.004371301736682653, 0.0046774353832006454, -0.006268617697060108, 0.02777983620762825, -0.0096467649564147, 0.03958377242088318, -0.027452344074845314, -0.059745870530605316, -0.0005517522222362459, -0.0055246418341994286, 0.006898683030158281, -0.020347198471426964, 0.01021631620824337, 0.0031503273639827967, -0.010408539324998856, -0.028064610436558723, 0.02140086703002453, -0.013341724872589111, -0.010607881471514702, -0.02043263241648674, 0.0356253981590271, 0.005916208028793335, 0.016146762296557426, 0.008194411173462868, 0.02826395444571972, 0.03277764469385147, 0.0038017509505152702, -0.016545448452234268, -0.0015911823138594627, 0.039299000054597855, -0.0011195230763405561, -0.007368562277406454, 0.0348849818110466, 0.006621026899665594, -0.023721786215901375, -0.021087614819407463, -0.0041541606187820435, -0.027737120166420937, -0.003684281138703227, 0.003338990965858102, 0.0036629228852689266, 0.0378466434776783, 0.041520245373249054, 0.01731434091925621, -0.014174693264067173, 0.042773257941007614, 0.007724531460553408, -0.005033404566347599, -0.048383332788944244, -0.0278795063495636, 0.029986845329403877, -0.0016605962300673127, 0.029246428981423378, -0.022981371730566025, 0.04881049692630768, -0.03112594597041607, -0.004414017777889967, -0.008806677535176277, 0.023009847849607468, -0.007354323286563158, -0.0031859243754297495, -0.007831322029232979, -0.011633072979748249, 0.0069698765873909, 0.029531205072999, -0.005652790889143944, 0.019649500027298927, -0.015249719843268394, 0.016260672360658646, 0.021144570782780647, -0.004716591909527779, -0.008550380356609821, -0.060486286878585815, 0.019151141867041588, 0.02179955318570137, -0.04075135290622711, 0.030072277411818504, -0.018496159464120865, -0.02525957301259041, 0.025003276765346527, -0.02202737331390381, 0.014359797351062298, 0.0007546546985395253, -0.011882252059876919, 0.02501751482486725, -0.010315987281501293, -0.0017762862844392657, 0.01482255756855011, -0.016887178644537926, 0.035682350397109985, -0.0027712201699614525, 0.09853227436542511, -0.02105913683772087, -0.007696053944528103, -0.019891558215022087, 0.024077756330370903, 0.0013179759262129664, 0.005236306693404913, 0.0068559665232896805, -0.007724531460553408, 0.050490669906139374, 0.01705804280936718, 0.015648405998945236, -0.03949834033846855, 0.04305803403258324, -0.001037650159560144, 0.02927490696310997, -0.03015770949423313, -0.025387722998857498, -0.0012539015151560307, 0.01382584311068058, 0.016232194378972054, -0.005549559835344553, -0.05305364727973938, -0.0029242869932204485, -0.04100764915347099, -0.025003276765346527, 0.012672503478825092, 0.032920029014348984, 0.034315429627895355, -0.001640128088183701, 0.019222335889935493, -0.012871845625340939, 0.021087614819407463, -0.031040513888001442, -0.006030118092894554, -0.01979188621044159, 0.0036593633703887463, -0.016146762296557426, 0.025601305067539215, -0.010073928162455559, 0.00567058939486742, -0.01683022268116474, 0.015548733994364738, -0.021984657272696495, 0.036821454763412476, 0.0094118257984519, -0.0044531747698783875, 0.00600520009174943, -0.002897589234635234, 0.016004374250769615, -0.007361442781984806, 0.009554212912917137, 0.04841180890798569, 0.0008952625212259591, -0.0013339945580810308, 0.012551473453640938, 0.027737120166420937, 0.03078421577811241, 0.038786403834819794, 0.018994515761733055, 0.017969325184822083, 0.0319233164191246, -0.03761882334947586, -0.006510676350444555, 0.01769878901541233, -0.0287907887250185, -0.06361881643533707, 0.004798464477062225, -9.72797060967423e-05, 0.03835923969745636, -0.008963304571807384, -0.006485758814960718, 0.024889366701245308, -0.02316647581756115, 0.04758596047759056, -0.004118563607335091, 0.036422766745090485, -0.02588607929646969, -0.0029207272455096245, 0.017470967024564743, -0.010301748290657997, 0.020717406645417213, -0.003954817540943623, -0.009767794981598854, -0.03699231892824173, -0.0313822440803051, 0.0009869246277958155, -0.047785304486751556, -0.003638005116954446, 0.01892332173883915, 0.010736030526459217, 0.031553108245134354, 0.0018403606954962015, 0.006991235073655844, -0.0006122670019976795, 0.002045043045654893, -0.02355092205107212, -0.006670862436294556, -0.004809143953025341, -0.0015030798967927694, 0.0004676545213442296, 0.010622120462357998, 0.005072561092674732, 0.006902242545038462, 0.009020259603857994, -0.0266692116856575, 0.0001420539483660832, -0.02803613431751728, -0.04143481329083443, -0.026484107598662376, 0.026811599731445312, 0.005926887039095163, -0.017599117010831833, -0.015406346879899502, 0.021628689020872116, -0.006710019428282976, 0.001523548155091703, 0.0099671371281147, -0.031325288116931915, 0.015121571719646454, 0.017285864800214767, 0.021358150988817215, 0.0035062965471297503, 0.05350928753614426, 0.01140525285154581, 0.010251912288367748, 0.05094631016254425, -0.006724257953464985, 0.04146329313516617, 0.017285864800214767, -0.026726167649030685, 0.020888272672891617, 0.008080501109361649, -0.006382527761161327, 0.010878418572247028, -0.008685648441314697, -0.024746978655457497, -0.03189484030008316, -0.03724861517548561, 0.006827489007264376, -0.011049283668398857, 0.012295176275074482, 0.0016116505721583962, 0.0026092540938407183, -0.01263690646737814, 0.005382254254072905, 0.002635951852425933, 0.0029670032672584057, -0.026455629616975784, 0.016531208530068398, -0.015249719843268394, 0.01966373808681965, -0.03995398059487343, 0.017371296882629395, 0.02664073370397091, -0.029531205072999, 0.011497804895043373, 0.01537786889821291, -0.011269984766840935, 0.015605689026415348, 0.009013139642775059, -0.0023013409227132797, -0.049408525228500366, 0.017656071111559868, 0.02118728682398796, 0.0031823646277189255, -0.00933351181447506, -0.011796819046139717, -0.016132524237036705, 0.04732966423034668, 0.021230002865195274, -0.008379514329135418, 0.0011408812133595347, -0.020219050347805023, 0.0067135789431631565, -0.030414007604122162, 0.0034813787788152695, 0.02430557645857334, -0.0026341720949858427, 0.008856513537466526, -0.019022993743419647, -0.03576778620481491, 0.01364785898476839, 0.030300097540020943, -0.023109519854187965, 0.019777648150920868, -0.02501751482486725, -0.026071183383464813, 0.01583351008594036, -0.0260284673422575, 0.002004106529057026, -0.021728359162807465, -0.006072834599763155, 0.0027035861276090145, 0.009696600958704948, 0.05570206046104431, -0.010166480205953121, -0.04123547300696373, 0.007966590113937855, 0.02729571796953678, -0.044538866728544235, -0.0139397531747818, -0.00535733625292778, 0.054733823984861374, 0.04348519816994667, -0.019834604114294052, 0.005407172255218029, 0.01982036419212818, 0.012992875650525093, -0.03334719315171242, -0.001897315843962133, -0.012914562597870827, 0.0021411546040326357, 0.011754103004932404, -0.0038195494562387466, 0.006215222179889679, -0.00771741196513176, 0.02315223589539528, 0.01214566919952631, -0.008180172182619572, -0.012359250336885452, -0.02567249722778797, -0.008934826590120792, -0.006621026899665594, 0.004851859994232655, -0.012124310247600079, 0.031951796263456345, -0.007432636804878712, -0.012373489327728748, 0.03477106988430023, -0.02852025255560875, 0.017257386818528175, 0.0076035019010305405, 0.012629786506295204, -0.04986416548490524, 0.02678312174975872, -0.04599121958017349, 0.022753551602363586, -0.003965497016906738, 0.0016908536199480295, -0.013519709929823875, 0.002274643164128065, 0.030442485585808754, 0.0007751228986307979, -0.004100765101611614, 0.0356253981590271, -0.002258624415844679, 0.03713470697402954, 0.0028833504766225815, 0.007510949857532978, -0.022226715460419655, 0.0443110466003418, -0.0004144816193729639, -0.011099119670689106, 0.000556201848667115, -0.00647507980465889, 0.018780933693051338, 0.024106234312057495, 0.0004216009983792901, 0.022326387465000153, 0.013434276916086674, -0.015890464186668396, 0.00019422569312155247, -0.02115880884230137, -0.02004818432033062, 0.017713027074933052, -0.01930776983499527, 0.015790794044733047, -0.009639645926654339, 0.003273136680945754, -0.01420317031443119, -0.0074682338163256645, -0.030214665457606316, -0.01853887550532818, -0.025686737149953842, 0.03440086171030998, -0.01768454909324646, -0.025345006957650185, 0.02580064721405506, -0.026982463896274567, -0.009084333665668964, 0.023479728028178215, -0.004364182241261005, 0.031837884336709976, -0.020276004448533058, 0.004819822963327169, 0.029673591256141663, 0.01252299640327692, 0.023251907899975777, 0.024960558861494064, -0.008322559297084808, 0.0174424909055233, 0.020518064498901367, 0.022611163556575775, 0.05618617683649063, -0.0014559139963239431, 0.001600971445441246, -0.004809143953025341, -0.022383343428373337, 0.012594190426170826, -0.03776121139526367, -0.024447964504361153, -0.015392107889056206, 0.013583783991634846, 0.025345006957650185, 0.03833076357841492, 0.0015902923187240958, 0.001301067415624857, -0.005190030671656132, 0.0051508741453289986, -0.028719594702124596, 0.025316528975963593, 0.04331433027982712, 0.0076035019010305405, 0.03283459693193436, 0.0002885575231630355, 0.029815979301929474, -0.0010883758077397943, 0.0214151069521904, 0.016659358516335487, 0.007340084761381149, 0.004033131059259176, 0.00728312972933054, 0.008998901583254337, 0.04459581896662712, -0.022070089355111122, -0.015733838081359863, -0.005841454491019249, 0.015520256944000721, -0.0021144570782780647, 0.021258480846881866, -0.006934280041605234, 0.005364455748349428, 0.011796819046139717, 0.04741509631276131, -0.011590356938540936, 0.0036326656118035316, 0.036792974919080734, 0.011811058036983013, -0.02478969469666481, -0.032806120812892914, 0.014544901438057423, 0.014167574234306812, -0.010586523450911045, 0.0011595695978030562, 0.016403060406446457, -0.031553108245134354, -0.0448521189391613, 0.022611163556575775, -0.0005005816929042339, 0.03425847366452217, -7.884161277615931e-06, 0.0007524298853240907, -0.018866367638111115, -0.023508206009864807, -0.03186636045575142, 0.031182901933789253, -0.030100755393505096, 0.0036593633703887463, -0.0046026818454265594, 0.016545448452234268, -0.00030257381149567664, -0.026085421442985535, -0.013121024705469608, -0.011540520936250687, 0.04650381579995155, -0.01769878901541233, -0.020902510732412338, 0.021756837144494057, 0.0009611168061383069, 0.008984662592411041, -0.030100755393505096, 0.014288603328168392, -0.0527973510324955, -0.012544354423880577, -0.008585977368056774, 0.03001532144844532, 0.024618828669190407, -0.0018083235481753945, -0.04001093655824661, 0.04368453845381737, -0.018353771418333054, 0.035682350397109985, 0.014060783199965954, 0.017243146896362305, 0.024561874568462372, -0.03662211075425148, -0.009433183819055557, -0.010002734139561653]\n"
          ]
        }
      ]
    },
    {
      "cell_type": "code",
      "source": [
        "#Jaccard Index\n",
        "\n",
        "from nltk.util import ngrams\n",
        "\n",
        "def jaccard_index(text1, text2, n=3):\n",
        "    \"\"\"Calculate Jaccard index using n-grams for better comparison of longer texts.\"\"\"\n",
        "    set1 = set(ngrams(text1.split(), n))\n",
        "    set2 = set(ngrams(text2.split(), n))\n",
        "\n",
        "    intersection = len(set1.intersection(set2))\n",
        "    union = len(set1.union(set2))\n",
        "\n",
        "    return intersection / union if union != 0 else 0"
      ],
      "metadata": {
        "id": "DRWj057NLbhu"
      },
      "execution_count": 20,
      "outputs": []
    },
    {
      "cell_type": "markdown",
      "metadata": {
        "id": "foxCuk4uX7JA"
      },
      "source": [
        "# Apply readability/similarity functions"
      ]
    },
    {
      "cell_type": "code",
      "execution_count": 27,
      "metadata": {
        "id": "Bi1nuaJ4byYZ"
      },
      "outputs": [],
      "source": [
        "#This function calculates the individual metrics (cosine similarity, jaccard index, flesch score, coleman-liau) individually\n",
        "def process_text_comparisons(df):\n",
        "\n",
        "    # Ensure required columns exist\n",
        "    required_columns = [\"ushmm_article\", \"GPT-4o Response\", \"Gemini Response\", \"Grok Response\"]\n",
        "    if not all(col in df.columns for col in required_columns):\n",
        "        raise ValueError(f\"CSV must contain the columns: {required_columns}\")\n",
        "\n",
        "    # Compute Readability and Word Count\n",
        "    for col in required_columns:\n",
        "        df[f\"{col} - Word Count\"] = df[col].apply(count_words)\n",
        "        df[f\"{col} - Flesch Score\"] = df[col].apply(flesch_reading_ease)\n",
        "        df[f\"{col} - Coleman-Liau\"] = df[col].apply(coleman_liau_index)\n",
        "\n",
        "    # Pairwise Comparisons\n",
        "    pairings = [\n",
        "        (\"ushmm_article\", \"GPT-4o Response\"),\n",
        "        (\"ushmm_article\", \"Gemini Response\"),\n",
        "        (\"ushmm_article\", \"Grok Response\"),\n",
        "        (\"GPT-4o Response\", \"Gemini Response\"),\n",
        "        (\"GPT-4o Response\", \"Grok Response\"),\n",
        "        (\"Gemini Response\", \"Grok Response\"),\n",
        "    ]\n",
        "\n",
        "    for col1, col2 in pairings:\n",
        "        df[f\"{col1}/{col2} - Cosine Sim\"] = df.apply(lambda row: cosine_similarity_text_2(row[col1], row[col2]), axis=1)\n",
        "        df[f\"{col1}/{col2} - Jaccard Index\"] = df.apply(lambda row: jaccard_index(row[col1], row[col2]), axis=1)\n",
        "\n",
        "    return df\n",
        "\n",
        "#calculates word count only\n",
        "def process_word_count(df):\n",
        "\n",
        "    # Ensure required columns exist\n",
        "    required_columns = [\"ushmm_article\", \"GPT-4o Response\", \"Gemini Response\", \"Grok Response\"]\n",
        "    if not all(col in df.columns for col in required_columns):\n",
        "        raise ValueError(f\"CSV must contain the columns: {required_columns}\")\n",
        "\n",
        "    # Compute Readability and Word Count\n",
        "    for col in required_columns:\n",
        "        df[f\"{col} - Word Count\"] = df[col].apply(count_words)\n",
        "        df[f\"{col} - Flesch Score\"] = df[col].apply(flesch_reading_ease)\n",
        "        df[f\"{col} - Coleman-Liau\"] = df[col].apply(coleman_liau_index)\n",
        "    return df\n",
        "\n",
        "#Function for computing the composite similarity between two texts\n",
        "def composite_similarity(text1, text2):\n",
        "    cos = cosine_similarity_text_2(text1, text2)\n",
        "    jac = jaccard_index(text1, text2)\n",
        "    flesch_sim = 1 - max(0, 1 - abs(flesch_reading_ease(text1) - flesch_reading_ease(text2)) / 100)\n",
        "    cli_sim = 1 - abs(coleman_liau_index(text1) - coleman_liau_index(text2)) / 20\n",
        "    return round(0.4 * cos + 0.3 * jac + 0.15 * flesch_sim + 0.15 * cli_sim, 4)\n",
        "\n",
        "#Function for taking in a df of USHMM, GPT, Gemini, and Grok responses to queries  and computing the composite similarities between each responses for each query\n",
        "def compute_composite_similarity_scores(df):\n",
        "    \"\"\"\n",
        "    Prepares a DataFrame by selecting specific columns, adding empty columns for similarity scores,\n",
        "    and computing similarity between specified pairs of text fields.\n",
        "\n",
        "    Args:\n",
        "        df (pd.DataFrame): The input DataFrame.\n",
        "\n",
        "    Returns:\n",
        "        pd.DataFrame: A new DataFrame with similarity columns populated.\n",
        "    \"\"\"\n",
        "    import pandas as pd\n",
        "\n",
        "    # Define the columns to keep\n",
        "    columns_to_keep = [\n",
        "        'location', 'Top queries', 'ushmm_article',\n",
        "        'GPT-4o Response', 'Gemini Response', 'Grok Response'\n",
        "    ]\n",
        "\n",
        "    # Define the new empty columns to add\n",
        "    new_columns = [\n",
        "        'USHMM-GPT Similarity', 'USHMM-Gemini Similarity', 'USHMM-Grok Similarity',\n",
        "        'GPT-Gemini Similarity', 'GPT-Grok Similarity', 'Gemini-Grok Similarity',\n",
        "        'Notes'\n",
        "    ]\n",
        "\n",
        "    # Filter the DataFrame to keep only the required columns\n",
        "    df_cleaned = df[columns_to_keep].copy()\n",
        "\n",
        "    # Add the new empty columns\n",
        "    for col in new_columns:\n",
        "        df_cleaned[col] = \"\"\n",
        "\n",
        "    # Define the text column pairs for which similarity is computed\n",
        "    pairs = [\n",
        "        (\"ushmm_article\", \"GPT-4o Response\", \"USHMM-GPT Similarity\"),\n",
        "        (\"ushmm_article\", \"Gemini Response\", \"USHMM-Gemini Similarity\"),\n",
        "        (\"ushmm_article\", \"Grok Response\", \"USHMM-Grok Similarity\"),\n",
        "        (\"GPT-4o Response\", \"Gemini Response\", \"GPT-Gemini Similarity\"),\n",
        "        (\"GPT-4o Response\", \"Grok Response\", \"GPT-Grok Similarity\"),\n",
        "        (\"Gemini Response\", \"Grok Response\", \"Gemini-Grok Similarity\")\n",
        "    ]\n",
        "\n",
        "    # Compute the similarity for each specified pair\n",
        "    for col1, col2, new_col in pairs:\n",
        "        df_cleaned[new_col] = df_cleaned.apply(\n",
        "            lambda row: composite_similarity(row[col1], row[col2]),\n",
        "            axis=1\n",
        "        )\n",
        "\n",
        "    return df_cleaned"
      ]
    },
    {
      "cell_type": "code",
      "execution_count": 28,
      "metadata": {
        "id": "JXcGZ92ntPtW"
      },
      "outputs": [],
      "source": [
        "df_2_with_composite = compute_composite_similarity_scores(df_2)"
      ]
    },
    {
      "cell_type": "code",
      "source": [
        "print(df_2_with_composite.head())"
      ],
      "metadata": {
        "id": "dDyUj2TvSfHy"
      },
      "execution_count": null,
      "outputs": []
    },
    {
      "cell_type": "code",
      "source": [
        "us_search_responses_df_with_composite = compute_composite_similarity_scores(us_search_responses_df)"
      ],
      "metadata": {
        "id": "-DOoZa33WRyX"
      },
      "execution_count": null,
      "outputs": []
    },
    {
      "cell_type": "code",
      "source": [
        "print(us_search_responses_df_with_composite.head())"
      ],
      "metadata": {
        "id": "bRfHokLmWWMt"
      },
      "execution_count": null,
      "outputs": []
    }
  ]
}