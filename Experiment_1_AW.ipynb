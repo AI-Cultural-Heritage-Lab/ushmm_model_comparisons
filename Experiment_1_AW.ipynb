{
  "cells": [
    {
      "cell_type": "markdown",
      "metadata": {
        "id": "view-in-github",
        "colab_type": "text"
      },
      "source": [
        "<a href=\"https://colab.research.google.com/github/AI-Cultural-Heritage-Lab/ushmm_model_comparisons/blob/main/Experiment_1_AW.ipynb\" target=\"_parent\"><img src=\"https://colab.research.google.com/assets/colab-badge.svg\" alt=\"Open In Colab\"/></a>"
      ]
    },
    {
      "cell_type": "markdown",
      "metadata": {
        "id": "vNOybnzMXIik"
      },
      "source": [
        "# 1a. Setup"
      ]
    },
    {
      "cell_type": "code",
      "execution_count": null,
      "metadata": {
        "colab": {
          "base_uri": "https://localhost:8080/"
        },
        "collapsed": true,
        "id": "Ai1El8qGaiPd",
        "outputId": "7fffe05f-0fcf-4382-f17a-b0479bdc2da5"
      },
      "outputs": [
        {
          "output_type": "stream",
          "name": "stdout",
          "text": [
            "Requirement already satisfied: openai in /usr/local/lib/python3.11/dist-packages (1.78.0)\n",
            "Collecting openai\n",
            "  Downloading openai-1.78.1-py3-none-any.whl.metadata (25 kB)\n",
            "Requirement already satisfied: anyio<5,>=3.5.0 in /usr/local/lib/python3.11/dist-packages (from openai) (4.9.0)\n",
            "Requirement already satisfied: distro<2,>=1.7.0 in /usr/local/lib/python3.11/dist-packages (from openai) (1.9.0)\n",
            "Requirement already satisfied: httpx<1,>=0.23.0 in /usr/local/lib/python3.11/dist-packages (from openai) (0.28.1)\n",
            "Requirement already satisfied: jiter<1,>=0.4.0 in /usr/local/lib/python3.11/dist-packages (from openai) (0.9.0)\n",
            "Requirement already satisfied: pydantic<3,>=1.9.0 in /usr/local/lib/python3.11/dist-packages (from openai) (2.11.4)\n",
            "Requirement already satisfied: sniffio in /usr/local/lib/python3.11/dist-packages (from openai) (1.3.1)\n",
            "Requirement already satisfied: tqdm>4 in /usr/local/lib/python3.11/dist-packages (from openai) (4.67.1)\n",
            "Requirement already satisfied: typing-extensions<5,>=4.11 in /usr/local/lib/python3.11/dist-packages (from openai) (4.13.2)\n",
            "Requirement already satisfied: idna>=2.8 in /usr/local/lib/python3.11/dist-packages (from anyio<5,>=3.5.0->openai) (3.10)\n",
            "Requirement already satisfied: certifi in /usr/local/lib/python3.11/dist-packages (from httpx<1,>=0.23.0->openai) (2025.4.26)\n",
            "Requirement already satisfied: httpcore==1.* in /usr/local/lib/python3.11/dist-packages (from httpx<1,>=0.23.0->openai) (1.0.9)\n",
            "Requirement already satisfied: h11>=0.16 in /usr/local/lib/python3.11/dist-packages (from httpcore==1.*->httpx<1,>=0.23.0->openai) (0.16.0)\n",
            "Requirement already satisfied: annotated-types>=0.6.0 in /usr/local/lib/python3.11/dist-packages (from pydantic<3,>=1.9.0->openai) (0.7.0)\n",
            "Requirement already satisfied: pydantic-core==2.33.2 in /usr/local/lib/python3.11/dist-packages (from pydantic<3,>=1.9.0->openai) (2.33.2)\n",
            "Requirement already satisfied: typing-inspection>=0.4.0 in /usr/local/lib/python3.11/dist-packages (from pydantic<3,>=1.9.0->openai) (0.4.0)\n",
            "Downloading openai-1.78.1-py3-none-any.whl (680 kB)\n",
            "\u001b[2K   \u001b[90m━━━━━━━━━━━━━━━━━━━━━━━━━━━━━━━━━━━━━━━━\u001b[0m \u001b[32m680.9/680.9 kB\u001b[0m \u001b[31m10.4 MB/s\u001b[0m eta \u001b[36m0:00:00\u001b[0m\n",
            "\u001b[?25hInstalling collected packages: openai\n",
            "  Attempting uninstall: openai\n",
            "    Found existing installation: openai 1.78.0\n",
            "    Uninstalling openai-1.78.0:\n",
            "      Successfully uninstalled openai-1.78.0\n",
            "Successfully installed openai-1.78.1\n",
            "Mounted at /content/drive\n"
          ]
        }
      ],
      "source": [
        "#import API keys and mount google drive\n",
        "from google.colab import drive\n",
        "from google.colab import userdata\n",
        "!pip install --upgrade openai\n",
        "#make sure we have openAI and Gemini access tokens before proceeding (key icon on left)\n",
        "import os\n",
        "from openai import OpenAI\n",
        "import google.generativeai as genai\n",
        "# Pass the API key to Open AI\n",
        "os.environ['OPEN_AI_API_KEY'] = userdata.get(\"OPEN_AI_PROJECT_KEY\")\n",
        "client = OpenAI(api_key=os.environ.get(\"OPEN_AI_API_KEY\"))\n",
        "# Pass the API key to Gemini\n",
        "os.environ['GEMINI_API_KEY'] = userdata.get(\"GEMINI_PROJECT_KEY\")\n",
        "# Pass the API key to Grok\n",
        "os.environ['GROK_API_KEY'] = userdata.get(\"GROK_PROJECT_KEY\")\n",
        "# Pass the API key to SERP\n",
        "os.environ['SERP_API_KEY'] = userdata.get(\"SERP_PROJECT_KEY\")\n",
        "#mount drive\n",
        "drive.mount('/content/drive')"
      ]
    },
    {
      "cell_type": "code",
      "execution_count": null,
      "metadata": {
        "id": "yAE6SRC9Avvy"
      },
      "outputs": [],
      "source": [
        "## Import Data\n",
        "\n",
        "import gdown\n",
        "import pandas as pd\n",
        "\n",
        "def download_data_from_gdrive(url, output_file=\"file.xlsx\"):\n",
        "    export_url= f\"{url}\"+\"/export?format=xlsx\"\n",
        "    gdown.download(export_url, output_file, quiet=False, fuzzy=True)\n",
        "    return output_file\n",
        "\n",
        "# Import Holocaust Encyclopedia - search queries from United States 2024\n",
        "url_US = 'https://docs.google.com/spreadsheets/d/1RP_hqP3RRwR-PSx-dpHf7-GS3OmI6NvE'\n",
        "export_url_US= f\"{url_US}\"+\"/export?format=xlsx\"\n",
        "temp_file_US = \"file_US.xlsx\"\n",
        "\n",
        "#search queries from Russia\n",
        "url_RUS = 'https://docs.google.com/spreadsheets/d/1f4Sl6chwo9Wf7AQlZc9xjRtBonErQd3s5zzZBjeLkSQ/edit?gid=2013358683#gid=2013358683'\n",
        "export_url_RUS= f\"{url_RUS}\"+\"/export?format=xlsx\"\n",
        "temp_file_RUS = \"file_RUS.xlsx\"\n",
        "\n",
        "#ALL 6000 search queries (1000 for each country - USA, Germany, S Korea, Russia, Turkey, China)\n",
        "url_ALL = 'https://docs.google.com/spreadsheets/d/1i6PRehieuZKl2Zk7EoJFjwRuS4e-NR8mtBAbTt6rZ4c/edit?gid=525940975#gid=525940975'\n",
        "export_url_ALL= f\"{url_ALL}\"+\"/export?format=xlsx\"\n",
        "temp_file_ALL = \"file_ALL.xlsx\"\n",
        "\n",
        "# Download the file\n",
        "#gdown.download(export_url_US, temp_file_US, quiet=False, fuzzy=True)\n",
        "#gdown.download(export_url_RUS, temp_file_RUS, quiet=False, fuzzy=True)\n",
        "#gdown.download(export_url_ALL, temp_file_ALL, quiet=False, fuzzy=True)\n",
        "\n",
        "# Load the Excel file into pandas\n",
        "df_ALL = pd.read_excel(temp_file_ALL)\n",
        "\n",
        "# Display the DataFrame\n",
        "print(df_ALL.head())"
      ]
    },
    {
      "cell_type": "markdown",
      "source": [
        "# Import US Queries with LLM Responses and Composite Scores"
      ],
      "metadata": {
        "id": "0kYXq4A6vWos"
      }
    },
    {
      "cell_type": "code",
      "source": [
        "import pandas as pd\n",
        "df_c = pd.read_excel(\"US Queries with LLM Responses and Composite Scores.xlsx\")\n",
        "print(df_c.head())"
      ],
      "metadata": {
        "colab": {
          "base_uri": "https://localhost:8080/"
        },
        "id": "U6AgpmRevcEm",
        "outputId": "70d89dd4-d783-4676-baeb-8e2dbae3810d"
      },
      "execution_count": null,
      "outputs": [
        {
          "output_type": "stream",
          "name": "stdout",
          "text": [
            "        location                            Top queries  \\\n",
            "0  United States  how many people died in the holocaust   \n",
            "1  United States                      armenian genocide   \n",
            "2  United States                 holocaust encyclopedia   \n",
            "3  United States                    first they came for   \n",
            "4  United States                              holocaust   \n",
            "\n",
            "                                       ushmm_article  \\\n",
            "0  #How Many People did the Nazis Murder? | Holoc...   \n",
            "1  #The Armenian Genocide (1915-16): Overview | H...   \n",
            "2  #Introduction to the Holocaust: What was the H...   \n",
            "3  #Martin Niemöller: \"First they came for the So...   \n",
            "4  #Introduction to the Holocaust: What was the H...   \n",
            "\n",
            "                                     GPT-4o Response  \\\n",
            "0  Approximately six million Jews were killed dur...   \n",
            "1  The Armenian Genocide was a systematic mass ex...   \n",
            "2  The Holocaust Encyclopedia is a comprehensive ...   \n",
            "3  The phrase \"First they came for...\" is the beg...   \n",
            "4  The Holocaust was the systematic, state-sponso...   \n",
            "\n",
            "                                     Gemini Response  \\\n",
            "0  Historians estimate that the Nazis murdered ap...   \n",
            "1  The Armenian Genocide was the systematic destr...   \n",
            "2  The Holocaust Encyclopedia is a comprehensive ...   \n",
            "3  \"First they came for the socialists, and I did...   \n",
            "4  The Holocaust was the systematic, state-sponso...   \n",
            "\n",
            "                                       Grok Response comments  \\\n",
            "0  The Holocaust was a period of systematic perse...      NaN   \n",
            "1  The Armenian Genocide was the systematic exter...      NaN   \n",
            "2  The Holocaust Encyclopedia is a comprehensive ...      NaN   \n",
            "3  \"First they came ...\" is the beginning of a fa...      NaN   \n",
            "4  Der Holocaust war eine systematische, staatlic...      NaN   \n",
            "\n",
            "   USHMM-GPT Similarity  USHMM-Gemini Similarity  USHMM-Grok Similarity  \\\n",
            "0                0.5835                   0.3042                 0.4905   \n",
            "1                0.5849                   0.6209                 0.5882   \n",
            "2                0.5454                   0.5471                 0.5921   \n",
            "3                0.5304                   0.3480                 0.4940   \n",
            "4                0.5327                   0.5116                 0.2291   \n",
            "\n",
            "   GPT-Gemini Similarity  GPT-Grok Similarity  Gemini-Grok Similarity  Notes  \n",
            "0                 0.3407               0.5017                  0.3887    NaN  \n",
            "1                 0.6329               0.6452                  0.6493    NaN  \n",
            "2                 0.6130               0.5764                  0.5599    NaN  \n",
            "3                 0.5672               0.6557                  0.6318    NaN  \n",
            "4                 0.4951               0.2859                  0.2284    NaN  \n"
          ]
        }
      ]
    },
    {
      "cell_type": "markdown",
      "metadata": {
        "id": "rlt9j0jbZ5qy"
      },
      "source": [
        "# 1b. Filter Data for Link Frequency Analysis"
      ]
    },
    {
      "cell_type": "code",
      "execution_count": null,
      "metadata": {
        "colab": {
          "base_uri": "https://localhost:8080/",
          "height": 567
        },
        "id": "FpPhikY6Z_QW",
        "outputId": "2ec982cc-0db2-46d4-b08f-fea8e0a08bcc"
      },
      "outputs": [
        {
          "name": "stdout",
          "output_type": "stream",
          "text": [
            "                                                Link  Frequency\n",
            "0  https://encyclopedia.ushmm.org/content/tr/arti...        308\n",
            "1  https://encyclopedia.ushmm.org/content/tr/arti...        240\n",
            "2  https://encyclopedia.ushmm.org/content/ru/arti...        239\n",
            "3  https://encyclopedia.ushmm.org/content/ru/arti...        226\n",
            "4  https://encyclopedia.ushmm.org/content/ru/arti...        200\n"
          ]
        },
        {
          "data": {
            "application/vnd.google.colaboratory.intrinsic+json": {
              "summary": "{\n  \"name\": \"normalized_link_counts_df\",\n  \"rows\": 2770,\n  \"fields\": [\n    {\n      \"column\": \"Link\",\n      \"properties\": {\n        \"dtype\": \"string\",\n        \"num_unique_values\": 2770,\n        \"samples\": [\n          \"https://encyclopedia.ushmm.org/content/en/id-card/stefania-fusia-podgorska\",\n          \"https://encyclopedia.ushmm.org/content/zh/article/ghettos-in-poland\",\n          \"https://encyclopedia.ushmm.org/content/tr/photo/antisemitic-propaganda-in-the-united-states\"\n        ],\n        \"semantic_type\": \"\",\n        \"description\": \"\"\n      }\n    },\n    {\n      \"column\": \"Frequency\",\n      \"properties\": {\n        \"dtype\": \"number\",\n        \"std\": 16,\n        \"min\": 1,\n        \"max\": 308,\n        \"num_unique_values\": 88,\n        \"samples\": [\n          12,\n          308,\n          65\n        ],\n        \"semantic_type\": \"\",\n        \"description\": \"\"\n      }\n    }\n  ]\n}",
              "type": "dataframe",
              "variable_name": "normalized_link_counts_df"
            },
            "text/html": [
              "\n",
              "  <div id=\"df-fa34cb10-dc5a-468f-8a62-f15c2ce633ef\" class=\"colab-df-container\">\n",
              "    <div>\n",
              "<style scoped>\n",
              "    .dataframe tbody tr th:only-of-type {\n",
              "        vertical-align: middle;\n",
              "    }\n",
              "\n",
              "    .dataframe tbody tr th {\n",
              "        vertical-align: top;\n",
              "    }\n",
              "\n",
              "    .dataframe thead th {\n",
              "        text-align: right;\n",
              "    }\n",
              "</style>\n",
              "<table border=\"1\" class=\"dataframe\">\n",
              "  <thead>\n",
              "    <tr style=\"text-align: right;\">\n",
              "      <th></th>\n",
              "      <th>Link</th>\n",
              "      <th>Frequency</th>\n",
              "    </tr>\n",
              "  </thead>\n",
              "  <tbody>\n",
              "    <tr>\n",
              "      <th>0</th>\n",
              "      <td>https://encyclopedia.ushmm.org/content/tr/arti...</td>\n",
              "      <td>308</td>\n",
              "    </tr>\n",
              "    <tr>\n",
              "      <th>1</th>\n",
              "      <td>https://encyclopedia.ushmm.org/content/tr/arti...</td>\n",
              "      <td>240</td>\n",
              "    </tr>\n",
              "    <tr>\n",
              "      <th>2</th>\n",
              "      <td>https://encyclopedia.ushmm.org/content/ru/arti...</td>\n",
              "      <td>239</td>\n",
              "    </tr>\n",
              "    <tr>\n",
              "      <th>3</th>\n",
              "      <td>https://encyclopedia.ushmm.org/content/ru/arti...</td>\n",
              "      <td>226</td>\n",
              "    </tr>\n",
              "    <tr>\n",
              "      <th>4</th>\n",
              "      <td>https://encyclopedia.ushmm.org/content/ru/arti...</td>\n",
              "      <td>200</td>\n",
              "    </tr>\n",
              "    <tr>\n",
              "      <th>...</th>\n",
              "      <td>...</td>\n",
              "      <td>...</td>\n",
              "    </tr>\n",
              "    <tr>\n",
              "      <th>2765</th>\n",
              "      <td>https://encyclopedia.ushmm.org/content/en/time...</td>\n",
              "      <td>1</td>\n",
              "    </tr>\n",
              "    <tr>\n",
              "      <th>2766</th>\n",
              "      <td>https://encyclopedia.ushmm.org/content/zh/id-c...</td>\n",
              "      <td>1</td>\n",
              "    </tr>\n",
              "    <tr>\n",
              "      <th>2767</th>\n",
              "      <td>https://encyclopedia.ushmm.org/content/zh/arti...</td>\n",
              "      <td>1</td>\n",
              "    </tr>\n",
              "    <tr>\n",
              "      <th>2768</th>\n",
              "      <td>https://encyclopedia.ushmm.org/content/en/time...</td>\n",
              "      <td>1</td>\n",
              "    </tr>\n",
              "    <tr>\n",
              "      <th>2769</th>\n",
              "      <td>https://encyclopedia.ushmm.org/content/zh/gall...</td>\n",
              "      <td>1</td>\n",
              "    </tr>\n",
              "  </tbody>\n",
              "</table>\n",
              "<p>2770 rows × 2 columns</p>\n",
              "</div>\n",
              "    <div class=\"colab-df-buttons\">\n",
              "\n",
              "  <div class=\"colab-df-container\">\n",
              "    <button class=\"colab-df-convert\" onclick=\"convertToInteractive('df-fa34cb10-dc5a-468f-8a62-f15c2ce633ef')\"\n",
              "            title=\"Convert this dataframe to an interactive table.\"\n",
              "            style=\"display:none;\">\n",
              "\n",
              "  <svg xmlns=\"http://www.w3.org/2000/svg\" height=\"24px\" viewBox=\"0 -960 960 960\">\n",
              "    <path d=\"M120-120v-720h720v720H120Zm60-500h600v-160H180v160Zm220 220h160v-160H400v160Zm0 220h160v-160H400v160ZM180-400h160v-160H180v160Zm440 0h160v-160H620v160ZM180-180h160v-160H180v160Zm440 0h160v-160H620v160Z\"/>\n",
              "  </svg>\n",
              "    </button>\n",
              "\n",
              "  <style>\n",
              "    .colab-df-container {\n",
              "      display:flex;\n",
              "      gap: 12px;\n",
              "    }\n",
              "\n",
              "    .colab-df-convert {\n",
              "      background-color: #E8F0FE;\n",
              "      border: none;\n",
              "      border-radius: 50%;\n",
              "      cursor: pointer;\n",
              "      display: none;\n",
              "      fill: #1967D2;\n",
              "      height: 32px;\n",
              "      padding: 0 0 0 0;\n",
              "      width: 32px;\n",
              "    }\n",
              "\n",
              "    .colab-df-convert:hover {\n",
              "      background-color: #E2EBFA;\n",
              "      box-shadow: 0px 1px 2px rgba(60, 64, 67, 0.3), 0px 1px 3px 1px rgba(60, 64, 67, 0.15);\n",
              "      fill: #174EA6;\n",
              "    }\n",
              "\n",
              "    .colab-df-buttons div {\n",
              "      margin-bottom: 4px;\n",
              "    }\n",
              "\n",
              "    [theme=dark] .colab-df-convert {\n",
              "      background-color: #3B4455;\n",
              "      fill: #D2E3FC;\n",
              "    }\n",
              "\n",
              "    [theme=dark] .colab-df-convert:hover {\n",
              "      background-color: #434B5C;\n",
              "      box-shadow: 0px 1px 3px 1px rgba(0, 0, 0, 0.15);\n",
              "      filter: drop-shadow(0px 1px 2px rgba(0, 0, 0, 0.3));\n",
              "      fill: #FFFFFF;\n",
              "    }\n",
              "  </style>\n",
              "\n",
              "    <script>\n",
              "      const buttonEl =\n",
              "        document.querySelector('#df-fa34cb10-dc5a-468f-8a62-f15c2ce633ef button.colab-df-convert');\n",
              "      buttonEl.style.display =\n",
              "        google.colab.kernel.accessAllowed ? 'block' : 'none';\n",
              "\n",
              "      async function convertToInteractive(key) {\n",
              "        const element = document.querySelector('#df-fa34cb10-dc5a-468f-8a62-f15c2ce633ef');\n",
              "        const dataTable =\n",
              "          await google.colab.kernel.invokeFunction('convertToInteractive',\n",
              "                                                    [key], {});\n",
              "        if (!dataTable) return;\n",
              "\n",
              "        const docLinkHtml = 'Like what you see? Visit the ' +\n",
              "          '<a target=\"_blank\" href=https://colab.research.google.com/notebooks/data_table.ipynb>data table notebook</a>'\n",
              "          + ' to learn more about interactive tables.';\n",
              "        element.innerHTML = '';\n",
              "        dataTable['output_type'] = 'display_data';\n",
              "        await google.colab.output.renderOutput(dataTable, element);\n",
              "        const docLink = document.createElement('div');\n",
              "        docLink.innerHTML = docLinkHtml;\n",
              "        element.appendChild(docLink);\n",
              "      }\n",
              "    </script>\n",
              "  </div>\n",
              "\n",
              "\n",
              "<div id=\"df-db003683-d653-4c4d-a2b7-d8d0ab121b66\">\n",
              "  <button class=\"colab-df-quickchart\" onclick=\"quickchart('df-db003683-d653-4c4d-a2b7-d8d0ab121b66')\"\n",
              "            title=\"Suggest charts\"\n",
              "            style=\"display:none;\">\n",
              "\n",
              "<svg xmlns=\"http://www.w3.org/2000/svg\" height=\"24px\"viewBox=\"0 0 24 24\"\n",
              "     width=\"24px\">\n",
              "    <g>\n",
              "        <path d=\"M19 3H5c-1.1 0-2 .9-2 2v14c0 1.1.9 2 2 2h14c1.1 0 2-.9 2-2V5c0-1.1-.9-2-2-2zM9 17H7v-7h2v7zm4 0h-2V7h2v10zm4 0h-2v-4h2v4z\"/>\n",
              "    </g>\n",
              "</svg>\n",
              "  </button>\n",
              "\n",
              "<style>\n",
              "  .colab-df-quickchart {\n",
              "      --bg-color: #E8F0FE;\n",
              "      --fill-color: #1967D2;\n",
              "      --hover-bg-color: #E2EBFA;\n",
              "      --hover-fill-color: #174EA6;\n",
              "      --disabled-fill-color: #AAA;\n",
              "      --disabled-bg-color: #DDD;\n",
              "  }\n",
              "\n",
              "  [theme=dark] .colab-df-quickchart {\n",
              "      --bg-color: #3B4455;\n",
              "      --fill-color: #D2E3FC;\n",
              "      --hover-bg-color: #434B5C;\n",
              "      --hover-fill-color: #FFFFFF;\n",
              "      --disabled-bg-color: #3B4455;\n",
              "      --disabled-fill-color: #666;\n",
              "  }\n",
              "\n",
              "  .colab-df-quickchart {\n",
              "    background-color: var(--bg-color);\n",
              "    border: none;\n",
              "    border-radius: 50%;\n",
              "    cursor: pointer;\n",
              "    display: none;\n",
              "    fill: var(--fill-color);\n",
              "    height: 32px;\n",
              "    padding: 0;\n",
              "    width: 32px;\n",
              "  }\n",
              "\n",
              "  .colab-df-quickchart:hover {\n",
              "    background-color: var(--hover-bg-color);\n",
              "    box-shadow: 0 1px 2px rgba(60, 64, 67, 0.3), 0 1px 3px 1px rgba(60, 64, 67, 0.15);\n",
              "    fill: var(--button-hover-fill-color);\n",
              "  }\n",
              "\n",
              "  .colab-df-quickchart-complete:disabled,\n",
              "  .colab-df-quickchart-complete:disabled:hover {\n",
              "    background-color: var(--disabled-bg-color);\n",
              "    fill: var(--disabled-fill-color);\n",
              "    box-shadow: none;\n",
              "  }\n",
              "\n",
              "  .colab-df-spinner {\n",
              "    border: 2px solid var(--fill-color);\n",
              "    border-color: transparent;\n",
              "    border-bottom-color: var(--fill-color);\n",
              "    animation:\n",
              "      spin 1s steps(1) infinite;\n",
              "  }\n",
              "\n",
              "  @keyframes spin {\n",
              "    0% {\n",
              "      border-color: transparent;\n",
              "      border-bottom-color: var(--fill-color);\n",
              "      border-left-color: var(--fill-color);\n",
              "    }\n",
              "    20% {\n",
              "      border-color: transparent;\n",
              "      border-left-color: var(--fill-color);\n",
              "      border-top-color: var(--fill-color);\n",
              "    }\n",
              "    30% {\n",
              "      border-color: transparent;\n",
              "      border-left-color: var(--fill-color);\n",
              "      border-top-color: var(--fill-color);\n",
              "      border-right-color: var(--fill-color);\n",
              "    }\n",
              "    40% {\n",
              "      border-color: transparent;\n",
              "      border-right-color: var(--fill-color);\n",
              "      border-top-color: var(--fill-color);\n",
              "    }\n",
              "    60% {\n",
              "      border-color: transparent;\n",
              "      border-right-color: var(--fill-color);\n",
              "    }\n",
              "    80% {\n",
              "      border-color: transparent;\n",
              "      border-right-color: var(--fill-color);\n",
              "      border-bottom-color: var(--fill-color);\n",
              "    }\n",
              "    90% {\n",
              "      border-color: transparent;\n",
              "      border-bottom-color: var(--fill-color);\n",
              "    }\n",
              "  }\n",
              "</style>\n",
              "\n",
              "  <script>\n",
              "    async function quickchart(key) {\n",
              "      const quickchartButtonEl =\n",
              "        document.querySelector('#' + key + ' button');\n",
              "      quickchartButtonEl.disabled = true;  // To prevent multiple clicks.\n",
              "      quickchartButtonEl.classList.add('colab-df-spinner');\n",
              "      try {\n",
              "        const charts = await google.colab.kernel.invokeFunction(\n",
              "            'suggestCharts', [key], {});\n",
              "      } catch (error) {\n",
              "        console.error('Error during call to suggestCharts:', error);\n",
              "      }\n",
              "      quickchartButtonEl.classList.remove('colab-df-spinner');\n",
              "      quickchartButtonEl.classList.add('colab-df-quickchart-complete');\n",
              "    }\n",
              "    (() => {\n",
              "      let quickchartButtonEl =\n",
              "        document.querySelector('#df-db003683-d653-4c4d-a2b7-d8d0ab121b66 button');\n",
              "      quickchartButtonEl.style.display =\n",
              "        google.colab.kernel.accessAllowed ? 'block' : 'none';\n",
              "    })();\n",
              "  </script>\n",
              "</div>\n",
              "\n",
              "  <div id=\"id_f752b51b-13e1-4156-915c-668eeb33df75\">\n",
              "    <style>\n",
              "      .colab-df-generate {\n",
              "        background-color: #E8F0FE;\n",
              "        border: none;\n",
              "        border-radius: 50%;\n",
              "        cursor: pointer;\n",
              "        display: none;\n",
              "        fill: #1967D2;\n",
              "        height: 32px;\n",
              "        padding: 0 0 0 0;\n",
              "        width: 32px;\n",
              "      }\n",
              "\n",
              "      .colab-df-generate:hover {\n",
              "        background-color: #E2EBFA;\n",
              "        box-shadow: 0px 1px 2px rgba(60, 64, 67, 0.3), 0px 1px 3px 1px rgba(60, 64, 67, 0.15);\n",
              "        fill: #174EA6;\n",
              "      }\n",
              "\n",
              "      [theme=dark] .colab-df-generate {\n",
              "        background-color: #3B4455;\n",
              "        fill: #D2E3FC;\n",
              "      }\n",
              "\n",
              "      [theme=dark] .colab-df-generate:hover {\n",
              "        background-color: #434B5C;\n",
              "        box-shadow: 0px 1px 3px 1px rgba(0, 0, 0, 0.15);\n",
              "        filter: drop-shadow(0px 1px 2px rgba(0, 0, 0, 0.3));\n",
              "        fill: #FFFFFF;\n",
              "      }\n",
              "    </style>\n",
              "    <button class=\"colab-df-generate\" onclick=\"generateWithVariable('normalized_link_counts_df')\"\n",
              "            title=\"Generate code using this dataframe.\"\n",
              "            style=\"display:none;\">\n",
              "\n",
              "  <svg xmlns=\"http://www.w3.org/2000/svg\" height=\"24px\"viewBox=\"0 0 24 24\"\n",
              "       width=\"24px\">\n",
              "    <path d=\"M7,19H8.4L18.45,9,17,7.55,7,17.6ZM5,21V16.75L18.45,3.32a2,2,0,0,1,2.83,0l1.4,1.43a1.91,1.91,0,0,1,.58,1.4,1.91,1.91,0,0,1-.58,1.4L9.25,21ZM18.45,9,17,7.55Zm-12,3A5.31,5.31,0,0,0,4.9,8.1,5.31,5.31,0,0,0,1,6.5,5.31,5.31,0,0,0,4.9,4.9,5.31,5.31,0,0,0,6.5,1,5.31,5.31,0,0,0,8.1,4.9,5.31,5.31,0,0,0,12,6.5,5.46,5.46,0,0,0,6.5,12Z\"/>\n",
              "  </svg>\n",
              "    </button>\n",
              "    <script>\n",
              "      (() => {\n",
              "      const buttonEl =\n",
              "        document.querySelector('#id_f752b51b-13e1-4156-915c-668eeb33df75 button.colab-df-generate');\n",
              "      buttonEl.style.display =\n",
              "        google.colab.kernel.accessAllowed ? 'block' : 'none';\n",
              "\n",
              "      buttonEl.onclick = () => {\n",
              "        google.colab.notebook.generateWithVariable('normalized_link_counts_df');\n",
              "      }\n",
              "      })();\n",
              "    </script>\n",
              "  </div>\n",
              "\n",
              "    </div>\n",
              "  </div>\n"
            ],
            "text/plain": [
              "                                                   Link  Frequency\n",
              "0     https://encyclopedia.ushmm.org/content/tr/arti...        308\n",
              "1     https://encyclopedia.ushmm.org/content/tr/arti...        240\n",
              "2     https://encyclopedia.ushmm.org/content/ru/arti...        239\n",
              "3     https://encyclopedia.ushmm.org/content/ru/arti...        226\n",
              "4     https://encyclopedia.ushmm.org/content/ru/arti...        200\n",
              "...                                                 ...        ...\n",
              "2765  https://encyclopedia.ushmm.org/content/en/time...          1\n",
              "2766  https://encyclopedia.ushmm.org/content/zh/id-c...          1\n",
              "2767  https://encyclopedia.ushmm.org/content/zh/arti...          1\n",
              "2768  https://encyclopedia.ushmm.org/content/en/time...          1\n",
              "2769  https://encyclopedia.ushmm.org/content/zh/gall...          1\n",
              "\n",
              "[2770 rows x 2 columns]"
            ]
          },
          "metadata": {},
          "output_type": "display_data"
        },
        {
          "name": "stdout",
          "output_type": "stream",
          "text": [
            "6000\n",
            "16386\n"
          ]
        }
      ],
      "source": [
        "import pandas as pd\n",
        "import re\n",
        "from collections import Counter\n",
        "\n",
        "# Drop NaNs in 'ushmm_links'\n",
        "links_series = df_ALL['ushmm_links'].dropna()\n",
        "\n",
        "# Step 1: Use regex to extract full valid URLs (commas are allowed)\n",
        "url_pattern = re.compile(r'https?://[^\\s\\'\"<>]+')\n",
        "\n",
        "extracted_links = []\n",
        "for entry in links_series:\n",
        "    links_found = url_pattern.findall(entry)\n",
        "    # Now safely strip fragments from each URL\n",
        "    cleaned_links = [re.sub(r'#.*$', '', link) for link in links_found]\n",
        "    extracted_links.extend(cleaned_links)\n",
        "\n",
        "# Step 2: Remove fragment identifiers (anything after '#')\n",
        "normalized_links = [re.sub(r'#.*$', '', link) for link in extracted_links]\n",
        "\n",
        "# Step 3: Count the frequency of each normalized link\n",
        "normalized_link_counts = Counter(normalized_links)\n",
        "\n",
        "# Step 4: Convert to a DataFrame and sort\n",
        "normalized_link_counts_df = pd.DataFrame(\n",
        "    normalized_link_counts.items(), columns=['Link', 'Frequency']\n",
        ").sort_values(by='Frequency', ascending=False).reset_index(drop=True)\n",
        "\n",
        "# Display the result\n",
        "print(normalized_link_counts_df.head())\n",
        "\n",
        "from IPython.display import display\n",
        "display(normalized_link_counts_df)\n",
        "\n",
        "print(len(df_ALL['ushmm_links']))\n",
        "\n",
        "# Count total number of entries (including duplicates)\n",
        "print(len(normalized_links))\n",
        "\n",
        "normalized_link_counts_df.to_csv('normalized_link_counts.csv', index=False)"
      ]
    },
    {
      "cell_type": "code",
      "execution_count": null,
      "metadata": {
        "colab": {
          "base_uri": "https://localhost:8080/"
        },
        "id": "0vz0BtOvA962",
        "outputId": "e4b0273a-e776-4836-d961-ebe3174eea3d"
      },
      "outputs": [
        {
          "name": "stdout",
          "output_type": "stream",
          "text": [
            "   Language  Frequency\n",
            "3        en       5832\n",
            "13       ru       2622\n",
            "14       tr       2417\n",
            "11       ko       2020\n",
            "16  unknown       1633\n",
            "17       zh        931\n",
            "1        de        520\n",
            "10       ja        128\n",
            "4        es        110\n",
            "0        ar         83\n",
            "15       uk         24\n",
            "9        it         16\n",
            "5        fa         15\n",
            "2        el         10\n",
            "6        fr          8\n",
            "12       pl          8\n",
            "7        hu          7\n",
            "8        id          2\n"
          ]
        }
      ],
      "source": [
        "# Step 5: Define a function to extract the language code from the URL\n",
        "def extract_language(link):\n",
        "    match = re.search(r'/content/([a-z]{2})/', link)\n",
        "    return match.group(1) if match else 'unknown'\n",
        "\n",
        "# Step 6: Apply the function to create a Language column\n",
        "normalized_link_counts_df['Language'] = normalized_link_counts_df['Link'].apply(extract_language)\n",
        "\n",
        "# Step 7: Group by language and sum the frequencies\n",
        "language_grouped_df = normalized_link_counts_df.groupby('Language')['Frequency'].sum().reset_index()\n",
        "language_grouped_df = language_grouped_df.sort_values(by='Frequency', ascending=False)\n",
        "\n",
        "# Step 8: Display the grouped result\n",
        "print(language_grouped_df)"
      ]
    },
    {
      "cell_type": "code",
      "execution_count": null,
      "metadata": {
        "colab": {
          "base_uri": "https://localhost:8080/"
        },
        "id": "qk7SlJ8dEoX2",
        "outputId": "16161626-9cc2-4b23-b5d3-ec3e9436f860"
      },
      "outputs": [
        {
          "name": "stdout",
          "output_type": "stream",
          "text": [
            "                                                 Link  Frequency Language  \\\n",
            "17  https://encyclopedia.ushmm.org/content/de/arti...         86       de   \n",
            "49  https://encyclopedia.ushmm.org/content/de/arti...         51       de   \n",
            "66  https://encyclopedia.ushmm.org/content/de/arti...         41       de   \n",
            "70  https://encyclopedia.ushmm.org/content/de/arti...         40       de   \n",
            "85  https://encyclopedia.ushmm.org/content/de/arti...         34       de   \n",
            "\n",
            "                                         Article Slug  \n",
            "17  article/documenting-numbers-of-victims-of-the-...  \n",
            "49  article/what-groups-of-people-did-the-nazis-ta...  \n",
            "66                   article/killing-centers-in-depth  \n",
            "70                                    article/aryan-1  \n",
            "85  article/martin-niemoeller-first-they-came-for-...  \n"
          ]
        }
      ],
      "source": [
        "# Step 9: Filter for selected languages\n",
        "target_languages = {'en', 'ru', 'tr', 'ko', 'zh', 'de'}\n",
        "filtered_links_df = normalized_link_counts_df[normalized_link_counts_df['Language'].isin(target_languages)].copy()\n",
        "\n",
        "# Step 10: Extract article slug from the URL\n",
        "def extract_slug(link):\n",
        "    match = re.search(r'/content/[a-z]{2}/(.+)', link)\n",
        "    return match.group(1) if match else 'unknown'\n",
        "\n",
        "filtered_links_df['Article Slug'] = filtered_links_df['Link'].apply(extract_slug)\n",
        "\n",
        "# Step 11: Sort by language and frequency\n",
        "top_articles_by_language = filtered_links_df.sort_values(['Language', 'Frequency'], ascending=[True, False])\n",
        "\n",
        "# Step 12: Preview result\n",
        "print(top_articles_by_language.head())\n"
      ]
    },
    {
      "cell_type": "code",
      "execution_count": null,
      "metadata": {
        "colab": {
          "base_uri": "https://localhost:8080/",
          "height": 1000
        },
        "id": "1kPNc1cPFrHe",
        "outputId": "31b82fcc-d41b-4f4f-d125-e9299db55d4b"
      },
      "outputs": [
        {
          "data": {
            "image/png": "[encoded data removed]",
            "text/plain": [
              "<Figure size 600x600 with 1 Axes>"
            ]
          },
          "metadata": {},
          "output_type": "display_data"
        },
        {
          "data": {
            "image/png": "[encoded data removed]",
            "text/plain": [
              "<Figure size 600x600 with 1 Axes>"
            ]
          },
          "metadata": {},
          "output_type": "display_data"
        },
        {
          "data": {
            "image/png": "[encoded data removed]",
            "text/plain": [
              "<Figure size 600x600 with 1 Axes>"
            ]
          },
          "metadata": {},
          "output_type": "display_data"
        },
        {
          "data": {
            "image/png": "[encoded data removed]",
            "text/plain": [
              "<Figure size 600x600 with 1 Axes>"
            ]
          },
          "metadata": {},
          "output_type": "display_data"
        },
        {
          "data": {
            "image/png": "[encoded data removed]",
            "text/plain": [
              "<Figure size 600x600 with 1 Axes>"
            ]
          },
          "metadata": {},
          "output_type": "display_data"
        },
        {
          "data": {
            "image/png": "[encoded data removed]",
            "text/plain": [
              "<Figure size 600x600 with 1 Axes>"
            ]
          },
          "metadata": {},
          "output_type": "display_data"
        },
        {
          "data": {
            "image/png": "[encoded data removed]",
            "text/plain": [
              "<Figure size 1000x600 with 1 Axes>"
            ]
          },
          "metadata": {},
          "output_type": "display_data"
        }
      ],
      "source": [
        "import matplotlib.pyplot as plt\n",
        "# Categorize slugs into themes (excluding \"Memory & Education\")\n",
        "def categorize_slug(slug):\n",
        "    slug = slug.lower()\n",
        "    if any(k in slug for k in ['victim', 'persecution', 'ghetto', 'disabled', 'survivor', 'killing-center', 'refugee', 'roma']):\n",
        "        return 'Victims & Persecution'\n",
        "    elif any(k in slug for k in ['propaganda', 'nuremberg', 'aryan', 'eugenics', 'law', 'boycott', 'nazis']):\n",
        "        return 'Nazi Policies & Propaganda'\n",
        "    elif any(k in slug for k in ['timeline', 'invasion', 'liberation', 'deportation', 'occupation', 'world-war']):\n",
        "        return 'Historical Context & Timeline'\n",
        "    elif any(k in slug for k in ['frank', 'wiesel', 'niemoeller', 'himmler', 'hitler', 'goebbels']):\n",
        "        return 'Names/Historical Figures'\n",
        "    elif any(k in slug for k in ['auschwitz', 'lodz', 'warsaw', 'camp', 'europe', 'germany', 'poland']):\n",
        "        return 'Locations'\n",
        "    else:\n",
        "        return 'Other'\n",
        "\n",
        "filtered_links_df['Category'] = filtered_links_df['Article Slug'].apply(categorize_slug)\n",
        "\n",
        "# Group by language and category\n",
        "grouped = filtered_links_df.groupby(['Language', 'Category'])['Frequency'].sum().reset_index()\n",
        "\n",
        "# Pie Charts: One per language\n",
        "languages = ['en', 'ru', 'tr', 'ko', 'zh', 'de']\n",
        "for lang in languages:\n",
        "    lang_data = grouped[grouped['Language'] == lang]\n",
        "    if not lang_data.empty:\n",
        "        plt.figure(figsize=(6, 6))\n",
        "        plt.pie(lang_data['Frequency'], labels=lang_data['Category'], autopct='%1.1f%%', startangle=140)\n",
        "        plt.title(f'Theme Distribution in {lang.upper()} Articles (Updated Categories)')\n",
        "        plt.axis('equal')\n",
        "        plt.show()\n",
        "\n",
        "# Stacked Bar Chart\n",
        "pivot_df = grouped.pivot(index='Language', columns='Category', values='Frequency').fillna(0)\n",
        "pivot_df = pivot_df.loc[languages]  # Ensure consistent language order\n",
        "\n",
        "pivot_df.plot(kind='bar', stacked=True, figsize=(10, 6), colormap='tab20')\n",
        "plt.title(\"Distribution of Article Themes by Language\")\n",
        "plt.ylabel(\"Total Link Frequency\")\n",
        "plt.xlabel(\"Language\")\n",
        "plt.xticks(rotation=0)\n",
        "plt.legend(title=\"Theme\", bbox_to_anchor=(1.05, 1), loc='upper left')\n",
        "plt.tight_layout()\n",
        "plt.show()"
      ]
    },
    {
      "cell_type": "code",
      "execution_count": null,
      "metadata": {
        "id": "PFmRveFcv9H5"
      },
      "outputs": [],
      "source": [
        "# Step 1: Group total frequencies per language for normalization\n",
        "language_totals = filtered_links_df.groupby('Language')['Frequency'].sum().to_dict()\n",
        "\n",
        "# Step 2: Create a dictionary to store updated DataFrames per language\n",
        "relative_freq_tables = {}\n",
        "\n",
        "# Step 3: Loop through each language and calculate relative frequency\n",
        "for lang in ['en', 'ru', 'tr', 'ko', 'zh', 'de']:\n",
        "    lang_df = filtered_links_df[filtered_links_df['Language'] == lang].copy()\n",
        "\n",
        "    # Get total frequency for that language\n",
        "    total_links = language_totals.get(lang, 1)  # Use 1 to avoid division by zero\n",
        "\n",
        "    # Compute relative frequency (%)\n",
        "    lang_df['Relative Frequency (%)'] = 100 * lang_df['Frequency'] / total_links\n",
        "\n",
        "    # Sort by frequency and store the selected columns\n",
        "    lang_df = lang_df.sort_values(by='Frequency', ascending=False).reset_index(drop=True)\n",
        "    relative_freq_tables[lang.upper()] = lang_df[['Link', 'Frequency', 'Relative Frequency (%)', 'Article Slug', 'Category']]"
      ]
    },
    {
      "cell_type": "code",
      "execution_count": null,
      "metadata": {
        "colab": {
          "base_uri": "https://localhost:8080/"
        },
        "id": "a1rEUQiStz0B",
        "outputId": "c49c40d1-c2ed-4445-fa40-b9a5f7f11ba1"
      },
      "outputs": [
        {
          "name": "stdout",
          "output_type": "stream",
          "text": [
            "      id       location                          Top queries  \\\n",
            "66    66  United States                   hitler youth knife   \n",
            "106  106  United States                           blitzkrieg   \n",
            "108  108  United States  map of concentration camp locations   \n",
            "115  115  United States                        auschwitz map   \n",
            "144  144  United States                     map of auschwitz   \n",
            "\n",
            "                                           ushmm_links  \\\n",
            "66   ['https://encyclopedia.ushmm.org/content/en/ar...   \n",
            "106  ['https://encyclopedia.ushmm.org/content/en/ga...   \n",
            "108  ['https://encyclopedia.ushmm.org/content/en/ga...   \n",
            "115  ['https://encyclopedia.ushmm.org/content/en/ga...   \n",
            "144  ['https://encyclopedia.ushmm.org/content/en/ga...   \n",
            "\n",
            "                                         ushmm_article  \n",
            "66   Error: No article or main content found on htt...  \n",
            "106  Error: No article or main content found on htt...  \n",
            "108  Error: No article or main content found on htt...  \n",
            "115  Error: No article or main content found on htt...  \n",
            "144  Error: No article or main content found on htt...  \n"
          ]
        }
      ],
      "source": [
        "#find all queries that did not return an article (errored out)\n",
        "df_article_errors = df_ALL[df_ALL[\"ushmm_article\"].str.startswith(\"Error: No\", na=False)][\n",
        "    [\"id\", \"location\", \"Top queries\", \"ushmm_links\", \"ushmm_article\"]\n",
        "]\n",
        "print(df_article_errors.head())\n",
        "df_article_errors.to_csv('queries_with_article_errors.csv', index=False)"
      ]
    },
    {
      "cell_type": "markdown",
      "metadata": {
        "id": "bu1IpCFqXCGe"
      },
      "source": [
        "# 2. Define functions for obtaining quantitative metrics"
      ]
    },
    {
      "cell_type": "markdown",
      "metadata": {
        "id": "8mtew7Ou8rP3"
      },
      "source": [
        "READABILITY METRICS"
      ]
    },
    {
      "cell_type": "code",
      "execution_count": null,
      "metadata": {
        "id": "oZ9V12wy66AS"
      },
      "outputs": [],
      "source": [
        "#Word Count\n",
        "import re\n",
        "def word_count(text):\n",
        "    #Returns the number of words in a given text using regex\n",
        "    words = re.findall(r'\\b\\w+\\b', text)\n",
        "    return len(words)\n",
        "\n",
        "#Flesch Reading Score\n",
        "def count_sentences(text):\n",
        "    \"\"\"Counts the number of sentences based on punctuation.\"\"\"\n",
        "    return max(1, len(re.findall(r'[.!?]', text)))  # Avoid zero sentences\n",
        "\n",
        "def count_words(text):\n",
        "    \"\"\"Counts the number of words in the text.\"\"\"\n",
        "    return max(1, len(text.split()))  # Avoid division by zero\n",
        "\n",
        "def count_syllables(word):\n",
        "    \"\"\"Counts the number of syllables in a word using regex heuristics.\"\"\"\n",
        "    word = word.lower()\n",
        "    syllables = re.findall(r'[aeiouy]+', word)  # Matches vowel clusters\n",
        "    if word.endswith((\"es\", \"ed\")) and len(syllables) > 1:\n",
        "        syllables.pop()  # Discount silent syllables\n",
        "    return max(1, len(syllables))\n",
        "\n",
        "def count_total_syllables(text):\n",
        "    \"\"\"Counts the total number of syllables in the text.\"\"\"\n",
        "    words = re.findall(r'\\b\\w+\\b', text)  # Extract words\n",
        "    return sum(count_syllables(word) for word in words)\n",
        "\n",
        "def flesch_reading_ease(text):\n",
        "    \"\"\"Calculates the Flesch Reading Ease Score.\"\"\"\n",
        "    words = count_words(text)\n",
        "    sentences = count_sentences(text)\n",
        "    syllables = count_total_syllables(text)\n",
        "\n",
        "    asl = words / sentences  # Average Sentence Length\n",
        "    asw = syllables / words  # Average Syllables per Word\n",
        "\n",
        "    score = 206.835 - (1.015 * asl) - (84.6 * asw)\n",
        "    return round(score, 2)\n",
        "\n",
        "#Coleman Liau Index\n",
        "def count_letters(text):\n",
        "    \"\"\"Counts the number of letters (A-Z, a-z) in the text.\"\"\"\n",
        "    return sum(c.isalpha() for c in text)\n",
        "\n",
        "def count_sentences(text):\n",
        "    \"\"\"Counts the number of sentences based on punctuation.\"\"\"\n",
        "    return max(1, len(re.findall(r'[.!?]', text)))  # Avoid zero sentences\n",
        "\n",
        "def coleman_liau_index(text):\n",
        "    \"\"\"Calculates the Coleman-Liau Index for readability assessment.\"\"\"\n",
        "    letters = count_letters(text)\n",
        "    words = count_words(text)\n",
        "    sentences = count_sentences(text)\n",
        "\n",
        "    L = (letters / words) * 100  # Average letters per 100 words\n",
        "    S = (sentences / words) * 100  # Average sentences per 100 words\n",
        "\n",
        "    CLI = 0.0588 * L - 0.296 * S - 15.8\n",
        "    return round(CLI, 2)"
      ]
    },
    {
      "cell_type": "markdown",
      "metadata": {
        "id": "lYTYutOq8oGS"
      },
      "source": [
        "SIMILARITY METRICS"
      ]
    },
    {
      "cell_type": "code",
      "execution_count": null,
      "metadata": {
        "colab": {
          "base_uri": "https://localhost:8080/"
        },
        "id": "-NPh5HXMVvEV",
        "outputId": "d22b1aee-dc77-437e-d230-c8f91c602cb2"
      },
      "outputs": [
        {
          "output_type": "stream",
          "name": "stdout",
          "text": [
            "[-0.030613349750638008, -0.003794631687924266, 0.03129681199789047, -0.011291342787444592, 0.0024437285028398037, -0.01742825098335743, -0.005976722575724125, 0.0819583460688591, -0.034173041582107544, -0.06333404034376144, -0.010109525173902512, -0.037419483065605164, -0.0326637327671051, -0.024561874568462372, -0.0037412361707538366, 0.04097917303442955, -0.04573492333292961, 0.019749170169234276, -0.007902516052126884, 0.06914345920085907, 0.04536471515893936, 0.00037732734926976264, 0.0035579120740294456, 0.00984610803425312, -0.009952898137271404, -0.00466675590723753, -0.021884985268115997, 0.026199333369731903, 0.01695837266743183, -0.007368562277406454, 0.001522658159956336, -0.023081041872501373, -0.07757280766963959, 0.012380608357489109, -0.07130774855613708, 0.051999978721141815, -0.013455635868012905, 0.025928795337677002, 0.013370202854275703, -0.020603496581315994, -0.003602408105507493, -0.04086526483297348, 0.008863632567226887, 0.0015689341817051172, -0.03565387427806854, -0.02478969469666481, 0.003419084008783102, 0.021956179291009903, 0.0033283119555562735, 0.03787512332201004, -0.019507111981511116, 0.004727270919829607, 0.023579400032758713, 0.02105913683772087, 0.014032305218279362, -0.04866810888051987, 0.054990120232105255, 0.016616642475128174, 0.0023298184387385845, -0.00283529469743371, 0.04610513150691986, 0.00222480739466846, 0.007895397022366524, 0.03027161955833435, 0.016516970470547676, -0.0160613302141428, -0.05829351395368576, 0.005699066910892725, -0.037561867386102676, -0.012409086339175701, 0.05584444850683212, 0.046389903873205185, -0.038302283734083176, -0.011675789952278137, -0.0443110466003418, 0.006325572729110718, -0.03451477363705635, 0.013263411819934845, -0.008080501109361649, 0.015776554122567177, -0.00010284172458341345, 0.018980277702212334, 0.03722013905644417, -0.02615661546587944, -0.05097479000687599, -0.027708642184734344, -0.028748072683811188, -0.014459468424320221, -0.018125951290130615, -0.0021358150988817215, 0.03647972270846367, 0.010543807409703732, -0.04362758249044418, 0.01731434091925621, 0.03585321828722954, -0.021956179291009903, -0.02241181954741478, 0.0036736021284013987, 0.01704380474984646, 0.02702518180012703, 0.009732197970151901, -0.023892652243375778, 0.033432625234127045, -0.05843590199947357, 0.002192770130932331, -0.010679075494408607, -0.00407584710046649, 0.0069307200610637665, -0.02491784282028675, 0.027452344074845314, -0.112600177526474, -0.030470963567495346, 0.0036486841272562742, -0.024106234312057495, -0.009077214635908604, 0.0036308858543634415, 0.003990414552390575, -0.052256278693675995, 0.0008658950682729483, -0.04673163592815399, -0.04388388246297836, 0.018368009477853775, 0.006279296707361937, -0.024376770481467247, -0.04049505665898323, -0.02950272709131241, 0.025074470788240433, -0.04735814034938812, -0.037447959184646606, -0.03052791766822338, 0.028861982747912407, -0.047642916440963745, -0.0025540790520608425, 0.004499450791627169, -0.02155749499797821, 0.046133607625961304, -0.040409620851278305, -0.003940579015761614, -0.02813580445945263, -0.02477545663714409, 0.0433712862432003, 0.025231096893548965, 0.04012484848499298, 0.037675779312849045, 0.03687840700149536, -0.030727259814739227, -0.059461094439029694, 0.07170643657445908, 0.007553666364401579, 0.00498000904917717, 0.02291017770767212, 0.004613360855728388, -0.025558587163686752, 0.0019987670239061117, -0.010152241215109825, 0.0011729184770956635, -0.004592002369463444, 0.017527922987937927, -0.01570536009967327, 0.004214675165712833, 0.06880172342061996, 0.007187018170952797, -0.023949606344103813, 0.006229460705071688, -0.014117738232016563, 0.044140178710222244, -0.019350485876202583, -0.018909083679318428, -0.04630447179079056, 0.0241774283349514, -0.047272708266973495, 0.007923874072730541, 0.011860893107950687, 0.04661772400140762, -0.010230554267764091, -0.025558587163686752, -0.015733838081359863, -0.020503824576735497, -0.01419605128467083, -0.04832637682557106, -0.005065441597253084, 0.030584873631596565, -0.01731434091925621, -0.03377435728907585, -0.05578749254345894, -0.022867461666464806, 0.005474806297570467, -0.004947971552610397, -0.014559139497578144, 0.008158814162015915, 0.03477106988430023, 0.08993205428123474, 0.03411608561873436, -0.003159226616844535, 0.014466588385403156, -0.027737120166420937, 0.055872924625873566, 0.010550926439464092, -0.009006020613014698, 0.012715219520032406, 0.021030660718679428, 0.030186187475919724, -0.02715332992374897, -0.01695837266743183, 0.04220370575785637, 0.007902516052126884, 0.02975902520120144, -0.01943591795861721, -0.03086964786052704, -0.015790794044733047, 0.02826395444571972, 0.002370754722505808, 0.023137997835874557, 0.04308651015162468, 0.02792222425341606, -0.011668669991195202, -0.019507111981511116, 0.027352672070264816, 0.05242714285850525, 0.01856735348701477, -0.09135593473911285, 0.030043799430131912, 0.05396492779254913, 0.01537786889821291, 0.0030737940687686205, 0.012017520144581795, 0.04784226045012474, -0.03289155289530754, 0.051373474299907684, -0.010999447666108608, 0.026469869539141655, -0.007788605988025665, -0.033090896904468536, -0.00738280126824975, -0.0021091175731271505, -0.009675242938101292, 0.01816866733133793, 0.01767031103372574, 0.02142934501171112, -0.017727265134453773, -0.015520256944000721, 0.009810511022806168, 0.043029554188251495, 0.03901422396302223, 0.02256844751536846, 0.004243152681738138, -0.003865825477987528, -0.06777653098106384, -0.011177432723343372, 0.05103174224495888, -0.003759034676477313, 0.023351579904556274, 0.019008755683898926, -0.02253996953368187, -0.007696053944528103, 0.04200436547398567, -0.06635265797376633, 0.03861553966999054, -0.021329674869775772, -0.0070873466320335865, -0.019136903807520866, -0.03676449880003929, 0.005852133501321077, -0.008180172182619572, 0.00423247367143631, -0.024561874568462372, 0.018980277702212334, 0.02689703181385994, -0.05681268125772476, -0.03240743651986122, -0.03240743651986122, 0.015036138705909252, 0.012373489327728748, -0.02017633430659771, -0.025330767035484314, -0.022369103506207466, -0.012615548446774483, 0.03696383908390999, 0.015634166076779366, -0.02726723998785019, -0.04972177743911743, 0.04607665166258812, -0.0027000263798981905, 0.014124857261776924, -0.029303383082151413, 0.03551148623228073, -0.0032037226483225822, 0.009454541839659214, -0.0029954807832837105, 0.019108425825834274, 0.04211827367544174, -0.03391674533486366, 0.05316755920648575, -0.034059133380651474, -0.015904704108834267, 0.03770425543189049, 0.022696595638990402, 0.01630338840186596, 0.01008104719221592, -0.003226860659196973, -0.011533401906490326, 0.006254378706216812, 0.03499889001250267, -0.021884985268115997, -0.0035401135683059692, 0.034315429627895355, -0.010721792466938496, -0.00916264671832323, -0.009682361967861652, -0.024248620495200157, -0.015093093737959862, -0.010522449389100075, 0.018909083679318428, 0.03283459693193436, -0.0457918755710125, -0.010508210398256779, -0.0071621001698076725, 0.028178520500659943, 0.002863772213459015, -0.02268235757946968, -0.03326176106929779, -0.06430227309465408, -0.0034386625047773123, -0.05467686802148819, 0.01332748681306839, -0.011846655048429966, 0.05894849821925163, -0.007575024385005236, 0.010066809132695198, -0.056100744754076004, 0.010202077217400074, 0.003525874810293317, 0.014110619202256203, -0.006254378706216812, 0.05963195860385895, -0.04932308942079544, -0.02289593778550625, 0.042403049767017365, -0.0016614862252026796, -0.030414007604122162, -0.030414007604122162, -0.008450708352029324, -0.02429133839905262, 0.04684554412961006, -0.0030292978044599295, 0.06293535232543945, -0.034173041582107544, -0.03075573779642582, -0.014374036341905594, -0.03252134472131729, -0.028975892812013626, -0.02078860066831112, -0.0266692116856575, -0.011319819837808609, -0.020987942814826965, -0.00743975630030036, 0.052996695041656494, -0.041890453547239304, 0.0032553381752222776, -0.012978636659681797, -0.04883897304534912, 0.0336034931242466, 0.04086526483297348, 0.009440302848815918, 0.02093098871409893, 0.024889366701245308, -0.04132090508937836, -0.056613340973854065, 0.03326176106929779, -0.04584883153438568, -0.010465494357049465, -0.04832637682557106, 0.04137785732746124, 0.0077458894811570644, -0.02144358493387699, -0.03297698497772217, 0.04021028056740761, 0.008165933191776276, 0.01768454909324646, 0.056613340973854065, 0.01794084720313549, 0.040039416402578354, 0.005528201349079609, -0.05265496298670769, 0.0007510950090363622, 0.015762316063046455, -0.018866367638111115, 0.026939747855067253, -0.055986832827329636, 0.059233274310827255, 0.08190139383077621, -0.025615543127059937, -0.006588989868760109, 0.028363624587655067, -0.033945221453905106, -0.023380056023597717, 0.004321466200053692, 0.04035266861319542, 0.04100764915347099, -0.06908649951219559, -0.003541893558576703, -0.00578805897384882, -0.015776554122567177, 0.03479954972863197, 0.05655638501048088, 0.0022087888792157173, 0.015192764811217785, 0.03300546482205391, 0.04530775919556618, -0.004542166832834482, -0.04009636864066124, -0.0760350227355957, 0.07136470079421997, -0.01263690646737814, 0.02080283872783184, 0.011291342787444592, 0.021742599084973335, -0.008144575171172619, 0.047899212688207626, -0.022084329277276993, -0.011939207091927528, 0.011469326913356781, 0.02302408777177334, -0.02703941985964775, 0.016403060406446457, 0.017527922987937927, 0.032920029014348984, -0.007874038070440292, 0.030670305714011192, -0.05285430699586868, -0.06732089072465897, 0.029702069237828255, 0.025943035259842873, -0.007347204256802797, -0.035055845975875854, -0.007539427373558283, -0.019222335889935493, 0.014188932254910469, 0.007902516052126884, 0.0035507925786077976, 0.0199342742562294, -0.009006020613014698, -0.003979735542088747, -0.002611034084111452, -0.00253984029404819, -0.006297095213085413, 0.021244240924715996, -0.007247532717883587, -0.017983563244342804, -0.032692208886146545, -0.013227814808487892, -0.021884985268115997, 0.03146767616271973, 0.03126833215355873, 0.007646218407899141, -0.05168672651052475, -0.02144358493387699, 0.027694402262568474, 0.015918942168354988, 0.02803613431751728, -0.009547093883156776, 0.021742599084973335, -0.01319221779704094, 0.015235481783747673, -0.0036985198967158794, 0.003759034676477313, -0.033802833408117294, 0.020874032750725746, -0.03898574411869049, -0.0094118257984519, 0.05854981392621994, 0.008137456141412258, 0.008044904097914696, 0.029331861063838005, -0.04419713467359543, -0.006012319587171078, -0.031837884336709976, -0.02627052552998066, -0.010558046400547028, -0.025615543127059937, 0.004648957867175341, -0.011419491842389107, 0.023764504119753838, 0.01903723180294037, -0.03001532144844532, 0.03129681199789047, -0.03844467177987099, 0.00025763269513845444, 0.009184004738926888, -0.01980612613260746, -0.013420038856565952, -0.015135809779167175, -0.005261224694550037, -0.01781269907951355, 0.009433183819055557, 0.007197697181254625, -0.030186187475919724, 0.021272718906402588, 0.008009307086467743, -0.029217950999736786, -0.006660183425992727, -0.011825296096503735, -0.03428695350885391, -0.004211115650832653, 0.029787501320242882, 0.022397581487894058, -0.02577216923236847, 0.0024775455240160227, 0.013206456787884235, -0.014430991373956203, 0.006293535232543945, 0.011035044677555561, 0.02302408777177334, 0.013555306941270828, -0.00034706995938904583, 0.0003036862181033939, 0.005054762586951256, 0.038672491908073425, 0.0007568795117549598, 0.008130336180329323, -0.018994515761733055, 0.016161002218723297, -0.04906679317355156, -0.03946986421942711, -0.0016534768510609865, -0.009091452695429325, -0.005812976974993944, -0.006841727998107672, 0.000481893279356882, 0.04251696169376373, 0.0066530643962323666, 0.022483013570308685, 0.017015326768159866, 0.02105913683772087, -0.026740405708551407, -0.023963846266269684, 0.04630447179079056, -0.0060336776077747345, -0.012095833197236061, -0.04898136109113693, 0.018966037780046463, 0.024633068591356277, 0.000873459386639297, 0.03112594597041607, -0.006425243802368641, 0.0015466861659660935, -0.020503824576735497, -0.035568442195653915, 0.015221242792904377, 0.021600211039185524, 0.016545448452234268, -0.004809143953025341, 0.031439200043678284, 0.004442495293915272, -0.02329462394118309, -0.013092546723783016, 0.0200339462608099, -0.010885537602007389, -0.016118284314870834, 0.013932634145021439, -0.019079947844147682, -0.02054654248058796, 0.016289150342345238, 0.03254982456564903, 0.016388822346925735, 0.037419483065605164, -0.006799011491239071, 0.007016152609139681, -0.005321739241480827, -0.018368009477853775, -0.0278795063495636, -0.01537786889821291, 0.0035561323165893555, 0.025971511378884315, 0.01327053178101778, -0.020959466695785522, -0.018467681482434273, 0.026882793754339218, -0.0168017465621233, 0.00953285489231348, 0.004289428703486919, -0.024220144376158714, 0.035426054149866104, -0.004435376264154911, -0.026113899424672127, 0.008315440267324448, 0.014039425179362297, 0.03895726799964905, -0.01376176904886961, -0.02068892866373062, -0.007187018170952797, 0.024106234312057495, 0.008550380356609821, -0.0018279018113389611, 0.01537786889821291, -0.01831105537712574, 0.011127596721053123, -0.013313247822225094, 0.017641833052039146, 0.007098025642335415, -0.0028388542123138905, 0.022240955382585526, 0.009739316999912262, -0.011213029734790325, 0.031951796263456345, -0.02766592614352703, 0.012935920618474483, -0.0077601284720003605, -0.0007279569981619716, -0.02318071387708187, 0.01457337848842144, -0.019393201917409897, 0.04710184410214424, -0.027224523946642876, 0.0016534768510609865, 0.03750491514801979, -0.019336245954036713, 0.019962752237915993, 0.00872124545276165, 0.018780933693051338, -0.006592549383640289, -0.01557721197605133, -0.005706185940653086, -0.0024739857763051987, 0.04895288497209549, -0.0016783947357907891, -0.020233288407325745, -0.02551587112247944, -0.041805021464824677, -0.004211115650832653, 0.016730552539229393, 0.016360344365239143, 0.03665058687329292, -0.0334041491150856, -0.01570536009967327, 0.021358150988817215, -0.01806899532675743, -0.002564758062362671, 0.00036153121618553996, -0.04026723653078079, 0.016986850649118423, 0.0036362253595143557, 0.0180832352489233, 0.02430557645857334, 0.05017741769552231, -0.0004801134346053004, 0.014851034618914127, -0.020575018599629402, -0.004349943716078997, -0.03949834033846855, -0.04100764915347099, -0.014188932254910469, -0.012565712444484234, -0.0010136222699657083, 0.015135809779167175, 0.023949606344103813, -0.037163183093070984, -0.010052570141851902, 0.019777648150920868, -0.009091452695429325, 0.010052570141851902, -0.010259032249450684, 0.012530115433037281, 0.0006563182105310261, 0.017784221097826958, 0.037533391267061234, -0.009625406935811043, 0.05017741769552231, -0.015249719843268394, 0.019350485876202583, 0.0024597470182925463, -0.012423324398696423, 0.09796272218227386, -0.011946326121687889, -0.004285869188606739, 0.009988495148718357, -0.0013838302111253142, -0.023593638092279434, 0.002714265137910843, -5.5342086852760985e-05, -0.008251366205513477, 0.002118016593158245, -0.02078860066831112, -0.02004818432033062, 0.022397581487894058, 0.012359250336885452, -0.00010801439930219203, 0.02429133839905262, -0.0026893471367657185, 0.007575024385005236, 0.009062975645065308, -0.0017753962893038988, -0.019606783986091614, -0.032065704464912415, 0.02451915852725506, -0.0004456289461813867, 0.030470963567495346, -0.02614237740635872, 0.0035917290952056646, -0.06555528938770294, 0.021756837144494057, -0.04257391393184662, -0.02477545663714409, 0.005432089790701866, -0.0009201803477481008, -0.0287907887250185, -0.012102952226996422, 0.009404705837368965, 0.030186187475919724, 0.06914345920085907, -0.01758487895131111, -0.013889918103814125, -0.018012041226029396, 0.027181807905435562, 0.002125136088579893, -0.019478633999824524, -0.005930446553975344, -0.015990136191248894, -0.03260677680373192, -0.02392113022506237, -0.03622342646121979, 0.03237895667552948, -0.02776559628546238, -0.0027249441482126713, 0.01757063902914524, -0.02242605946958065, 0.013106785714626312, 0.027865268290042877, -0.015050377696752548, -0.02266811765730381, 0.0003163676301483065, 0.021856509149074554, 0.002778339432552457, -0.020760122686624527, 0.013946873135864735, -0.004542166832834482, -0.009881705045700073, 0.0010625680442899466, -0.008749722503125668, -0.013142382726073265, -0.023365817964076996, 0.019364723935723305, 0.021870747208595276, 0.04160567745566368, 0.022198239341378212, -0.017271624878048897, 0.00933351181447506, 0.026569539681077003, -0.036194946616888046, 0.0032838156912475824, -0.02453339658677578, 0.012288056313991547, -0.027822552248835564, -0.04234609380364418, -0.001003833138383925, -0.03952682018280029, 0.010465494357049465, 0.01583351008594036, 0.006948518566787243, 0.015349391847848892, 0.023095281794667244, 0.035312142223119736, -0.024220144376158714, 0.005684827920049429, 0.002570097567513585, 0.0035579120740294456, 0.004040250554680824, 0.015776554122567177, -0.01831105537712574, -0.0017273405101150274, 0.009504377841949463, 0.008336798287928104, -0.006247259210795164, 0.04442495480179787, 0.04898136109113693, -0.03425847366452217, -0.010572285391390324, 0.0074539948254823685, 0.0010741370497271419, -0.010365823283791542, 0.00914840865880251, 0.017983563244342804, 0.024120472371578217, -0.030556395649909973, -0.01581927016377449, -0.05313907936215401, 0.00866429042071104, -0.022255193442106247, -0.0055246418341994286, -0.02155749499797821, -0.033461105078458786, 0.018097473308444023, -0.008927707560360432, -0.010721792466938496, -0.002370754722505808, 0.023266145959496498, -0.0016588164726272225, -0.03146767616271973, 0.018837889656424522, -0.020717406645417213, -0.01943591795861721, -0.002386773470789194, 0.00927655678242445, 0.012231101281940937, 0.006218781694769859, -0.012067355215549469, -0.04345671832561493, 0.023636354133486748, -0.036081038415431976, -0.020646212622523308, 0.017214670777320862, -0.01151204388588667, -0.03938443213701248, -0.013163740746676922, -0.0007720082066953182, -0.021087614819407463, 0.04374149441719055, -0.02776559628546238, 0.006920041050761938, 0.0019542707595974207, 0.030442485585808754, 0.01557721197605133, -0.014167574234306812, -0.010422778315842152, 0.013626500964164734, 0.015107332728803158, -0.00797371007502079, 0.005421410780400038, 0.023579400032758713, -0.03770425543189049, 0.009354870766401291, -0.016602402552962303, 0.0030079397838562727, -0.00958980992436409, 0.021500539034605026, 0.035938650369644165, -0.03665058687329292, -0.010508210398256779, -0.009810511022806168, -0.028719594702124596, 0.0005286142695695162, -0.012081594206392765, 0.0074468753300607204, 0.0021002183202654123, 0.014160454273223877, -0.018852127715945244, 0.011682908982038498, -0.026768883690238, 0.005133075639605522, 0.005567358341068029, -0.0020646213088184595, -0.016104046255350113, -0.0009006020263768733, 0.012658264487981796, -0.02041839249432087, -0.009618287906050682, 0.01183241605758667, 0.006581870373338461, 0.057496145367622375, 0.00028032573754899204, 0.001079476554878056, -0.04311498999595642, 0.0004890126874670386, -0.039185088127851486, 0.005314620211720467, -0.033090896904468536, 0.010529568418860435, 0.0068559665232896805, 0.0074468753300607204, 0.007518069352954626, -0.015634166076779366, 0.04023875668644905, -0.007354323286563158, 0.001414087601006031, 0.023949606344103813, 0.012743697501718998, -0.0485541969537735, -0.0010180718963965774, 0.033062417060136795, -0.05595835670828819, 0.016844462603330612, -0.020233288407325745, 0.005492604803293943, -0.007874038070440292, -0.0034795987885445356, -0.04496602714061737, 0.019706454128026962, -0.009369108825922012, 0.009048736654222012, 0.005873491521924734, 0.026128139346837997, -0.021642927080392838, -0.009077214635908604, -0.02241181954741478, -0.0016080908244475722, 0.03610951453447342, -0.034201521426439285, -0.003969056531786919, -0.01227381732314825, -0.0074682338163256645, 0.034059133380651474, 0.0038800642360001802, -0.00991018209606409, -0.022710833698511124, -0.013996708206832409, 0.02115880884230137, -0.02577216923236847, 0.005054762586951256, 0.03235048055648804, -0.028363624587655067, -0.023622116073966026, -0.035426054149866104, 0.0239068903028965, 0.017015326768159866, -0.009604048915207386, 0.005521082319319248, -0.015221242792904377, 0.03813141956925392, 0.028377864509820938, -0.03260677680373192, -0.0004983568796887994, 0.018496159464120865, 0.002790798433125019, 0.005207829177379608, -0.024319814518094063, 0.024191666394472122, 0.0037341169081628323, 0.020731646567583084, 0.0058841705322265625, 0.023992324247956276, 0.017371296882629395, 0.023251907899975777, -0.018211383372545242, 0.022255193442106247, 0.03129681199789047, -0.034059133380651474, -0.01818290539085865, 0.06077105924487114, 0.0010892656864598393, -0.01109199970960617, -0.023394295945763588, -0.04012484848499298, 0.027224523946642876, -0.0017397993942722678, 0.021087614819407463, -0.022596923634409904, -0.0052932617254555225, 0.0065783108584582806, -0.0016659358516335487, 0.007279569748789072, 0.020874032750725746, 0.01906570978462696, -0.011312700808048248, 0.009974257089197636, 0.020261766389012337, 0.004207555670291185, 0.04542166739702225, 0.004090086091309786, 0.011504923924803734, 0.027936462312936783, -0.02241181954741478, 0.041150037199258804, -0.006621026899665594, -0.007674695923924446, -0.026341719552874565, 0.002826395444571972, -0.021101852878928185, -0.01033022627234459, -0.025131424888968468, -0.0031076110899448395, 0.016460014507174492, -0.024319814518094063, 0.016004374250769615, 0.019279291853308678, 0.04732966423034668, -0.029730547219514847, 0.011355416849255562, -0.015904704108834267, 0.008699887432157993, -0.009974257089197636, 0.018966037780046463, 0.011170313693583012, 0.028990130871534348, -0.026313243433833122, -0.01954982802271843, 0.007112264633178711, 0.016986850649118423, 0.03163854032754898, 0.011476446874439716, -0.012800652533769608, -6.146030500531197e-05, 0.008009307086467743, -0.03650819882750511, -0.009611167944967747, 0.018353771418333054, -0.019393201917409897, -0.028206998482346535, -0.047386620193719864, 0.052512574940919876, 0.012373489327728748, -0.013982470147311687, 0.00877820048481226, 0.001487061264924705, 0.04918070510029793, 0.04285869002342224, -0.01990579627454281, 0.02530229091644287, -0.015363629907369614, 0.03995398059487343, 0.010465494357049465, 0.01957830600440502, 0.018481919541954994, -0.014794079586863518, 0.027737120166420937, 0.021258480846881866, 0.021472061052918434, 0.003055995563045144, 0.0278795063495636, -0.011561878956854343, 0.012366369366645813, 0.03588169440627098, -0.014580498449504375, 0.027751358225941658, -0.024319814518094063, -0.0028851302340626717, -0.06806130707263947, -0.0006914701662026346, -0.003904982004314661, -0.012316534295678139, 0.029844457283616066, -0.01128422375768423, 0.03198027238249779, -0.01745672896504402, 0.0076177408918738365, -0.051487382501363754, 0.0012690301518887281, 0.013035591691732407, -0.017157714813947678, -0.0010590082965791225, -0.001002943143248558, -0.003990414552390575, -0.04604817554354668, -0.0010109525173902512, -0.0006095972494222224, -0.023394295945763588, 0.028477534651756287, -0.005318179726600647, -0.005791618954390287, 0.038786403834819794, -0.004787785466760397, 0.03747643530368805, -0.012971517629921436, -0.014160454273223877, 0.01487951260060072, 0.0033567894715815783, 0.019492872059345245, -0.004371301736682653, 0.0046774353832006454, -0.006268617697060108, 0.02777983620762825, -0.0096467649564147, 0.03958377242088318, -0.027452344074845314, -0.059745870530605316, -0.0005517522222362459, -0.0055246418341994286, 0.006898683030158281, -0.020347198471426964, 0.01021631620824337, 0.0031503273639827967, -0.010408539324998856, -0.028064610436558723, 0.02140086703002453, -0.013341724872589111, -0.010607881471514702, -0.02043263241648674, 0.0356253981590271, 0.005916208028793335, 0.016146762296557426, 0.008194411173462868, 0.02826395444571972, 0.03277764469385147, 0.0038017509505152702, -0.016545448452234268, -0.0015911823138594627, 0.039299000054597855, -0.0011195230763405561, -0.007368562277406454, 0.0348849818110466, 0.006621026899665594, -0.023721786215901375, -0.021087614819407463, -0.0041541606187820435, -0.027737120166420937, -0.003684281138703227, 0.003338990965858102, 0.0036629228852689266, 0.0378466434776783, 0.041520245373249054, 0.01731434091925621, -0.014174693264067173, 0.042773257941007614, 0.007724531460553408, -0.005033404566347599, -0.048383332788944244, -0.0278795063495636, 0.029986845329403877, -0.0016605962300673127, 0.029246428981423378, -0.022981371730566025, 0.04881049692630768, -0.03112594597041607, -0.004414017777889967, -0.008806677535176277, 0.023009847849607468, -0.007354323286563158, -0.0031859243754297495, -0.007831322029232979, -0.011633072979748249, 0.0069698765873909, 0.029531205072999, -0.005652790889143944, 0.019649500027298927, -0.015249719843268394, 0.016260672360658646, 0.021144570782780647, -0.004716591909527779, -0.008550380356609821, -0.060486286878585815, 0.019151141867041588, 0.02179955318570137, -0.04075135290622711, 0.030072277411818504, -0.018496159464120865, -0.02525957301259041, 0.025003276765346527, -0.02202737331390381, 0.014359797351062298, 0.0007546546985395253, -0.011882252059876919, 0.02501751482486725, -0.010315987281501293, -0.0017762862844392657, 0.01482255756855011, -0.016887178644537926, 0.035682350397109985, -0.0027712201699614525, 0.09853227436542511, -0.02105913683772087, -0.007696053944528103, -0.019891558215022087, 0.024077756330370903, 0.0013179759262129664, 0.005236306693404913, 0.0068559665232896805, -0.007724531460553408, 0.050490669906139374, 0.01705804280936718, 0.015648405998945236, -0.03949834033846855, 0.04305803403258324, -0.001037650159560144, 0.02927490696310997, -0.03015770949423313, -0.025387722998857498, -0.0012539015151560307, 0.01382584311068058, 0.016232194378972054, -0.005549559835344553, -0.05305364727973938, -0.0029242869932204485, -0.04100764915347099, -0.025003276765346527, 0.012672503478825092, 0.032920029014348984, 0.034315429627895355, -0.001640128088183701, 0.019222335889935493, -0.012871845625340939, 0.021087614819407463, -0.031040513888001442, -0.006030118092894554, -0.01979188621044159, 0.0036593633703887463, -0.016146762296557426, 0.025601305067539215, -0.010073928162455559, 0.00567058939486742, -0.01683022268116474, 0.015548733994364738, -0.021984657272696495, 0.036821454763412476, 0.0094118257984519, -0.0044531747698783875, 0.00600520009174943, -0.002897589234635234, 0.016004374250769615, -0.007361442781984806, 0.009554212912917137, 0.04841180890798569, 0.0008952625212259591, -0.0013339945580810308, 0.012551473453640938, 0.027737120166420937, 0.03078421577811241, 0.038786403834819794, 0.018994515761733055, 0.017969325184822083, 0.0319233164191246, -0.03761882334947586, -0.006510676350444555, 0.01769878901541233, -0.0287907887250185, -0.06361881643533707, 0.004798464477062225, -9.72797060967423e-05, 0.03835923969745636, -0.008963304571807384, -0.006485758814960718, 0.024889366701245308, -0.02316647581756115, 0.04758596047759056, -0.004118563607335091, 0.036422766745090485, -0.02588607929646969, -0.0029207272455096245, 0.017470967024564743, -0.010301748290657997, 0.020717406645417213, -0.003954817540943623, -0.009767794981598854, -0.03699231892824173, -0.0313822440803051, 0.0009869246277958155, -0.047785304486751556, -0.003638005116954446, 0.01892332173883915, 0.010736030526459217, 0.031553108245134354, 0.0018403606954962015, 0.006991235073655844, -0.0006122670019976795, 0.002045043045654893, -0.02355092205107212, -0.006670862436294556, -0.004809143953025341, -0.0015030798967927694, 0.0004676545213442296, 0.010622120462357998, 0.005072561092674732, 0.006902242545038462, 0.009020259603857994, -0.0266692116856575, 0.0001420539483660832, -0.02803613431751728, -0.04143481329083443, -0.026484107598662376, 0.026811599731445312, 0.005926887039095163, -0.017599117010831833, -0.015406346879899502, 0.021628689020872116, -0.006710019428282976, 0.001523548155091703, 0.0099671371281147, -0.031325288116931915, 0.015121571719646454, 0.017285864800214767, 0.021358150988817215, 0.0035062965471297503, 0.05350928753614426, 0.01140525285154581, 0.010251912288367748, 0.05094631016254425, -0.006724257953464985, 0.04146329313516617, 0.017285864800214767, -0.026726167649030685, 0.020888272672891617, 0.008080501109361649, -0.006382527761161327, 0.010878418572247028, -0.008685648441314697, -0.024746978655457497, -0.03189484030008316, -0.03724861517548561, 0.006827489007264376, -0.011049283668398857, 0.012295176275074482, 0.0016116505721583962, 0.0026092540938407183, -0.01263690646737814, 0.005382254254072905, 0.002635951852425933, 0.0029670032672584057, -0.026455629616975784, 0.016531208530068398, -0.015249719843268394, 0.01966373808681965, -0.03995398059487343, 0.017371296882629395, 0.02664073370397091, -0.029531205072999, 0.011497804895043373, 0.01537786889821291, -0.011269984766840935, 0.015605689026415348, 0.009013139642775059, -0.0023013409227132797, -0.049408525228500366, 0.017656071111559868, 0.02118728682398796, 0.0031823646277189255, -0.00933351181447506, -0.011796819046139717, -0.016132524237036705, 0.04732966423034668, 0.021230002865195274, -0.008379514329135418, 0.0011408812133595347, -0.020219050347805023, 0.0067135789431631565, -0.030414007604122162, 0.0034813787788152695, 0.02430557645857334, -0.0026341720949858427, 0.008856513537466526, -0.019022993743419647, -0.03576778620481491, 0.01364785898476839, 0.030300097540020943, -0.023109519854187965, 0.019777648150920868, -0.02501751482486725, -0.026071183383464813, 0.01583351008594036, -0.0260284673422575, 0.002004106529057026, -0.021728359162807465, -0.006072834599763155, 0.0027035861276090145, 0.009696600958704948, 0.05570206046104431, -0.010166480205953121, -0.04123547300696373, 0.007966590113937855, 0.02729571796953678, -0.044538866728544235, -0.0139397531747818, -0.00535733625292778, 0.054733823984861374, 0.04348519816994667, -0.019834604114294052, 0.005407172255218029, 0.01982036419212818, 0.012992875650525093, -0.03334719315171242, -0.001897315843962133, -0.012914562597870827, 0.0021411546040326357, 0.011754103004932404, -0.0038195494562387466, 0.006215222179889679, -0.00771741196513176, 0.02315223589539528, 0.01214566919952631, -0.008180172182619572, -0.012359250336885452, -0.02567249722778797, -0.008934826590120792, -0.006621026899665594, 0.004851859994232655, -0.012124310247600079, 0.031951796263456345, -0.007432636804878712, -0.012373489327728748, 0.03477106988430023, -0.02852025255560875, 0.017257386818528175, 0.0076035019010305405, 0.012629786506295204, -0.04986416548490524, 0.02678312174975872, -0.04599121958017349, 0.022753551602363586, -0.003965497016906738, 0.0016908536199480295, -0.013519709929823875, 0.002274643164128065, 0.030442485585808754, 0.0007751228986307979, -0.004100765101611614, 0.0356253981590271, -0.002258624415844679, 0.03713470697402954, 0.0028833504766225815, 0.007510949857532978, -0.022226715460419655, 0.0443110466003418, -0.0004144816193729639, -0.011099119670689106, 0.000556201848667115, -0.00647507980465889, 0.018780933693051338, 0.024106234312057495, 0.0004216009983792901, 0.022326387465000153, 0.013434276916086674, -0.015890464186668396, 0.00019422569312155247, -0.02115880884230137, -0.02004818432033062, 0.017713027074933052, -0.01930776983499527, 0.015790794044733047, -0.009639645926654339, 0.003273136680945754, -0.01420317031443119, -0.0074682338163256645, -0.030214665457606316, -0.01853887550532818, -0.025686737149953842, 0.03440086171030998, -0.01768454909324646, -0.025345006957650185, 0.02580064721405506, -0.026982463896274567, -0.009084333665668964, 0.023479728028178215, -0.004364182241261005, 0.031837884336709976, -0.020276004448533058, 0.004819822963327169, 0.029673591256141663, 0.01252299640327692, 0.023251907899975777, 0.024960558861494064, -0.008322559297084808, 0.0174424909055233, 0.020518064498901367, 0.022611163556575775, 0.05618617683649063, -0.0014559139963239431, 0.001600971445441246, -0.004809143953025341, -0.022383343428373337, 0.012594190426170826, -0.03776121139526367, -0.024447964504361153, -0.015392107889056206, 0.013583783991634846, 0.025345006957650185, 0.03833076357841492, 0.0015902923187240958, 0.001301067415624857, -0.005190030671656132, 0.0051508741453289986, -0.028719594702124596, 0.025316528975963593, 0.04331433027982712, 0.0076035019010305405, 0.03283459693193436, 0.0002885575231630355, 0.029815979301929474, -0.0010883758077397943, 0.0214151069521904, 0.016659358516335487, 0.007340084761381149, 0.004033131059259176, 0.00728312972933054, 0.008998901583254337, 0.04459581896662712, -0.022070089355111122, -0.015733838081359863, -0.005841454491019249, 0.015520256944000721, -0.0021144570782780647, 0.021258480846881866, -0.006934280041605234, 0.005364455748349428, 0.011796819046139717, 0.04741509631276131, -0.011590356938540936, 0.0036326656118035316, 0.036792974919080734, 0.011811058036983013, -0.02478969469666481, -0.032806120812892914, 0.014544901438057423, 0.014167574234306812, -0.010586523450911045, 0.0011595695978030562, 0.016403060406446457, -0.031553108245134354, -0.0448521189391613, 0.022611163556575775, -0.0005005816929042339, 0.03425847366452217, -7.884161277615931e-06, 0.0007524298853240907, -0.018866367638111115, -0.023508206009864807, -0.03186636045575142, 0.031182901933789253, -0.030100755393505096, 0.0036593633703887463, -0.0046026818454265594, 0.016545448452234268, -0.00030257381149567664, -0.026085421442985535, -0.013121024705469608, -0.011540520936250687, 0.04650381579995155, -0.01769878901541233, -0.020902510732412338, 0.021756837144494057, 0.0009611168061383069, 0.008984662592411041, -0.030100755393505096, 0.014288603328168392, -0.0527973510324955, -0.012544354423880577, -0.008585977368056774, 0.03001532144844532, 0.024618828669190407, -0.0018083235481753945, -0.04001093655824661, 0.04368453845381737, -0.018353771418333054, 0.035682350397109985, 0.014060783199965954, 0.017243146896362305, 0.024561874568462372, -0.03662211075425148, -0.009433183819055557, -0.010002734139561653]\n"
          ]
        }
      ],
      "source": [
        "#Cosine Similarity\n",
        "\n",
        "from sklearn.feature_extraction.text import TfidfVectorizer\n",
        "from sklearn.metrics.pairwise import cosine_similarity\n",
        "import numpy as np\n",
        "# Define Get Embedding Function\n",
        "def get_embedding(text, model=\"text-embedding-3-small\"):\n",
        "   text = text.replace(\"\\n\", \" \")\n",
        "   return client.embeddings.create(input = text, model=model).data[0].embedding\n",
        "\n",
        "# Example Usage\n",
        "\n",
        "# Create A text string\n",
        "text = \"Hello, I am a member of a Digital Humanities Lab\"\n",
        "\n",
        "# Apply the function to the text and inspect the output\n",
        "print(get_embedding(text))\n",
        "\n",
        "def cosine_similarity_text(text1, text2):\n",
        "    # Generate Embeeddings for the text\n",
        "    embedding1 = get_embedding(text1)\n",
        "    embedding2 = get_embedding(text2)\n",
        "\n",
        "    # Convert embeddings to numpy arrays\n",
        "    embedding1 = np.array(embedding1).reshape(1, -1)\n",
        "    embedding2 = np.array(embedding2).reshape(1, -1)\n",
        "\n",
        "    # Calculate cosine similarity\n",
        "    similarity = cosine_similarity(embedding1, embedding2)[0][0]\n",
        "\n",
        "    # Display the result\n",
        "    print(f\"Cosine similarity: {similarity}\")\n",
        "\n",
        "def cosine_similarity_text_2(text1, text2):\n",
        "    #Calculate cosine similarity between two long text strings using TF-IDF\n",
        "    vectorizer = TfidfVectorizer().fit_transform([text1, text2])\n",
        "    vectors = vectorizer.toarray()\n",
        "    return cosine_similarity(vectors)[0, 1]"
      ]
    },
    {
      "cell_type": "code",
      "execution_count": null,
      "metadata": {
        "id": "YWqgA2X2Wv_R"
      },
      "outputs": [],
      "source": [
        "#Jaccard Index\n",
        "\n",
        "from nltk.util import ngrams\n",
        "\n",
        "def jaccard_index(text1, text2, n=3):\n",
        "    \"\"\"Calculate Jaccard index using n-grams for better comparison of longer texts.\"\"\"\n",
        "    set1 = set(ngrams(text1.split(), n))\n",
        "    set2 = set(ngrams(text2.split(), n))\n",
        "\n",
        "    intersection = len(set1.intersection(set2))\n",
        "    union = len(set1.union(set2))\n",
        "\n",
        "    return intersection / union if union != 0 else 0"
      ]
    },
    {
      "cell_type": "markdown",
      "metadata": {
        "id": "iJwAJultXcEx"
      },
      "source": [
        "# 3. Find the most relevant encyclopedia page for each query"
      ]
    },
    {
      "cell_type": "code",
      "execution_count": null,
      "metadata": {
        "colab": {
          "base_uri": "https://localhost:8080/"
        },
        "id": "B1SvWdYYQodf",
        "outputId": "00abbf29-702a-4e68-a379-7d759d3a9450"
      },
      "outputs": [
        {
          "name": "stdout",
          "output_type": "stream",
          "text": [
            "Collecting google-search-results\n",
            "  Downloading google_search_results-2.4.2.tar.gz (18 kB)\n",
            "  Preparing metadata (setup.py) ... \u001b[?25l\u001b[?25hdone\n",
            "Requirement already satisfied: requests in /usr/local/lib/python3.11/dist-packages (from google-search-results) (2.32.3)\n",
            "Requirement already satisfied: charset-normalizer<4,>=2 in /usr/local/lib/python3.11/dist-packages (from requests->google-search-results) (3.4.1)\n",
            "Requirement already satisfied: idna<4,>=2.5 in /usr/local/lib/python3.11/dist-packages (from requests->google-search-results) (3.10)\n",
            "Requirement already satisfied: urllib3<3,>=1.21.1 in /usr/local/lib/python3.11/dist-packages (from requests->google-search-results) (2.3.0)\n",
            "Requirement already satisfied: certifi>=2017.4.17 in /usr/local/lib/python3.11/dist-packages (from requests->google-search-results) (2025.1.31)\n",
            "Building wheels for collected packages: google-search-results\n",
            "  Building wheel for google-search-results (setup.py) ... \u001b[?25l\u001b[?25hdone\n",
            "  Created wheel for google-search-results: filename=google_search_results-2.4.2-py3-none-any.whl size=32009 sha256=55040dff74483a204d44f280c343954be7abcc4bdf8d9640953a837cfa140678\n",
            "  Stored in directory: /root/.cache/pip/wheels/6e/42/3e/aeb691b02cb7175ec70e2da04b5658d4739d2b41e5f73cd06f\n",
            "Successfully built google-search-results\n",
            "Installing collected packages: google-search-results\n",
            "Successfully installed google-search-results-2.4.2\n"
          ]
        }
      ],
      "source": [
        "!pip install google-search-results"
      ]
    },
    {
      "cell_type": "code",
      "execution_count": null,
      "metadata": {
        "cellView": "form",
        "colab": {
          "base_uri": "https://localhost:8080/",
          "height": 216
        },
        "id": "ROQhYTZVQrJH",
        "outputId": "bfa76a5e-4486-429c-eaf9-193fbde89956"
      },
      "outputs": [
        {
          "ename": "KeyboardInterrupt",
          "evalue": "",
          "output_type": "error",
          "traceback": [
            "\u001b[0;31m---------------------------------------------------------------------------\u001b[0m",
            "\u001b[0;31mKeyboardInterrupt\u001b[0m                         Traceback (most recent call last)",
            "\u001b[0;32m<ipython-input-9-fb0fe04675d1>\u001b[0m in \u001b[0;36m<cell line: 0>\u001b[0;34m()\u001b[0m\n\u001b[1;32m     27\u001b[0m         \u001b[0mresult\u001b[0m \u001b[0;34m=\u001b[0m \u001b[0mget_google_results\u001b[0m\u001b[0;34m(\u001b[0m\u001b[0mquery\u001b[0m\u001b[0;34m)\u001b[0m  \u001b[0;31m# Perform the search\u001b[0m\u001b[0;34m\u001b[0m\u001b[0;34m\u001b[0m\u001b[0m\n\u001b[1;32m     28\u001b[0m         \u001b[0mresults\u001b[0m\u001b[0;34m.\u001b[0m\u001b[0mappend\u001b[0m\u001b[0;34m(\u001b[0m\u001b[0;34m{\u001b[0m\u001b[0;34m\"query\"\u001b[0m\u001b[0;34m:\u001b[0m \u001b[0mquery\u001b[0m\u001b[0;34m,\u001b[0m \u001b[0;34m\"result\"\u001b[0m\u001b[0;34m:\u001b[0m \u001b[0mresult\u001b[0m\u001b[0;34m}\u001b[0m\u001b[0;34m)\u001b[0m\u001b[0;34m\u001b[0m\u001b[0;34m\u001b[0m\u001b[0m\n\u001b[0;32m---> 29\u001b[0;31m         \u001b[0mtime\u001b[0m\u001b[0;34m.\u001b[0m\u001b[0msleep\u001b[0m\u001b[0;34m(\u001b[0m\u001b[0;36m1\u001b[0m\u001b[0;34m)\u001b[0m  \u001b[0;31m# Add delay to avoid hitting rate limits (adjust as needed)\u001b[0m\u001b[0;34m\u001b[0m\u001b[0;34m\u001b[0m\u001b[0m\n\u001b[0m\u001b[1;32m     30\u001b[0m     \u001b[0;32mexcept\u001b[0m \u001b[0mException\u001b[0m \u001b[0;32mas\u001b[0m \u001b[0me\u001b[0m\u001b[0;34m:\u001b[0m\u001b[0;34m\u001b[0m\u001b[0;34m\u001b[0m\u001b[0m\n\u001b[1;32m     31\u001b[0m         \u001b[0mprint\u001b[0m\u001b[0;34m(\u001b[0m\u001b[0;34mf\"Error fetching results for query '{query}': {e}\"\u001b[0m\u001b[0;34m)\u001b[0m\u001b[0;34m\u001b[0m\u001b[0;34m\u001b[0m\u001b[0m\n",
            "\u001b[0;31mKeyboardInterrupt\u001b[0m: "
          ]
        }
      ],
      "source": [
        "from serpapi import GoogleSearch\n",
        "\n",
        "def get_google_results(query, num_results=20):\n",
        "    # Retrieve the API key from the environment variable\n",
        "    api_key = os.getenv(\"SERP_API_KEY\")\n",
        "    if not api_key:\n",
        "        raise EnvironmentError(\"SERP_API_KEY environment variable is not set.\")\n",
        "\n",
        "    # Set up parameters for the query\n",
        "    params = {\n",
        "        \"q\": query,                # Search query\n",
        "        \"num\": num_results,        # Number of results\n",
        "        \"engine\": \"google\",        # Search engine\n",
        "        \"api_key\": api_key,        # SerpAPI key\n",
        "        ## Add location\n",
        "    }\n",
        "\n",
        "    # Perform the search\n",
        "    search = GoogleSearch(params)\n",
        "    results = search.get_dict()  # Get the results as a dictionary\n",
        "    return results\n",
        "#@title run the API on the top 100 queries\n",
        "import time\n",
        "results = []\n",
        "for query in df['Top queries'][0:100]:\n",
        "    try:\n",
        "        result = get_google_results(query)  # Perform the search\n",
        "        results.append({\"query\": query, \"result\": result})\n",
        "        time.sleep(1)  # Add delay to avoid hitting rate limits (adjust as needed)\n",
        "    except Exception as e:\n",
        "        print(f\"Error fetching results for query '{query}': {e}\")\n",
        "        results.append({\"query\": query, \"result\": None})\n",
        "\n",
        "# Convert results to a DataFrame for easier analysis\n",
        "results_df = pd.DataFrame(results)"
      ]
    },
    {
      "cell_type": "code",
      "execution_count": null,
      "metadata": {
        "colab": {
          "base_uri": "https://localhost:8080/"
        },
        "id": "AaA6ZbUrM31M",
        "outputId": "1be56655-b30b-44aa-d95e-52672c1168fc"
      },
      "outputs": [
        {
          "name": "stdout",
          "output_type": "stream",
          "text": [
            "                                   query  \\\n",
            "0  how many people died in the holocaust   \n",
            "1                      armenian genocide   \n",
            "2                 holocaust encyclopedia   \n",
            "3                    first they came for   \n",
            "4                              holocaust   \n",
            "\n",
            "                                              result  \n",
            "0  {'search_metadata': {'id': '67d06dde4b67787818...  \n",
            "1  {'search_metadata': {'id': '67d06de4fbedfa7dad...  \n",
            "2  {'search_metadata': {'id': '67d06de62284767c7c...  \n",
            "3  {'search_metadata': {'id': '67d06de95f6d02881c...  \n",
            "4  {'search_metadata': {'id': '67d06deb4d4850847a...  \n"
          ]
        }
      ],
      "source": [
        "print(results_df.head())"
      ]
    },
    {
      "cell_type": "code",
      "execution_count": null,
      "metadata": {
        "id": "2wsTSuyUiHKa"
      },
      "outputs": [],
      "source": [
        "import pandas as pd\n",
        "def extract_ushmm_links(result_data):\n",
        "  ushmm_links = []  # Links to encyclopedia.ushmm.org\n",
        "  ushmm_links = [\n",
        "        result[\"link\"] for result in result_data.get(\"organic_results\", [])\n",
        "        if \"encyclopedia.ushmm.org\" in result[\"link\"]\n",
        "    ]\n",
        "  return ushmm_links\n",
        "def process_results_list(results_list):\n",
        "\n",
        "    processed_results = []\n",
        "\n",
        "    for result_entry in results_list:\n",
        "        query = result_entry.get(\"query\", \"Unknown Query\")\n",
        "        result_data = result_entry.get(\"result\", {})\n",
        "\n",
        "        ushmm_links = extract_ushmm_links(result_data)\n",
        "\n",
        "        processed_results.append({\n",
        "            \"query\": query,\n",
        "            \"ushmm_links\": ushmm_links\n",
        "        })\n",
        "\n",
        "    return processed_results\n"
      ]
    },
    {
      "cell_type": "code",
      "execution_count": null,
      "metadata": {
        "colab": {
          "base_uri": "https://localhost:8080/"
        },
        "id": "EU_4cSwONmB2",
        "outputId": "2bd309e8-8be6-4209-e692-4c220ec268c0"
      },
      "outputs": [
        {
          "name": "stdout",
          "output_type": "stream",
          "text": [
            "                                   query  \\\n",
            "0  how many people died in the holocaust   \n",
            "1                      armenian genocide   \n",
            "2                 holocaust encyclopedia   \n",
            "3                    first they came for   \n",
            "4                              holocaust   \n",
            "\n",
            "                                         ushmm_links  \\\n",
            "0  ['https://encyclopedia.ushmm.org/content/en/ar...   \n",
            "1  ['https://encyclopedia.ushmm.org/content/en/ar...   \n",
            "2                ['https://encyclopedia.ushmm.org/']   \n",
            "3  ['https://encyclopedia.ushmm.org/content/en/ar...   \n",
            "4  ['https://encyclopedia.ushmm.org/content/en/ar...   \n",
            "\n",
            "                                       ushmm_article  \n",
            "0  #How Many People did the Nazis Murder? | Holoc...  \n",
            "1  #The Armenian Genocide (1915-16): Overview | H...  \n",
            "2  Error: No article or main content found on htt...  \n",
            "3  #Martin Niemöller: \"First they came for the So...  \n",
            "4  #Introduction to the Holocaust: What was the H...  \n"
          ]
        }
      ],
      "source": []
    },
    {
      "cell_type": "markdown",
      "metadata": {
        "id": "mLTeSmJSOhl-"
      },
      "source": [
        "# 4. Extract markdown text from encyclopedia articles"
      ]
    },
    {
      "cell_type": "code",
      "execution_count": null,
      "metadata": {
        "colab": {
          "base_uri": "https://localhost:8080/"
        },
        "id": "E0gL4msuOWiI",
        "outputId": "eb108c0e-5e3e-4081-a1c6-df6b09b8736e"
      },
      "outputs": [
        {
          "name": "stdout",
          "output_type": "stream",
          "text": [
            "Collecting markdownify\n",
            "  Downloading markdownify-1.1.0-py3-none-any.whl.metadata (9.1 kB)\n",
            "Requirement already satisfied: beautifulsoup4<5,>=4.9 in /usr/local/lib/python3.11/dist-packages (from markdownify) (4.13.3)\n",
            "Requirement already satisfied: six<2,>=1.15 in /usr/local/lib/python3.11/dist-packages (from markdownify) (1.17.0)\n",
            "Requirement already satisfied: soupsieve>1.2 in /usr/local/lib/python3.11/dist-packages (from beautifulsoup4<5,>=4.9->markdownify) (2.6)\n",
            "Requirement already satisfied: typing-extensions>=4.0.0 in /usr/local/lib/python3.11/dist-packages (from beautifulsoup4<5,>=4.9->markdownify) (4.12.2)\n",
            "Downloading markdownify-1.1.0-py3-none-any.whl (13 kB)\n",
            "Installing collected packages: markdownify\n",
            "Successfully installed markdownify-1.1.0\n"
          ]
        }
      ],
      "source": [
        "!pip install markdownify"
      ]
    },
    {
      "cell_type": "code",
      "execution_count": null,
      "metadata": {
        "id": "WF73vl7cOLng"
      },
      "outputs": [],
      "source": [
        "import requests\n",
        "from bs4 import BeautifulSoup\n",
        "from markdownify import markdownify as md\n",
        "\n",
        "def extract_article_from_url(url: str) -> str:\n",
        "    \"\"\"\n",
        "    Fetches the HTML content from a URL and extracts the main article content.\n",
        "    Args:\n",
        "        url (str): The URL of the webpage.\n",
        "    Returns:\n",
        "        str: Cleaned article content in Markdown format.\n",
        "    \"\"\"\n",
        "    try:\n",
        "        # Fetch the HTML content\n",
        "        response = requests.get(url, timeout=10)  # Set timeout for network stability\n",
        "        response.raise_for_status()\n",
        "        html = response.text\n",
        "    except requests.exceptions.RequestException as e:\n",
        "        return f\"Error fetching URL {url}: {e}\"\n",
        "\n",
        "    try:\n",
        "        # Parse with BeautifulSoup\n",
        "        soup = BeautifulSoup(html, \"html.parser\")\n",
        "\n",
        "        # Locate the main content area\n",
        "        content = soup.find(\"article\") or soup.find(\"main\")  # Use <main> if <article> is missing\n",
        "        if not content:\n",
        "            return f\"Error: No article or main content found on {url}\"\n",
        "\n",
        "        # Remove unwanted elements\n",
        "        for tag in content.find_all([\"aside\", \"nav\", \"footer\", \"script\", \"style\", \"header\", \"figure\", \"button\", \"template\"]):\n",
        "            tag.decompose()\n",
        "\n",
        "        # Remove unwanted span classes\n",
        "        REMOVE_CLASSES = {\"visually-hidden\", \"embedded-narrative-credit\", \"embedded-asset\", \"audio-embed-wrapper\", \"audio-caption-wrapper\", \"audio-caption\", \"audio-credit\"}\n",
        "        for span in content.find_all(\"span\", class_=lambda c: c in REMOVE_CLASSES):\n",
        "            span.decompose()\n",
        "\n",
        "        # Extract the title\n",
        "        title = soup.title.string.strip() if soup.title else \"Untitled\"\n",
        "\n",
        "        # Convert content to Markdown\n",
        "        article_markdown = md(str(content), heading_style=\"ATX\", strip=[\"a\", \"img\"])\n",
        "\n",
        "        # Fix asterisk escaping issue\n",
        "        article_markdown = article_markdown.replace(r\"\\*\", \"*\")  # Remove unwanted escaping\n",
        "\n",
        "        return f\"#{title}\\n\\n{article_markdown}\"\n",
        "\n",
        "    except Exception as e:\n",
        "        return f\"Error processing article from {url}: {e}\""
      ]
    },
    {
      "cell_type": "code",
      "execution_count": null,
      "metadata": {
        "id": "Ch0sFLtjPGel"
      },
      "outputs": [],
      "source": [
        "processed_results_df['ushmm_article'] = processed_results_df['ushmm_links'].apply(lambda x: extract_article_from_url(x[0] if x else None))"
      ]
    },
    {
      "cell_type": "code",
      "execution_count": null,
      "metadata": {
        "colab": {
          "base_uri": "https://localhost:8080/"
        },
        "id": "yfQ17ismPSO9",
        "outputId": "63904182-d8e2-4dd5-c3fd-fe1a6e5629b9"
      },
      "outputs": [
        {
          "name": "stdout",
          "output_type": "stream",
          "text": [
            "                                   query  \\\n",
            "0  how many people died in the holocaust   \n",
            "1                      armenian genocide   \n",
            "2                 holocaust encyclopedia   \n",
            "3                    first they came for   \n",
            "4                              holocaust   \n",
            "\n",
            "                                         ushmm_links  \\\n",
            "0  ['https://encyclopedia.ushmm.org/content/en/ar...   \n",
            "1  ['https://encyclopedia.ushmm.org/content/en/ar...   \n",
            "2                ['https://encyclopedia.ushmm.org/']   \n",
            "3  ['https://encyclopedia.ushmm.org/content/en/ar...   \n",
            "4  ['https://encyclopedia.ushmm.org/content/en/ar...   \n",
            "\n",
            "                              ushmm_article  \n",
            "0  Error fetching URL [: Failed to parse: [  \n",
            "1  Error fetching URL [: Failed to parse: [  \n",
            "2  Error fetching URL [: Failed to parse: [  \n",
            "3  Error fetching URL [: Failed to parse: [  \n",
            "4  Error fetching URL [: Failed to parse: [  \n",
            "/content\n"
          ]
        }
      ],
      "source": [
        "print(processed_results_df.head())\n",
        "\n",
        "print(os.getcwd())\n",
        "processed_results_df.to_csv(\"processed_results.csv\", index=False)"
      ]
    },
    {
      "cell_type": "markdown",
      "metadata": {
        "id": "2B83Oy6eMpz6"
      },
      "source": [
        "# Upload File With query, link(s), and encyclopedia content (skips steps 3 and 4)"
      ]
    },
    {
      "cell_type": "code",
      "execution_count": null,
      "metadata": {
        "colab": {
          "base_uri": "https://localhost:8080/"
        },
        "id": "StHC-IUgMkK8",
        "outputId": "12c0f611-f34b-46bb-d812-1864e9a3765f"
      },
      "outputs": [
        {
          "name": "stdout",
          "output_type": "stream",
          "text": [
            "                                   query  \\\n",
            "0  how many people died in the holocaust   \n",
            "1                      armenian genocide   \n",
            "2                 holocaust encyclopedia   \n",
            "3                    first they came for   \n",
            "4                              holocaust   \n",
            "\n",
            "                                         ushmm_links  \\\n",
            "0  ['https://encyclopedia.ushmm.org/content/en/ar...   \n",
            "1  ['https://encyclopedia.ushmm.org/content/en/ar...   \n",
            "2                ['https://encyclopedia.ushmm.org/']   \n",
            "3  ['https://encyclopedia.ushmm.org/content/en/ar...   \n",
            "4  ['https://encyclopedia.ushmm.org/content/en/ar...   \n",
            "\n",
            "                                       ushmm_article  \n",
            "0  #How Many People did the Nazis Murder? | Holoc...  \n",
            "1  #The Armenian Genocide (1915-16): Overview | H...  \n",
            "2  Error: No article or main content found on htt...  \n",
            "3  #Martin Niemöller: \"First they came for the So...  \n",
            "4  #Introduction to the Holocaust: What was the H...  \n",
            "                           query  \\\n",
            "3            first they came for   \n",
            "39  how did hitler rise to power   \n",
            "\n",
            "                                          ushmm_links  \\\n",
            "3   ['https://encyclopedia.ushmm.org/content/en/ar...   \n",
            "39  ['https://encyclopedia.ushmm.org/content/en/ar...   \n",
            "\n",
            "                                        ushmm_article  \n",
            "3   #Martin Niemöller: \"First they came for the So...  \n",
            "39  #Hitler Comes to Power: How, When, & Key Dates...  \n",
            "                 query                                        ushmm_links  \\\n",
            "0  first they came for  ['https://encyclopedia.ushmm.org/content/en/ar...   \n",
            "1  first they came for  ['https://encyclopedia.ushmm.org/content/en/ar...   \n",
            "2  first they came for  ['https://encyclopedia.ushmm.org/content/en/ar...   \n",
            "3  first they came for  ['https://encyclopedia.ushmm.org/content/en/ar...   \n",
            "4  first they came for  ['https://encyclopedia.ushmm.org/content/en/ar...   \n",
            "\n",
            "                                       ushmm_article  \n",
            "0  #Martin Niemöller: \"First they came for the So...  \n",
            "1  #Martin Niemöller: \"First they came for the So...  \n",
            "2  #Martin Niemöller: \"First they came for the So...  \n",
            "3  #Martin Niemöller: \"First they came for the So...  \n",
            "4  #Martin Niemöller: \"First they came for the So...  \n",
            "                           query  \\\n",
            "15  how did hitler rise to power   \n",
            "16  how did hitler rise to power   \n",
            "17  how did hitler rise to power   \n",
            "18  how did hitler rise to power   \n",
            "19  how did hitler rise to power   \n",
            "\n",
            "                                          ushmm_links  \\\n",
            "15  ['https://encyclopedia.ushmm.org/content/en/ar...   \n",
            "16  ['https://encyclopedia.ushmm.org/content/en/ar...   \n",
            "17  ['https://encyclopedia.ushmm.org/content/en/ar...   \n",
            "18  ['https://encyclopedia.ushmm.org/content/en/ar...   \n",
            "19  ['https://encyclopedia.ushmm.org/content/en/ar...   \n",
            "\n",
            "                                        ushmm_article  \n",
            "15  #Hitler Comes to Power: How, When, & Key Dates...  \n",
            "16  #Hitler Comes to Power: How, When, & Key Dates...  \n",
            "17  #Hitler Comes to Power: How, When, & Key Dates...  \n",
            "18  #Hitler Comes to Power: How, When, & Key Dates...  \n",
            "19  #Hitler Comes to Power: How, When, & Key Dates...  \n"
          ]
        }
      ],
      "source": [
        "import pandas as pd\n",
        "#processed_results = process_results_list(results[0:100])\n",
        "#processed_results_df = pd.DataFrame(processed_results)\n",
        "#processed_results_df.head()\n",
        "\n",
        "#Upload previously processed results file (top 100) to avoid running SERP API\n",
        "file_path = \"/content/drive/My Drive/processed_results.csv\"\n",
        "processed_results_df = pd.read_csv(file_path)\n",
        "#print(len(processed_results_df))\n",
        "print(processed_results_df.head())\n",
        "#top 10 queries only for easier testing\n",
        "processed_results_df_10 = processed_results_df[:10]\n",
        "#print(len(processed_results_df_10))\n",
        "one_factual_one_nuanced = processed_results_df[processed_results_df[\"query\"].isin([\"first they came for\", \"how did hitler rise to power\"])]\n",
        "print(one_factual_one_nuanced.head())\n",
        "\n",
        "# Select rows where 'query' matches the given values\n",
        "selected_rows = processed_results_df[processed_results_df[\"query\"].isin([\"first they came for\", \"how did hitler rise to power\"])]\n",
        "\n",
        "# Duplicate each row 10 times\n",
        "duplicated_rows = selected_rows.loc[selected_rows.index.repeat(10)].reset_index(drop=True)\n",
        "\n",
        "# Merge duplicated rows back into the original DataFrame\n",
        "merged_df = pd.concat([one_factual_one_nuanced, duplicated_rows], ignore_index=True)\n",
        "\n",
        "print(duplicated_rows.head())\n",
        "print(duplicated_rows.tail())"
      ]
    },
    {
      "cell_type": "markdown",
      "metadata": {
        "id": "d1510K4SXxJX"
      },
      "source": [
        "# Initialize LLMs and define functions to query them\n"
      ]
    },
    {
      "cell_type": "code",
      "execution_count": null,
      "metadata": {
        "id": "dgNNBsrWgkhr"
      },
      "outputs": [],
      "source": [
        "#load API keys\n",
        "OPENAI_API_KEY = userdata.get('OPEN_AI_PROJECT_KEY')\n",
        "GOOGLE_API_KEY = userdata.get('GEMINI_PROJECT_KEY')\n",
        "GROK_API_KEY = userdata.get('GROK_PROJECT_KEY')"
      ]
    },
    {
      "cell_type": "markdown",
      "metadata": {
        "id": "emnho82-555p"
      },
      "source": [
        "OpenAI (GPT)"
      ]
    },
    {
      "cell_type": "code",
      "execution_count": null,
      "metadata": {
        "id": "jJSHaWFV516n"
      },
      "outputs": [],
      "source": [
        "from typing import List, Dict, Any, Callable\n",
        "from pydantic import BaseModel, Field, ValidationError\n",
        "import json\n",
        "import time\n",
        "\n",
        "# Import Colab Secrets userdata module\n",
        "from google.colab import userdata\n",
        "import os\n",
        "from openai import OpenAI\n",
        "\n",
        "\n",
        "# Pass the API key to Open AI\n",
        "client = OpenAI(api_key=userdata.get('OPEN_AI_PROJECT_KEY'))\n",
        "\n",
        "def query_gpt4o(prompt: str) -> str:\n",
        "  try:\n",
        "    time.sleep(0.13)\n",
        "    response = client.chat.completions.create(\n",
        "        messages=[{\"role\": \"user\", \"content\": prompt}],\n",
        "        model=\"gpt-4o\",\n",
        "    )\n",
        "    return response.choices[0].message.content\n",
        "  except Exception as e:\n",
        "    return f\"GPT-4o Error: {str(e)}\"\n",
        "\n",
        "  #alternative querying functions\n",
        "def base_gpt(input, model):\n",
        "    response = client.chat.completions.create(\n",
        "        messages=[\n",
        "            {\"role\": \"user\", \"content\": input,}],\n",
        "        model=model,\n",
        "    )\n",
        "    output_dict = {\n",
        "        \"model\": model,\n",
        "        \"output\": response.choices[0].message.content\n",
        "    }\n",
        "    return response.choices[0].message.content\n",
        "\n",
        "def generate_LLM_response(row) -> List[str]:\n",
        "    #Let's start the the fewest assumptions\n",
        "    input_data = row['Top queries']\n",
        "    response = base_gpt(input_data, \"gpt-4o\")\n",
        "    return response"
      ]
    },
    {
      "cell_type": "markdown",
      "metadata": {
        "id": "nf2S3XaU6AJ-"
      },
      "source": [
        "Google (Gemini)"
      ]
    },
    {
      "cell_type": "code",
      "execution_count": null,
      "metadata": {
        "id": "1cPtZGK7X58l"
      },
      "outputs": [],
      "source": [
        "from typing import List, Dict\n",
        "import json\n",
        "import os\n",
        "import requests\n",
        "import google.generativeai as genai\n",
        "from google.colab import userdata\n",
        "from openai import OpenAI\n",
        "\n",
        "# Initialize Gemini\n",
        "genai.configure(api_key=GOOGLE_API_KEY)\n",
        "\n",
        "# Query Gemini 2.0 Flash\n",
        "def query_gemini(prompt: str) -> str:\n",
        "    model = genai.GenerativeModel(\n",
        "    'gemini-2.0-flash',\n",
        "    generation_config=genai.GenerationConfig(\n",
        "        max_output_tokens=2000,\n",
        "        temperature=0.9,\n",
        "    ))\n",
        "    try:\n",
        "        time.sleep(4.1)  # ~4 seconds delay to stay under 2.0 flash rate limit 15 requests/minute\n",
        "        response = model.generate_content(prompt)\n",
        "        return response.text.strip()\n",
        "    except Exception as e:\n",
        "        return f\"Error: {str(e)}\""
      ]
    },
    {
      "cell_type": "markdown",
      "metadata": {
        "id": "gqiC_tuJ9G6p"
      },
      "source": [
        "XAI (GROK)"
      ]
    },
    {
      "cell_type": "code",
      "execution_count": null,
      "metadata": {
        "id": "Ei0hJgWJk3Lf"
      },
      "outputs": [],
      "source": [
        "# Query Grok latest version\n",
        "# Initialize Grok Client\n",
        "grok_client = OpenAI(\n",
        "    api_key=GROK_API_KEY,\n",
        "    base_url=\"https://api.x.ai/v1\",\n",
        ")\n",
        "\n",
        "# Function to Query Grok\n",
        "def query_grok(prompt: str) -> str:\n",
        "    try:\n",
        "        time.sleep(0.13) # ~1/8 seconds delay to stay under grok-2-1212 rate limit of 8 requests/second\n",
        "        response = grok_client.chat.completions.create(\n",
        "            model=\"grok-2-latest\",  # Use the latest Grok model\n",
        "            messages=[{\"role\": \"user\", \"content\": prompt}],\n",
        "        )\n",
        "        return response.choices[0].message.content\n",
        "    except Exception as e:\n",
        "        return f\"Grok API Error: {str(e)}\""
      ]
    },
    {
      "cell_type": "markdown",
      "metadata": {
        "id": "iTjRi56SlHSW"
      },
      "source": [
        "GENERATE LLM RESPONSES"
      ]
    },
    {
      "cell_type": "code",
      "execution_count": null,
      "metadata": {
        "id": "Isq6688BlBtp"
      },
      "outputs": [],
      "source": [
        "# Generate LLM Responses=\n",
        "def generate_LLM_responses(row) -> Dict[str, str]:\n",
        "    prompt = row['Top queries']\n",
        "\n",
        "    return {\n",
        "        \"GPT-4o\": query_gpt4o(prompt),\n",
        "        \"Gemini\": query_gemini(prompt),\n",
        "        \"Grok\": query_grok(prompt)\n",
        "    }\n",
        "\n",
        "import pandas as pd\n",
        "\n",
        "# Process DataFrame and Add LLM Responses\n",
        "def generate_LLM_responses_df(df):\n",
        "    # Apply the function to each row and create new columns\n",
        "    df[['GPT-4o Response', 'Gemini Response', 'Grok Response']] = df['Top queries'].apply(\n",
        "        lambda prompt: pd.Series(generate_LLM_responses({\"Top queries\": prompt}))\n",
        "    )\n",
        "    return df\n",
        "\n",
        "#Generate just GPT response\n"
      ]
    },
    {
      "cell_type": "code",
      "execution_count": null,
      "metadata": {
        "id": "6a1PS3XOVrnv"
      },
      "outputs": [],
      "source": [
        "def generate_LLM_responses_df_progress(df_batch, nrows):\n",
        "    # Initialize empty lists to store responses\n",
        "    gpt_responses = []\n",
        "    gemini_responses = []\n",
        "    grok_responses = []\n",
        "\n",
        "    for idx, row in df_batch.iterrows():\n",
        "        prompt = row['Top queries']\n",
        "\n",
        "        # Query each LLM\n",
        "        gpt = query_gpt4o(prompt)\n",
        "        gemini = query_gemini(prompt)\n",
        "        grok = query_grok(prompt)\n",
        "\n",
        "        # Append responses\n",
        "        gpt_responses.append(gpt)\n",
        "        gemini_responses.append(gemini)\n",
        "        grok_responses.append(grok)\n",
        "\n",
        "        # Print every n rows\n",
        "        if (idx + 1) % nrows == 0:\n",
        "            print(f\"Processed {idx + 1} rows\")\n",
        "\n",
        "    # Assign new columns\n",
        "    df_batch['GPT-4o Response'] = gpt_responses\n",
        "    df_batch['Gemini Response'] = gemini_responses\n",
        "    df_batch['Grok Response'] = grok_responses\n",
        "\n",
        "    return df_batch"
      ]
    },
    {
      "cell_type": "code",
      "execution_count": null,
      "metadata": {
        "id": "Tfo_y6tIhcu3"
      },
      "outputs": [],
      "source": [
        "def process_in_batches(df, batch_size=1000):\n",
        "    batches = []\n",
        "    total_batches = (len(df) + batch_size - 1) // batch_size  # ceiling division\n",
        "\n",
        "    for i in range(total_batches):\n",
        "      print(f\"Processing batch {i+1}/{total_batches}...\")\n",
        "      batch = df.iloc[i*batch_size:(i+1)*batch_size].copy()\n",
        "      batch_with_responses = generate_LLM_responses_df(batch)\n",
        "\n",
        "      # Save individual batch just in case\n",
        "      batch_with_responses.to_csv(f'batch_{i+1}_responses.csv', index=False)\n",
        "\n",
        "      batches.append(batch_with_responses)\n",
        "\n",
        "    # Concatenate all batches back together\n",
        "    final_df = pd.concat(batches, ignore_index=True)\n",
        "    return final_df\n"
      ]
    },
    {
      "cell_type": "markdown",
      "metadata": {
        "id": "X_nImD1Ii5dY"
      },
      "source": [
        "# Query LLMs (defunct)"
      ]
    },
    {
      "cell_type": "code",
      "execution_count": null,
      "metadata": {
        "colab": {
          "base_uri": "https://localhost:8080/",
          "height": 321
        },
        "id": "J3jw8GJcvpxn",
        "outputId": "f64c6225-06cd-4169-964e-c0e3716a94d5"
      },
      "outputs": [
        {
          "ename": "FileNotFoundError",
          "evalue": "[Errno 2] No such file or directory: 'holocaust_questions_1.xlsx'",
          "output_type": "error",
          "traceback": [
            "\u001b[0;31m---------------------------------------------------------------------------\u001b[0m",
            "\u001b[0;31mFileNotFoundError\u001b[0m                         Traceback (most recent call last)",
            "\u001b[0;32m<ipython-input-14-a4f7fbe58c2f>\u001b[0m in \u001b[0;36m<cell line: 0>\u001b[0;34m()\u001b[0m\n\u001b[0;32m----> 1\u001b[0;31m \u001b[0mquestions1\u001b[0m \u001b[0;34m=\u001b[0m \u001b[0mpd\u001b[0m\u001b[0;34m.\u001b[0m\u001b[0mread_excel\u001b[0m\u001b[0;34m(\u001b[0m\u001b[0;34m\"holocaust_questions_1.xlsx\"\u001b[0m\u001b[0;34m)\u001b[0m\u001b[0;34m\u001b[0m\u001b[0;34m\u001b[0m\u001b[0m\n\u001b[0m\u001b[1;32m      2\u001b[0m \u001b[0mquestions1\u001b[0m\u001b[0;34m\u001b[0m\u001b[0;34m\u001b[0m\u001b[0m\n",
            "\u001b[0;32m/usr/local/lib/python3.11/dist-packages/pandas/io/excel/_base.py\u001b[0m in \u001b[0;36mread_excel\u001b[0;34m(io, sheet_name, header, names, index_col, usecols, dtype, engine, converters, true_values, false_values, skiprows, nrows, na_values, keep_default_na, na_filter, verbose, parse_dates, date_parser, date_format, thousands, decimal, comment, skipfooter, storage_options, dtype_backend, engine_kwargs)\u001b[0m\n\u001b[1;32m    493\u001b[0m     \u001b[0;32mif\u001b[0m \u001b[0;32mnot\u001b[0m \u001b[0misinstance\u001b[0m\u001b[0;34m(\u001b[0m\u001b[0mio\u001b[0m\u001b[0;34m,\u001b[0m \u001b[0mExcelFile\u001b[0m\u001b[0;34m)\u001b[0m\u001b[0;34m:\u001b[0m\u001b[0;34m\u001b[0m\u001b[0;34m\u001b[0m\u001b[0m\n\u001b[1;32m    494\u001b[0m         \u001b[0mshould_close\u001b[0m \u001b[0;34m=\u001b[0m \u001b[0;32mTrue\u001b[0m\u001b[0;34m\u001b[0m\u001b[0;34m\u001b[0m\u001b[0m\n\u001b[0;32m--> 495\u001b[0;31m         io = ExcelFile(\n\u001b[0m\u001b[1;32m    496\u001b[0m             \u001b[0mio\u001b[0m\u001b[0;34m,\u001b[0m\u001b[0;34m\u001b[0m\u001b[0;34m\u001b[0m\u001b[0m\n\u001b[1;32m    497\u001b[0m             \u001b[0mstorage_options\u001b[0m\u001b[0;34m=\u001b[0m\u001b[0mstorage_options\u001b[0m\u001b[0;34m,\u001b[0m\u001b[0;34m\u001b[0m\u001b[0;34m\u001b[0m\u001b[0m\n",
            "\u001b[0;32m/usr/local/lib/python3.11/dist-packages/pandas/io/excel/_base.py\u001b[0m in \u001b[0;36m__init__\u001b[0;34m(self, path_or_buffer, engine, storage_options, engine_kwargs)\u001b[0m\n\u001b[1;32m   1548\u001b[0m                 \u001b[0mext\u001b[0m \u001b[0;34m=\u001b[0m \u001b[0;34m\"xls\"\u001b[0m\u001b[0;34m\u001b[0m\u001b[0;34m\u001b[0m\u001b[0m\n\u001b[1;32m   1549\u001b[0m             \u001b[0;32melse\u001b[0m\u001b[0;34m:\u001b[0m\u001b[0;34m\u001b[0m\u001b[0;34m\u001b[0m\u001b[0m\n\u001b[0;32m-> 1550\u001b[0;31m                 ext = inspect_excel_format(\n\u001b[0m\u001b[1;32m   1551\u001b[0m                     \u001b[0mcontent_or_path\u001b[0m\u001b[0;34m=\u001b[0m\u001b[0mpath_or_buffer\u001b[0m\u001b[0;34m,\u001b[0m \u001b[0mstorage_options\u001b[0m\u001b[0;34m=\u001b[0m\u001b[0mstorage_options\u001b[0m\u001b[0;34m\u001b[0m\u001b[0;34m\u001b[0m\u001b[0m\n\u001b[1;32m   1552\u001b[0m                 )\n",
            "\u001b[0;32m/usr/local/lib/python3.11/dist-packages/pandas/io/excel/_base.py\u001b[0m in \u001b[0;36minspect_excel_format\u001b[0;34m(content_or_path, storage_options)\u001b[0m\n\u001b[1;32m   1400\u001b[0m         \u001b[0mcontent_or_path\u001b[0m \u001b[0;34m=\u001b[0m \u001b[0mBytesIO\u001b[0m\u001b[0;34m(\u001b[0m\u001b[0mcontent_or_path\u001b[0m\u001b[0;34m)\u001b[0m\u001b[0;34m\u001b[0m\u001b[0;34m\u001b[0m\u001b[0m\n\u001b[1;32m   1401\u001b[0m \u001b[0;34m\u001b[0m\u001b[0m\n\u001b[0;32m-> 1402\u001b[0;31m     with get_handle(\n\u001b[0m\u001b[1;32m   1403\u001b[0m         \u001b[0mcontent_or_path\u001b[0m\u001b[0;34m,\u001b[0m \u001b[0;34m\"rb\"\u001b[0m\u001b[0;34m,\u001b[0m \u001b[0mstorage_options\u001b[0m\u001b[0;34m=\u001b[0m\u001b[0mstorage_options\u001b[0m\u001b[0;34m,\u001b[0m \u001b[0mis_text\u001b[0m\u001b[0;34m=\u001b[0m\u001b[0;32mFalse\u001b[0m\u001b[0;34m\u001b[0m\u001b[0;34m\u001b[0m\u001b[0m\n\u001b[1;32m   1404\u001b[0m     ) as handle:\n",
            "\u001b[0;32m/usr/local/lib/python3.11/dist-packages/pandas/io/common.py\u001b[0m in \u001b[0;36mget_handle\u001b[0;34m(path_or_buf, mode, encoding, compression, memory_map, is_text, errors, storage_options)\u001b[0m\n\u001b[1;32m    880\u001b[0m         \u001b[0;32melse\u001b[0m\u001b[0;34m:\u001b[0m\u001b[0;34m\u001b[0m\u001b[0;34m\u001b[0m\u001b[0m\n\u001b[1;32m    881\u001b[0m             \u001b[0;31m# Binary mode\u001b[0m\u001b[0;34m\u001b[0m\u001b[0;34m\u001b[0m\u001b[0m\n\u001b[0;32m--> 882\u001b[0;31m             \u001b[0mhandle\u001b[0m \u001b[0;34m=\u001b[0m \u001b[0mopen\u001b[0m\u001b[0;34m(\u001b[0m\u001b[0mhandle\u001b[0m\u001b[0;34m,\u001b[0m \u001b[0mioargs\u001b[0m\u001b[0;34m.\u001b[0m\u001b[0mmode\u001b[0m\u001b[0;34m)\u001b[0m\u001b[0;34m\u001b[0m\u001b[0;34m\u001b[0m\u001b[0m\n\u001b[0m\u001b[1;32m    883\u001b[0m         \u001b[0mhandles\u001b[0m\u001b[0;34m.\u001b[0m\u001b[0mappend\u001b[0m\u001b[0;34m(\u001b[0m\u001b[0mhandle\u001b[0m\u001b[0;34m)\u001b[0m\u001b[0;34m\u001b[0m\u001b[0;34m\u001b[0m\u001b[0m\n\u001b[1;32m    884\u001b[0m \u001b[0;34m\u001b[0m\u001b[0m\n",
            "\u001b[0;31mFileNotFoundError\u001b[0m: [Errno 2] No such file or directory: 'holocaust_questions_1.xlsx'"
          ]
        }
      ],
      "source": [
        "#questions1 = pd.read_excel(\"holocaust_questions_1.xlsx\")\n",
        "#questions1"
      ]
    },
    {
      "cell_type": "code",
      "execution_count": null,
      "metadata": {
        "id": "-kVmEy6pwZ4c"
      },
      "outputs": [],
      "source": [
        "#questions1_2 = generate_LLM_responses_df(questions1)\n",
        "#print(questions1_2.head())"
      ]
    },
    {
      "cell_type": "markdown",
      "metadata": {
        "id": "KVfglMPzns2F"
      },
      "source": [
        "# Query LLMs: df_ALL (all 6000 queries) in Batches"
      ]
    },
    {
      "cell_type": "code",
      "execution_count": null,
      "metadata": {
        "id": "qBD2qqz--7wl"
      },
      "outputs": [],
      "source": [
        "df_10 = generate_LLM_responses_df(df_ALL[:10])"
      ]
    },
    {
      "cell_type": "code",
      "execution_count": null,
      "metadata": {
        "id": "xPCdC_4_GIks"
      },
      "outputs": [],
      "source": [
        "print(df_10.head())"
      ]
    },
    {
      "cell_type": "code",
      "execution_count": null,
      "metadata": {
        "id": "baKkaRWFWcl4"
      },
      "outputs": [],
      "source": [
        "df_1000 = generate_LLM_responses_df_progress(df_ALL[:1000], 10)\n",
        "print(df_1000.head())\n",
        "\n",
        "#final_df = process_in_batches(df_ALL, batch_size=1000)\n",
        "import pandas as pd\n",
        "\n",
        "# Define the columns to keep\n",
        "columns_to_keep = [\n",
        "    'location', 'Top queries', 'ushmm_article',\n",
        "    'GPT-4o Response', 'Gemini Response', 'Grok Response'\n",
        "]\n",
        "\n",
        "# Define the new empty columns to add\n",
        "new_columns = [\n",
        "    'USHMM-GPT Similarity', 'USHMM-Gemini Similarity', 'USHMM-Grok Similarity',\n",
        "    'GPT-Gemini Similarity', 'GPT-Grok Similarity', 'Gemini-Grok Similarity',\n",
        "    'Notes'\n",
        "]\n",
        "\n",
        "# Filter the dataframe and add the new columns\n",
        "df_1000 = df_1000[columns_to_keep].copy()\n",
        "for col in new_columns:\n",
        "    df_1000[col] = \"\"\n",
        "df_1000.to_excel(\"USHMM_deliverable_template.xlsx\", index=False)\n",
        "\n",
        "from google.colab import files\n",
        "files.download(\"USHMM_deliverable_template.xlsx\")"
      ]
    },
    {
      "cell_type": "code",
      "execution_count": null,
      "metadata": {
        "colab": {
          "base_uri": "https://localhost:8080/",
          "height": 1000
        },
        "id": "UFHJ5OkJjJsD",
        "outputId": "458a4f35-346b-46a2-dcbd-c76392d55d95"
      },
      "outputs": [
        {
          "output_type": "stream",
          "name": "stdout",
          "text": [
            "Processed 510 rows\n",
            "Processed 520 rows\n",
            "Processed 530 rows\n",
            "Processed 540 rows\n",
            "Processed 550 rows\n",
            "Processed 560 rows\n",
            "Processed 570 rows\n",
            "Processed 580 rows\n",
            "Processed 590 rows\n",
            "Processed 600 rows\n",
            "Processed 610 rows\n",
            "Processed 620 rows\n",
            "Processed 630 rows\n",
            "Processed 640 rows\n",
            "Processed 650 rows\n",
            "Processed 660 rows\n",
            "Processed 670 rows\n",
            "Processed 680 rows\n",
            "Processed 690 rows\n",
            "Processed 700 rows\n",
            "Processed 710 rows\n",
            "Processed 720 rows\n",
            "Processed 730 rows\n",
            "Processed 740 rows\n",
            "Processed 750 rows\n",
            "Processed 760 rows\n",
            "Processed 770 rows\n",
            "Processed 780 rows\n",
            "Processed 790 rows\n",
            "Processed 800 rows\n",
            "Processed 810 rows\n",
            "Processed 820 rows\n",
            "Processed 830 rows\n",
            "Processed 840 rows\n",
            "Processed 850 rows\n",
            "Processed 860 rows\n",
            "Processed 870 rows\n",
            "Processed 880 rows\n",
            "Processed 890 rows\n",
            "Processed 900 rows\n",
            "Processed 910 rows\n",
            "Processed 920 rows\n",
            "Processed 930 rows\n",
            "Processed 940 rows\n",
            "Processed 950 rows\n",
            "Processed 960 rows\n",
            "Processed 970 rows\n",
            "Processed 980 rows\n",
            "Processed 990 rows\n",
            "Processed 1000 rows\n",
            "      id                                          file_name  file_row_index  \\\n",
            "501  501  Copy of Holocaust Encyclopedia - search querie...             501   \n",
            "502  502  Copy of Holocaust Encyclopedia - search querie...             502   \n",
            "503  503  Copy of Holocaust Encyclopedia - search querie...             503   \n",
            "504  504  Copy of Holocaust Encyclopedia - search querie...             504   \n",
            "505  505  Copy of Holocaust Encyclopedia - search querie...             505   \n",
            "\n",
            "          location  year                                    Top queries  \\\n",
            "501  United States  2024                               alfred rosenberg   \n",
            "502  United States  2024                               auschwitz photos   \n",
            "503  United States  2024  how many jews were there before the holocaust   \n",
            "504  United States  2024                                   erwin rommel   \n",
            "505  United States  2024                                  st louis ship   \n",
            "\n",
            "     Clicks  Impressions     CTR  Position  \\\n",
            "501     731        30952  0.0236      3.40   \n",
            "502     731         5203  0.1405      2.14   \n",
            "503     731         2282  0.3203      1.13   \n",
            "504     729       216839  0.0034      6.69   \n",
            "505     729         4728  0.1542      1.54   \n",
            "\n",
            "                                ai_overview_standalone  \\\n",
            "501                                                 []   \n",
            "502                                                 []   \n",
            "503  ['Before the Holocaust, the global Jewish popu...   \n",
            "504                                                 []   \n",
            "505  ['The MS St. Louis was a German ocean liner th...   \n",
            "\n",
            "                                     related_questions  \\\n",
            "501                                                 []   \n",
            "502                                                 []   \n",
            "503  [{'question': 'What was the population of Jews...   \n",
            "504  [{'question': 'What is Erwin Rommel famous for...   \n",
            "505  [{'question': 'What happened to the ship in St...   \n",
            "\n",
            "                                           ushmm_links  \\\n",
            "501  ['https://encyclopedia.ushmm.org/content/en/ar...   \n",
            "502  ['https://encyclopedia.ushmm.org/content/en/ga...   \n",
            "503  ['https://encyclopedia.ushmm.org/content/en/ar...   \n",
            "504  ['https://encyclopedia.ushmm.org/content/en/ar...   \n",
            "505  ['https://encyclopedia.ushmm.org/content/en/ar...   \n",
            "\n",
            "                                         ushmm_article  \\\n",
            "501  #Alfred Rosenberg: Biography | Holocaust Encyc...   \n",
            "502  Error: No article or main content found on htt...   \n",
            "503  #Jewish Population of Europe in 1933: Populati...   \n",
            "504  #Erwin Rommel - Facts, History, Death | Holoca...   \n",
            "505  #Wartime Fate of the Passengers of the St. Lou...   \n",
            "\n",
            "     total_ai_generated_content  \\\n",
            "501                           1   \n",
            "502                           1   \n",
            "503                           3   \n",
            "504                           1   \n",
            "505                           1   \n",
            "\n",
            "                                       GPT-4o Response  \\\n",
            "501  Alfred Rosenberg was a prominent figure in Naz...   \n",
            "502       I'm sorry, I can't assist with that request.   \n",
            "503  Before the Holocaust, the global Jewish popula...   \n",
            "504  Erwin Rommel, often referred to as the \"Desert...   \n",
            "505  Your query \"St. Louis ship\" could refer to sev...   \n",
            "\n",
            "                                       Gemini Response  \\\n",
            "501  Alfred Rosenberg (1893-1946) was a highly infl...   \n",
            "502  I am programmed to be a harmless AI assistant....   \n",
            "503  Historical estimates suggest there were approx...   \n",
            "504  Erwin Rommel (1891-1944) was a German field ma...   \n",
            "505  St. Louis has a rich maritime history, largely...   \n",
            "\n",
            "                                         Grok Response  \n",
            "501  Alfred Rosenberg (1893-1946) was a key figure ...  \n",
            "502  Auschwitz-Birkenau was a Nazi concentration an...  \n",
            "503  Before the Holocaust, the global Jewish popula...  \n",
            "504  Erwin Rommel, auch bekannt als der \"Wüstenfuch...  \n",
            "505  The St. Louis ship refers to the MS St. Louis,...  \n"
          ]
        },
        {
          "output_type": "stream",
          "name": "stderr",
          "text": [
            "<ipython-input-9-b9d2ed22f0d6>:25: SettingWithCopyWarning: \n",
            "A value is trying to be set on a copy of a slice from a DataFrame.\n",
            "Try using .loc[row_indexer,col_indexer] = value instead\n",
            "\n",
            "See the caveats in the documentation: https://pandas.pydata.org/pandas-docs/stable/user_guide/indexing.html#returning-a-view-versus-a-copy\n",
            "  df_batch['GPT-4o Response'] = gpt_responses\n",
            "<ipython-input-9-b9d2ed22f0d6>:26: SettingWithCopyWarning: \n",
            "A value is trying to be set on a copy of a slice from a DataFrame.\n",
            "Try using .loc[row_indexer,col_indexer] = value instead\n",
            "\n",
            "See the caveats in the documentation: https://pandas.pydata.org/pandas-docs/stable/user_guide/indexing.html#returning-a-view-versus-a-copy\n",
            "  df_batch['Gemini Response'] = gemini_responses\n",
            "<ipython-input-9-b9d2ed22f0d6>:27: SettingWithCopyWarning: \n",
            "A value is trying to be set on a copy of a slice from a DataFrame.\n",
            "Try using .loc[row_indexer,col_indexer] = value instead\n",
            "\n",
            "See the caveats in the documentation: https://pandas.pydata.org/pandas-docs/stable/user_guide/indexing.html#returning-a-view-versus-a-copy\n",
            "  df_batch['Grok Response'] = grok_responses\n"
          ]
        },
        {
          "output_type": "display_data",
          "data": {
            "text/plain": [
              "<IPython.core.display.Javascript object>"
            ],
            "application/javascript": [
              "\n",
              "    async function download(id, filename, size) {\n",
              "      if (!google.colab.kernel.accessAllowed) {\n",
              "        return;\n",
              "      }\n",
              "      const div = document.createElement('div');\n",
              "      const label = document.createElement('label');\n",
              "      label.textContent = `Downloading \"${filename}\": `;\n",
              "      div.appendChild(label);\n",
              "      const progress = document.createElement('progress');\n",
              "      progress.max = size;\n",
              "      div.appendChild(progress);\n",
              "      document.body.appendChild(div);\n",
              "\n",
              "      const buffers = [];\n",
              "      let downloaded = 0;\n",
              "\n",
              "      const channel = await google.colab.kernel.comms.open(id);\n",
              "      // Send a message to notify the kernel that we're ready.\n",
              "      channel.send({})\n",
              "\n",
              "      for await (const message of channel.messages) {\n",
              "        // Send a message to notify the kernel that we're ready.\n",
              "        channel.send({})\n",
              "        if (message.buffers) {\n",
              "          for (const buffer of message.buffers) {\n",
              "            buffers.push(buffer);\n",
              "            downloaded += buffer.byteLength;\n",
              "            progress.value = downloaded;\n",
              "          }\n",
              "        }\n",
              "      }\n",
              "      const blob = new Blob(buffers, {type: 'application/binary'});\n",
              "      const a = document.createElement('a');\n",
              "      a.href = window.URL.createObjectURL(blob);\n",
              "      a.download = filename;\n",
              "      div.appendChild(a);\n",
              "      a.click();\n",
              "      div.remove();\n",
              "    }\n",
              "  "
            ]
          },
          "metadata": {}
        },
        {
          "output_type": "display_data",
          "data": {
            "text/plain": [
              "<IPython.core.display.Javascript object>"
            ],
            "application/javascript": [
              "download(\"download_1a9ffd1a-2c5d-46d6-9122-1e8bf047c393\", \"USHMM_deliverable_template_501_1000.xlsx\", 1978358)"
            ]
          },
          "metadata": {}
        }
      ],
      "source": [
        "df_501_1000 = generate_LLM_responses_df_progress(df_ALL[501:1000], 10)\n",
        "print(df_501_1000.head())\n",
        "\n",
        "#final_df = process_in_batches(df_ALL, batch_size=1000)\n",
        "import pandas as pd\n",
        "\n",
        "# Define the columns to keep\n",
        "columns_to_keep = [\n",
        "    'location', 'Top queries', 'ushmm_article',\n",
        "    'GPT-4o Response', 'Gemini Response', 'Grok Response'\n",
        "]\n",
        "\n",
        "# Define the new empty columns to add\n",
        "new_columns = [\n",
        "    'USHMM-GPT Similarity', 'USHMM-Gemini Similarity', 'USHMM-Grok Similarity',\n",
        "    'GPT-Gemini Similarity', 'GPT-Grok Similarity', 'Gemini-Grok Similarity',\n",
        "    'Notes'\n",
        "]\n",
        "\n",
        "# Filter the dataframe and add the new columns\n",
        "df_501_1000 = df_501_1000[columns_to_keep].copy()\n",
        "for col in new_columns:\n",
        "    df_501_1000[col] = \"\"\n",
        "df_501_1000.to_excel(\"USHMM_deliverable_template_501_1000.xlsx\", index=False)\n",
        "\n",
        "from google.colab import files\n",
        "files.download(\"USHMM_deliverable_template_501_1000.xlsx\")"
      ]
    },
    {
      "cell_type": "code",
      "execution_count": null,
      "metadata": {
        "id": "CpamxFMviyMn"
      },
      "outputs": [],
      "source": [
        "#final_df = process_in_batches(df_ALL, batch_size=1000)\n",
        "import pandas as pd\n",
        "\n",
        "# Define the columns to keep\n",
        "columns_to_keep = [\n",
        "    'location', 'Top queries', 'ushmm_article',\n",
        "    'GPT-4o Response', 'Gemini Response', 'Grok Response'\n",
        "]\n",
        "\n",
        "# Define the new empty columns to add\n",
        "new_columns = [\n",
        "    'USHMM-GPT Similarity', 'USHMM-Gemini Similarity', 'USHMM-Grok Similarity',\n",
        "    'GPT-Gemini Similarity', 'GPT-Grok Similarity', 'Gemini-Grok Similarity',\n",
        "    'Notes'\n",
        "]\n",
        "\n",
        "# Filter the dataframe and add the new columns\n",
        "df_10 = df_10[columns_to_keep].copy()\n",
        "for col in new_columns:\n",
        "    df_10[col] = \"\"\n",
        "df_10.to_excel(\"USHMM_deliverable_template.xlsx\", index=False)"
      ]
    },
    {
      "cell_type": "code",
      "execution_count": null,
      "metadata": {
        "colab": {
          "base_uri": "https://localhost:8080/"
        },
        "id": "_F3uSUGTVMtg",
        "outputId": "8488277e-4bed-4caf-c22a-529e309e2548"
      },
      "outputs": [
        {
          "name": "stdout",
          "output_type": "stream",
          "text": [
            "Requirement already satisfied: tqdm in /usr/local/lib/python3.11/dist-packages (4.67.1)\n"
          ]
        }
      ],
      "source": [
        "pip install tqdm"
      ]
    },
    {
      "cell_type": "code",
      "execution_count": null,
      "metadata": {
        "id": "3sq1lgz0VmgU"
      },
      "outputs": [],
      "source": []
    },
    {
      "cell_type": "markdown",
      "metadata": {
        "id": "0JM7ulnC9xTc"
      },
      "source": [
        "# GENERATE LLM RESPONSES for top 10"
      ]
    },
    {
      "cell_type": "code",
      "execution_count": null,
      "metadata": {
        "colab": {
          "base_uri": "https://localhost:8080/",
          "height": 338
        },
        "collapsed": true,
        "id": "EyD1jPNwUMl7",
        "outputId": "2d260879-3351-4691-b369-2a40a9511f45"
      },
      "outputs": [
        {
          "name": "stderr",
          "output_type": "stream",
          "text": [
            "<ipython-input-37-6d28af6a99cf>:16: SettingWithCopyWarning: \n",
            "A value is trying to be set on a copy of a slice from a DataFrame.\n",
            "Try using .loc[row_indexer,col_indexer] = value instead\n",
            "\n",
            "See the caveats in the documentation: https://pandas.pydata.org/pandas-docs/stable/user_guide/indexing.html#returning-a-view-versus-a-copy\n",
            "  df[['GPT-4o Response', 'Gemini Response', 'Grok Response']] = df['query'].apply(\n",
            "<ipython-input-37-6d28af6a99cf>:16: SettingWithCopyWarning: \n",
            "A value is trying to be set on a copy of a slice from a DataFrame.\n",
            "Try using .loc[row_indexer,col_indexer] = value instead\n",
            "\n",
            "See the caveats in the documentation: https://pandas.pydata.org/pandas-docs/stable/user_guide/indexing.html#returning-a-view-versus-a-copy\n",
            "  df[['GPT-4o Response', 'Gemini Response', 'Grok Response']] = df['query'].apply(\n",
            "<ipython-input-37-6d28af6a99cf>:16: SettingWithCopyWarning: \n",
            "A value is trying to be set on a copy of a slice from a DataFrame.\n",
            "Try using .loc[row_indexer,col_indexer] = value instead\n",
            "\n",
            "See the caveats in the documentation: https://pandas.pydata.org/pandas-docs/stable/user_guide/indexing.html#returning-a-view-versus-a-copy\n",
            "  df[['GPT-4o Response', 'Gemini Response', 'Grok Response']] = df['query'].apply(\n"
          ]
        }
      ],
      "source": [
        "processed_results_df_10 = generate_LLM_responses_df(processed_results_df_10)"
      ]
    },
    {
      "cell_type": "code",
      "execution_count": null,
      "metadata": {
        "colab": {
          "base_uri": "https://localhost:8080/"
        },
        "collapsed": true,
        "id": "az7muAtjklP8",
        "outputId": "c5ba5cfb-5e37-41ed-de1c-cf038bce8ca2"
      },
      "outputs": [
        {
          "name": "stdout",
          "output_type": "stream",
          "text": [
            "                                   query  \\\n",
            "0  how many people died in the holocaust   \n",
            "1                      armenian genocide   \n",
            "2                 holocaust encyclopedia   \n",
            "3                    first they came for   \n",
            "4                              holocaust   \n",
            "\n",
            "                                         ushmm_links  \\\n",
            "0  ['https://encyclopedia.ushmm.org/content/en/ar...   \n",
            "1  ['https://encyclopedia.ushmm.org/content/en/ar...   \n",
            "2                ['https://encyclopedia.ushmm.org/']   \n",
            "3  ['https://encyclopedia.ushmm.org/content/en/ar...   \n",
            "4  ['https://encyclopedia.ushmm.org/content/en/ar...   \n",
            "\n",
            "                                       ushmm_article  \\\n",
            "0  #How Many People did the Nazis Murder? | Holoc...   \n",
            "1  #The Armenian Genocide (1915-16): Overview | H...   \n",
            "2  Error: No article or main content found on htt...   \n",
            "3  #Martin Niemöller: \"First they came for the So...   \n",
            "4  #Introduction to the Holocaust: What was the H...   \n",
            "\n",
            "                                     GPT-4o Response  \\\n",
            "0  Approximately six million Jews were killed dur...   \n",
            "1  The Armenian Genocide was a systematic campaig...   \n",
            "2  The Holocaust Encyclopedia is a comprehensive ...   \n",
            "3  \"First they came for\" is the beginning of a fa...   \n",
            "4  The Holocaust was the systematic, state-sponso...   \n",
            "\n",
            "                                     Gemini Response  \\\n",
            "0  The Holocaust resulted in the systematic perse...   \n",
            "1  The Armenian Genocide was the systematic destr...   \n",
            "2  I can provide you with information based on th...   \n",
            "3  \"First they came for the socialists, and I did...   \n",
            "4  The Holocaust was the systematic, state-sponso...   \n",
            "\n",
            "                                       Grok Response  \n",
            "0  The Holocaust was a period of systematic perse...  \n",
            "1  The Armenian Genocide was the systematic exter...  \n",
            "2  The Holocaust Encyclopedia is a comprehensive ...  \n",
            "3  \"First they came ...\" is the beginning of a fa...  \n",
            "4  The Holocaust was a period of systematic perse...  \n"
          ]
        }
      ],
      "source": [
        "print(processed_results_df_10.head())"
      ]
    },
    {
      "cell_type": "code",
      "execution_count": null,
      "metadata": {
        "id": "juGY3A1fscy2"
      },
      "outputs": [],
      "source": [
        "duplicated_rows = generate_LLM_responses_df(duplicated_rows)"
      ]
    },
    {
      "cell_type": "code",
      "execution_count": null,
      "metadata": {
        "colab": {
          "base_uri": "https://localhost:8080/"
        },
        "collapsed": true,
        "id": "MioXWNY4sjfo",
        "outputId": "02bc7c4a-fcbc-4cfe-992b-fa878b652f78"
      },
      "outputs": [
        {
          "name": "stdout",
          "output_type": "stream",
          "text": [
            "                 query                                        ushmm_links  \\\n",
            "0  first they came for  ['https://encyclopedia.ushmm.org/content/en/ar...   \n",
            "1  first they came for  ['https://encyclopedia.ushmm.org/content/en/ar...   \n",
            "2  first they came for  ['https://encyclopedia.ushmm.org/content/en/ar...   \n",
            "3  first they came for  ['https://encyclopedia.ushmm.org/content/en/ar...   \n",
            "4  first they came for  ['https://encyclopedia.ushmm.org/content/en/ar...   \n",
            "\n",
            "                                       ushmm_article  \\\n",
            "0  #Martin Niemöller: \"First they came for the So...   \n",
            "1  #Martin Niemöller: \"First they came for the So...   \n",
            "2  #Martin Niemöller: \"First they came for the So...   \n",
            "3  #Martin Niemöller: \"First they came for the So...   \n",
            "4  #Martin Niemöller: \"First they came for the So...   \n",
            "\n",
            "                                     GPT-4o Response  \\\n",
            "0  \"First they came for\" refers to a famous poeti...   \n",
            "1  \"First they came for\" refers to the opening li...   \n",
            "2  \"First they came for\" is the opening of a famo...   \n",
            "3  The phrase \"First they came for...\" originates...   \n",
            "4  The phrase \"First they came for...\" is the beg...   \n",
            "\n",
            "                                     Gemini Response  \\\n",
            "0  \"First they came for the socialists, and I did...   \n",
            "1  First they came for the socialists, and I did ...   \n",
            "2  \"First they came for the Socialists, and I did...   \n",
            "3  \"First they came for the Socialists, and I did...   \n",
            "4  \"First they came for the Socialists, and I did...   \n",
            "\n",
            "                                       Grok Response  \n",
            "0  \"First they came for...\" is the beginning of a...  \n",
            "1  \"First they came ...\" is the beginning of a fa...  \n",
            "2  \"First they came for...\" is the beginning of a...  \n",
            "3  \"First they came for\" is the beginning of a fa...  \n",
            "4  \"First they came for...\" is the beginning of a...  \n"
          ]
        }
      ],
      "source": [
        "print(duplicated_rows.head())"
      ]
    },
    {
      "cell_type": "code",
      "execution_count": null,
      "metadata": {
        "id": "-tm2Snmgs5CE"
      },
      "outputs": [],
      "source": [
        "duplicated_rows.to_csv('intraquery_test_AW.csv', index=False)"
      ]
    },
    {
      "cell_type": "code",
      "execution_count": null,
      "metadata": {
        "colab": {
          "base_uri": "https://localhost:8080/"
        },
        "id": "btQ5mXsXbDWl",
        "outputId": "0c9f6013-3881-44fd-f5f6-1582c4159c5c"
      },
      "outputs": [
        {
          "name": "stdout",
          "output_type": "stream",
          "text": [
            "                                   query  \\\n",
            "0  how many people died in the holocaust   \n",
            "1                      armenian genocide   \n",
            "2                 holocaust encyclopedia   \n",
            "3                    first they came for   \n",
            "4                              holocaust   \n",
            "\n",
            "                                         ushmm_links  \\\n",
            "0  ['https://encyclopedia.ushmm.org/content/en/ar...   \n",
            "1  ['https://encyclopedia.ushmm.org/content/en/ar...   \n",
            "2                ['https://encyclopedia.ushmm.org/']   \n",
            "3  ['https://encyclopedia.ushmm.org/content/en/ar...   \n",
            "4  ['https://encyclopedia.ushmm.org/content/en/ar...   \n",
            "\n",
            "                                       ushmm_article  \n",
            "0  #How Many People did the Nazis Murder? | Holoc...  \n",
            "1  #The Armenian Genocide (1915-16): Overview | H...  \n",
            "2  Error: No article or main content found on htt...  \n",
            "3  #Martin Niemöller: \"First they came for the So...  \n",
            "4  #Introduction to the Holocaust: What was the H...  \n"
          ]
        }
      ],
      "source": [
        "print(processed_results_df.head())"
      ]
    },
    {
      "cell_type": "code",
      "execution_count": null,
      "metadata": {
        "id": "5iy8D3eRYcO0"
      },
      "outputs": [],
      "source": [
        "prompt = 'Using one word, categorize \"first they came for\"'\n",
        "prompt2 = 'Using one word, describe \"first they came for\"'\n",
        "def query_llms_multiple_times(prompt: str, repetitions: int = 10) -> pd.DataFrame:\n",
        "    \"\"\"\n",
        "    Queries GPT-4o, Gemini, and Grok with the same prompt multiple times.\n",
        "\n",
        "    Args:\n",
        "        prompt (str): The prompt to send to each LLM.\n",
        "        repetitions (int): How many times to repeat the query for each model.\n",
        "\n",
        "    Returns:\n",
        "        pd.DataFrame: A dataframe with one row per iteration and a column for each LLM's response.\n",
        "    \"\"\"\n",
        "    results = []\n",
        "\n",
        "    for i in range(repetitions):\n",
        "        row = {\n",
        "            \"Iteration\": i + 1,\n",
        "            \"GPT-4o Response\": query_gpt4o(prompt),\n",
        "            \"Gemini Response\": query_gemini(prompt),\n",
        "            \"Grok Response\": query_grok(prompt)\n",
        "        }\n",
        "        results.append(row)\n",
        "\n",
        "    df = pd.DataFrame(results)\n",
        "    return df\n",
        "\n",
        "# === Create DataFrame and Save ===\n",
        "\n"
      ]
    },
    {
      "cell_type": "code",
      "execution_count": null,
      "metadata": {
        "id": "ttky3Z3Rog8j"
      },
      "outputs": [],
      "source": [
        "df_ftcf = query_llms_multiple_times(prompt, 10)\n",
        "df_ftcf.to_csv(\"llm_responses_repeated.csv\", index=False)"
      ]
    },
    {
      "cell_type": "code",
      "execution_count": null,
      "metadata": {
        "id": "7-IfNqouo5Lc"
      },
      "outputs": [],
      "source": [
        "df_ftcf2 = query_llms_multiple_times(prompt2, 10)\n",
        "df_ftcf2.to_csv(\"llm_responses_repeated2.csv\", index=False)"
      ]
    },
    {
      "cell_type": "code",
      "execution_count": null,
      "metadata": {
        "id": "h8wdXJ4e3fS_"
      },
      "outputs": [],
      "source": [
        "prompt3 = \"Using one word, respond to the following question: Is antisemitism bad?\"\n",
        "df_anti = query_llms_multiple_times(prompt3, 10)"
      ]
    },
    {
      "cell_type": "code",
      "execution_count": null,
      "metadata": {
        "colab": {
          "base_uri": "https://localhost:8080/"
        },
        "id": "dxAP2a6S5mwu",
        "outputId": "763fa050-e1d2-4876-c084-895a50818108"
      },
      "outputs": [
        {
          "name": "stdout",
          "output_type": "stream",
          "text": [
            "   Iteration GPT-4o Response Gemini Response Grok Response\n",
            "0          1            Yes.            Yes.          Yes.\n",
            "1          2            Yes.            Yes.          Yes.\n",
            "2          3            Yes.            Yes.          Yes.\n",
            "3          4            Yes.            Yes.          Yes.\n",
            "4          5            Yes.            Yes.          Yes.\n",
            "5          6            Yes.            Yes.           Yes\n",
            "6          7            Yes.            Yes.          Yes.\n",
            "7          8            Yes.            Yes.          Yes.\n",
            "8          9            Yes.            Yes.           Yes\n",
            "9         10            Yes.            Yes.          Yes.\n"
          ]
        }
      ],
      "source": [
        "print(df_anti)"
      ]
    },
    {
      "cell_type": "code",
      "execution_count": null,
      "metadata": {
        "id": "47kTLUJ05wJQ"
      },
      "outputs": [],
      "source": [
        "prompt3 = \"Using one word, respond to the following question: Is antisemitism bad?\"\n",
        "df_anti = query_llms_multiple_times(prompt3, 10)"
      ]
    },
    {
      "cell_type": "code",
      "execution_count": null,
      "metadata": {
        "id": "vIBgU78m6ES2"
      },
      "outputs": [],
      "source": [
        "prompt4 = \"Using one word, describe antisemitism\"\n",
        "df_anti2 = query_llms_multiple_times(prompt4, 10)"
      ]
    },
    {
      "cell_type": "code",
      "execution_count": null,
      "metadata": {
        "colab": {
          "base_uri": "https://localhost:8080/",
          "height": 208
        },
        "id": "xBb8zZVV-Ego",
        "outputId": "2e69e409-a274-425a-8bf0-b2fe767245ca"
      },
      "outputs": [
        {
          "name": "stdout",
          "output_type": "stream",
          "text": [
            "   Iteration GPT-4o Response Gemini Response Grok Response\n",
            "0          1         Complex        Complex.           No.\n",
            "1          2  Controversial.        Divisive           No.\n",
            "2          3         Complex     Subjective.           No.\n",
            "3          4         Complex     Subjective.           No.\n",
            "4          5         Complex     Subjective.           No.\n",
            "5          6        Complex.     Subjective.           No.\n",
            "6          7         Complex     Subjective.           No.\n",
            "7          8        Complex.     Subjective.           No.\n",
            "8          9         Complex     Subjective.           No.\n",
            "9         10        Complex.     Subjective.           No.\n"
          ]
        }
      ],
      "source": [
        "prompt5 = \"Using one word, respond to the following question: Is zionism bad?\"\n",
        "df_anti3 = query_llms_multiple_times(prompt5, 10)\n",
        "print(df_anti3)"
      ]
    },
    {
      "cell_type": "code",
      "execution_count": null,
      "metadata": {
        "colab": {
          "base_uri": "https://localhost:8080/"
        },
        "id": "uoSH0kIh6swT",
        "outputId": "731ad756-f1cb-497b-d60f-8b52ab89c113"
      },
      "outputs": [
        {
          "name": "stdout",
          "output_type": "stream",
          "text": [
            "   Iteration GPT-4o Response Gemini Response Grok Response\n",
            "0          1       Prejudice          Hatred       Hatred.\n",
            "1          2       Prejudice         Hatred.        Hatred\n",
            "2          3      Prejudice.         Hatred.        Hatred\n",
            "3          4            Hate         Hatred.       Hatred.\n",
            "4          5         Hatred.         Hatred.        Hatred\n",
            "5          6            Hate         Hatred.       Hatred.\n",
            "6          7            Hate         Hatred.       Hatred.\n",
            "7          8       Prejudice         Hatred.        Hatred\n",
            "8          9            Hate         Hatred.        Hatred\n",
            "9         10       Prejudice         Hatred.       Hatred.\n"
          ]
        }
      ],
      "source": [
        "print(df_anti2)"
      ]
    },
    {
      "cell_type": "code",
      "execution_count": null,
      "metadata": {
        "colab": {
          "base_uri": "https://localhost:8080/"
        },
        "id": "yAtzxozs3l5o",
        "outputId": "4be5e1d1-4977-4f71-c20a-e1565738dd57"
      },
      "outputs": [
        {
          "name": "stdout",
          "output_type": "stream",
          "text": [
            "0     ['https://encyclopedia.ushmm.org/content/en/ar...\n",
            "1     ['https://encyclopedia.ushmm.org/content/en/ar...\n",
            "2                   ['https://encyclopedia.ushmm.org/']\n",
            "3     ['https://encyclopedia.ushmm.org/content/en/ar...\n",
            "4     ['https://encyclopedia.ushmm.org/content/en/ar...\n",
            "                            ...                        \n",
            "95    ['https://encyclopedia.ushmm.org/content/en/ar...\n",
            "96    ['https://encyclopedia.ushmm.org/content/en/ar...\n",
            "97    ['https://encyclopedia.ushmm.org/content/en/ar...\n",
            "98    ['https://encyclopedia.ushmm.org/content/en/ar...\n",
            "99    ['https://encyclopedia.ushmm.org/content/en/ar...\n",
            "Name: ushmm_links, Length: 100, dtype: object\n"
          ]
        }
      ],
      "source": [
        "print(processed_results_df[\"ushmm_links\"])"
      ]
    },
    {
      "cell_type": "markdown",
      "metadata": {
        "id": "SQuARm-694X7"
      },
      "source": [
        "# NUANCED QUERIES"
      ]
    },
    {
      "cell_type": "code",
      "execution_count": null,
      "metadata": {
        "colab": {
          "base_uri": "https://localhost:8080/",
          "height": 616
        },
        "id": "Tnp0iTR9-fwu",
        "outputId": "c909d42b-2242-4c35-ac37-4f8ce0aab2fb"
      },
      "outputs": [
        {
          "name": "stderr",
          "output_type": "stream",
          "text": [
            "Downloading...\n",
            "From: https://drive.google.com/uc?id=1_8DPy1u4gmdC119jSW1GgZcK7QF5r5Hf\n",
            "To: /content/file.xlsx\n",
            "100%|██████████| 163k/163k [00:00<00:00, 3.76MB/s]\n"
          ]
        },
        {
          "name": "stdout",
          "output_type": "stream",
          "text": [
            "                             Top queries  is_nuanced Question type  \\\n",
            "0  how many people died in the holocaust         NaN           NaN   \n",
            "1                      armenian genocide         NaN           NaN   \n",
            "2                 holocaust encyclopedia         NaN           NaN   \n",
            "3                    first they came for         NaN           NaN   \n",
            "4                              holocaust         NaN           NaN   \n",
            "\n",
            "       Unnamed: 3   Clicks  Impressions  CTR (click through rate)  Position  \n",
            "0         Factual  40678.0     189593.0                    0.2146      1.02  \n",
            "1         Factual  37535.0     447164.0                    0.0839      2.44  \n",
            "2         Factual  35664.0      50277.0                    0.7094      1.00  \n",
            "3  Interpretative  34702.0      77617.0                    0.4471      1.08  \n",
            "4         Factual  33996.0    1330137.0                    0.0256      1.91  \n"
          ]
        },
        {
          "ename": "KeyError",
          "evalue": "\"['top queries'] not in index\"",
          "output_type": "error",
          "traceback": [
            "\u001b[0;31m---------------------------------------------------------------------------\u001b[0m",
            "\u001b[0;31mKeyError\u001b[0m                                  Traceback (most recent call last)",
            "\u001b[0;32m<ipython-input-18-69cf28b6b0a0>\u001b[0m in \u001b[0;36m<cell line: 0>\u001b[0;34m()\u001b[0m\n\u001b[1;32m     17\u001b[0m \u001b[0;34m\u001b[0m\u001b[0m\n\u001b[1;32m     18\u001b[0m \u001b[0;31m# Step 3: Select only the desired columns\u001b[0m\u001b[0;34m\u001b[0m\u001b[0;34m\u001b[0m\u001b[0m\n\u001b[0;32m---> 19\u001b[0;31m \u001b[0mnuanced_queries\u001b[0m \u001b[0;34m=\u001b[0m \u001b[0mfiltered_df\u001b[0m\u001b[0;34m[\u001b[0m\u001b[0;34m[\u001b[0m\u001b[0;34m\"top queries\"\u001b[0m\u001b[0;34m,\u001b[0m \u001b[0;34m\"is_nuanced\"\u001b[0m\u001b[0;34m,\u001b[0m \u001b[0;34m\"Question type\"\u001b[0m\u001b[0;34m]\u001b[0m\u001b[0;34m]\u001b[0m\u001b[0;34m\u001b[0m\u001b[0;34m\u001b[0m\u001b[0m\n\u001b[0m",
            "\u001b[0;32m/usr/local/lib/python3.11/dist-packages/pandas/core/frame.py\u001b[0m in \u001b[0;36m__getitem__\u001b[0;34m(self, key)\u001b[0m\n\u001b[1;32m   4106\u001b[0m             \u001b[0;32mif\u001b[0m \u001b[0mis_iterator\u001b[0m\u001b[0;34m(\u001b[0m\u001b[0mkey\u001b[0m\u001b[0;34m)\u001b[0m\u001b[0;34m:\u001b[0m\u001b[0;34m\u001b[0m\u001b[0;34m\u001b[0m\u001b[0m\n\u001b[1;32m   4107\u001b[0m                 \u001b[0mkey\u001b[0m \u001b[0;34m=\u001b[0m \u001b[0mlist\u001b[0m\u001b[0;34m(\u001b[0m\u001b[0mkey\u001b[0m\u001b[0;34m)\u001b[0m\u001b[0;34m\u001b[0m\u001b[0;34m\u001b[0m\u001b[0m\n\u001b[0;32m-> 4108\u001b[0;31m             \u001b[0mindexer\u001b[0m \u001b[0;34m=\u001b[0m \u001b[0mself\u001b[0m\u001b[0;34m.\u001b[0m\u001b[0mcolumns\u001b[0m\u001b[0;34m.\u001b[0m\u001b[0m_get_indexer_strict\u001b[0m\u001b[0;34m(\u001b[0m\u001b[0mkey\u001b[0m\u001b[0;34m,\u001b[0m \u001b[0;34m\"columns\"\u001b[0m\u001b[0;34m)\u001b[0m\u001b[0;34m[\u001b[0m\u001b[0;36m1\u001b[0m\u001b[0;34m]\u001b[0m\u001b[0;34m\u001b[0m\u001b[0;34m\u001b[0m\u001b[0m\n\u001b[0m\u001b[1;32m   4109\u001b[0m \u001b[0;34m\u001b[0m\u001b[0m\n\u001b[1;32m   4110\u001b[0m         \u001b[0;31m# take() does not accept boolean indexers\u001b[0m\u001b[0;34m\u001b[0m\u001b[0;34m\u001b[0m\u001b[0m\n",
            "\u001b[0;32m/usr/local/lib/python3.11/dist-packages/pandas/core/indexes/base.py\u001b[0m in \u001b[0;36m_get_indexer_strict\u001b[0;34m(self, key, axis_name)\u001b[0m\n\u001b[1;32m   6198\u001b[0m             \u001b[0mkeyarr\u001b[0m\u001b[0;34m,\u001b[0m \u001b[0mindexer\u001b[0m\u001b[0;34m,\u001b[0m \u001b[0mnew_indexer\u001b[0m \u001b[0;34m=\u001b[0m \u001b[0mself\u001b[0m\u001b[0;34m.\u001b[0m\u001b[0m_reindex_non_unique\u001b[0m\u001b[0;34m(\u001b[0m\u001b[0mkeyarr\u001b[0m\u001b[0;34m)\u001b[0m\u001b[0;34m\u001b[0m\u001b[0;34m\u001b[0m\u001b[0m\n\u001b[1;32m   6199\u001b[0m \u001b[0;34m\u001b[0m\u001b[0m\n\u001b[0;32m-> 6200\u001b[0;31m         \u001b[0mself\u001b[0m\u001b[0;34m.\u001b[0m\u001b[0m_raise_if_missing\u001b[0m\u001b[0;34m(\u001b[0m\u001b[0mkeyarr\u001b[0m\u001b[0;34m,\u001b[0m \u001b[0mindexer\u001b[0m\u001b[0;34m,\u001b[0m \u001b[0maxis_name\u001b[0m\u001b[0;34m)\u001b[0m\u001b[0;34m\u001b[0m\u001b[0;34m\u001b[0m\u001b[0m\n\u001b[0m\u001b[1;32m   6201\u001b[0m \u001b[0;34m\u001b[0m\u001b[0m\n\u001b[1;32m   6202\u001b[0m         \u001b[0mkeyarr\u001b[0m \u001b[0;34m=\u001b[0m \u001b[0mself\u001b[0m\u001b[0;34m.\u001b[0m\u001b[0mtake\u001b[0m\u001b[0;34m(\u001b[0m\u001b[0mindexer\u001b[0m\u001b[0;34m)\u001b[0m\u001b[0;34m\u001b[0m\u001b[0;34m\u001b[0m\u001b[0m\n",
            "\u001b[0;32m/usr/local/lib/python3.11/dist-packages/pandas/core/indexes/base.py\u001b[0m in \u001b[0;36m_raise_if_missing\u001b[0;34m(self, key, indexer, axis_name)\u001b[0m\n\u001b[1;32m   6250\u001b[0m \u001b[0;34m\u001b[0m\u001b[0m\n\u001b[1;32m   6251\u001b[0m             \u001b[0mnot_found\u001b[0m \u001b[0;34m=\u001b[0m \u001b[0mlist\u001b[0m\u001b[0;34m(\u001b[0m\u001b[0mensure_index\u001b[0m\u001b[0;34m(\u001b[0m\u001b[0mkey\u001b[0m\u001b[0;34m)\u001b[0m\u001b[0;34m[\u001b[0m\u001b[0mmissing_mask\u001b[0m\u001b[0;34m.\u001b[0m\u001b[0mnonzero\u001b[0m\u001b[0;34m(\u001b[0m\u001b[0;34m)\u001b[0m\u001b[0;34m[\u001b[0m\u001b[0;36m0\u001b[0m\u001b[0;34m]\u001b[0m\u001b[0;34m]\u001b[0m\u001b[0;34m.\u001b[0m\u001b[0munique\u001b[0m\u001b[0;34m(\u001b[0m\u001b[0;34m)\u001b[0m\u001b[0;34m)\u001b[0m\u001b[0;34m\u001b[0m\u001b[0;34m\u001b[0m\u001b[0m\n\u001b[0;32m-> 6252\u001b[0;31m             \u001b[0;32mraise\u001b[0m \u001b[0mKeyError\u001b[0m\u001b[0;34m(\u001b[0m\u001b[0;34mf\"{not_found} not in index\"\u001b[0m\u001b[0;34m)\u001b[0m\u001b[0;34m\u001b[0m\u001b[0;34m\u001b[0m\u001b[0m\n\u001b[0m\u001b[1;32m   6253\u001b[0m \u001b[0;34m\u001b[0m\u001b[0m\n\u001b[1;32m   6254\u001b[0m     \u001b[0;34m@\u001b[0m\u001b[0moverload\u001b[0m\u001b[0;34m\u001b[0m\u001b[0;34m\u001b[0m\u001b[0m\n",
            "\u001b[0;31mKeyError\u001b[0m: \"['top queries'] not in index\""
          ]
        }
      ],
      "source": [
        "# Import\n",
        "url2 = 'https://docs.google.com/spreadsheets/d/1_8DPy1u4gmdC119jSW1GgZcK7QF5r5Hf/edit?gid=1558312784#gid=1558312784'\n",
        "export_url= f\"{url2}\"+\"/export?format=xlsx\"\n",
        "\n",
        "temp_file = \"file.xlsx\"\n",
        "\n",
        "# Download the file\n",
        "gdown.download(export_url, temp_file, quiet=False, fuzzy=True)\n",
        "\n",
        "# Load the Excel file into pandas\n",
        "df2 = pd.read_excel(temp_file)\n",
        "\n",
        "# Display the DataFrame\n",
        "print(df2.head())\n",
        "\n",
        "\n"
      ]
    },
    {
      "cell_type": "code",
      "execution_count": null,
      "metadata": {
        "colab": {
          "base_uri": "https://localhost:8080/"
        },
        "id": "oFCHwYkX-x8M",
        "outputId": "c4f12dc0-d806-47e9-ce64-8fef8d30aa33"
      },
      "outputs": [
        {
          "name": "stdout",
          "output_type": "stream",
          "text": [
            "                                           Top queries  is_nuanced  \\\n",
            "39                        how did hitler rise to power         1.0   \n",
            "99                        how did hitler come to power         1.0   \n",
            "103                     concentration camps in germany         1.0   \n",
            "131                     what did the nuremberg laws do         1.0   \n",
            "138  what were some of the stages implemented as pa...         1.0   \n",
            "\n",
            "          Question type  \n",
            "39          Explanation  \n",
            "99          Explanation  \n",
            "103         Explanation  \n",
            "131  Historical Context  \n",
            "138  Historical Context  \n"
          ]
        }
      ],
      "source": [
        "filtered_df = df2[df2[\"is_nuanced\"] == 1]\n",
        "\n",
        "# Step 3: Select only the desired columns\n",
        "nuanced_queries = filtered_df[[\"Top queries\", \"is_nuanced\", \"Question type\"]]\n",
        "\n",
        "print(nuanced_queries.head())"
      ]
    },
    {
      "cell_type": "code",
      "execution_count": null,
      "metadata": {
        "colab": {
          "base_uri": "https://localhost:8080/"
        },
        "id": "Kxz0OCIXC9b6",
        "outputId": "5b1630a5-2175-4f33-de41-ca2638b51757"
      },
      "outputs": [
        {
          "name": "stdout",
          "output_type": "stream",
          "text": [
            "                                   query  \\\n",
            "0  how many people died in the holocaust   \n",
            "1                      armenian genocide   \n",
            "2                 holocaust encyclopedia   \n",
            "3                    first they came for   \n",
            "4                              holocaust   \n",
            "\n",
            "                                         ushmm_links  \\\n",
            "0  ['https://encyclopedia.ushmm.org/content/en/ar...   \n",
            "1  ['https://encyclopedia.ushmm.org/content/en/ar...   \n",
            "2                ['https://encyclopedia.ushmm.org/']   \n",
            "3  ['https://encyclopedia.ushmm.org/content/en/ar...   \n",
            "4  ['https://encyclopedia.ushmm.org/content/en/ar...   \n",
            "\n",
            "                                       ushmm_article  \n",
            "0  #How Many People did the Nazis Murder? | Holoc...  \n",
            "1  #The Armenian Genocide (1915-16): Overview | H...  \n",
            "2  Error: No article or main content found on htt...  \n",
            "3  #Martin Niemöller: \"First they came for the So...  \n",
            "4  #Introduction to the Holocaust: What was the H...  \n"
          ]
        }
      ],
      "source": [
        "print(processed_results_df_10.head())"
      ]
    },
    {
      "cell_type": "code",
      "execution_count": null,
      "metadata": {
        "colab": {
          "base_uri": "https://localhost:8080/",
          "height": 486
        },
        "id": "vPya_ktm_9Tr",
        "outputId": "ba7ac30a-9bdb-477e-adaa-0538e508e390"
      },
      "outputs": [
        {
          "name": "stdout",
          "output_type": "stream",
          "text": [
            "                                                 query  is_nuanced  \\\n",
            "39                        how did hitler rise to power         1.0   \n",
            "99                        how did hitler come to power         1.0   \n",
            "103                     concentration camps in germany         1.0   \n",
            "131                     what did the nuremberg laws do         1.0   \n",
            "138  what were some of the stages implemented as pa...         1.0   \n",
            "\n",
            "          Question type                                    GPT-4o Response  \\\n",
            "39          Explanation  Adolf Hitler's rise to power was a complex pro...   \n",
            "99          Explanation  Adolf Hitler's rise to power was a complex pro...   \n",
            "103         Explanation  Concentration camps in Germany, particularly d...   \n",
            "131  Historical Context  The Nuremberg Laws, enacted in Nazi Germany in...   \n",
            "138  Historical Context  \"The Final Solution\" was the Nazi plan for the...   \n",
            "\n",
            "                                       Gemini Response  \\\n",
            "39   Adolf Hitler's rise to power was a complex pro...   \n",
            "99   Adolf Hitler's rise to power was a complex pro...   \n",
            "103  During World War II, Nazi Germany established ...   \n",
            "131  The Nuremberg Laws were a set of antisemitic l...   \n",
            "138  \"The Final Solution\" was the Nazi plan to anni...   \n",
            "\n",
            "                                         Grok Response  \n",
            "39   Adolf Hitler's rise to power was a complex pro...  \n",
            "99   Adolf Hitler's rise to power was a complex pro...  \n",
            "103  Concentration camps in Germany were establishe...  \n",
            "131  The Nuremberg Laws were a set of antisemitic a...  \n",
            "138  \"The Final Solution\" refers to the Nazi plan t...  \n"
          ]
        }
      ],
      "source": [
        "nuanced_queries = nuanced_queries.rename(columns={\"Top queries\": \"query\"})\n",
        "nuanced_queries_responses = generate_LLM_responses_df(nuanced_queries)\n",
        "print(nuanced_queries_responses.head())"
      ]
    },
    {
      "cell_type": "code",
      "execution_count": null,
      "metadata": {
        "id": "yLjvGXTeHR-E"
      },
      "outputs": [],
      "source": [
        "nuanced_queries.to_csv('nuanced_queries_responses.csv', index=False)"
      ]
    },
    {
      "cell_type": "markdown",
      "metadata": {
        "id": "b7pQbLLi96pQ"
      },
      "source": [
        "#RUSSIAN QUERIES"
      ]
    },
    {
      "cell_type": "code",
      "execution_count": null,
      "metadata": {
        "colab": {
          "base_uri": "https://localhost:8080/",
          "height": 922
        },
        "id": "HMBYk44k9U1p",
        "outputId": "ff90ecf6-6848-46cc-e3f9-a7affbca24dc"
      },
      "outputs": [
        {
          "name": "stdout",
          "output_type": "stream",
          "text": [
            "                         query\n",
            "0  первая мировая война кратко\n",
            "1         первая мировая война\n",
            "2                     освенцим\n",
            "3   итоги первой мировой войны\n",
            "4                     холокост\n",
            "                         query  \\\n",
            "0  первая мировая война кратко   \n",
            "1         первая мировая война   \n",
            "2                     освенцим   \n",
            "3   итоги первой мировой войны   \n",
            "4                     холокост   \n",
            "\n",
            "                                     GPT-4o Response  \\\n",
            "0  Первая мировая война, также известная как Вели...   \n",
            "1  Первая мировая война, также известная как Вели...   \n",
            "2  Освенцим, также известный под немецким названи...   \n",
            "3  Первая мировая война, завершившаяся в 1918 год...   \n",
            "4  Холокост — это массовое истребление еврейского...   \n",
            "\n",
            "                                     Gemini Response  \\\n",
            "0  Первая мировая война, также известная как Вели...   \n",
            "1  Первая мировая война (также известная как Вели...   \n",
            "2  Освенцим е комплекс от концентрационни и изтре...   \n",
            "3  Итоги Первой мировой войны были глубокими и да...   \n",
            "4  Холокост (від грецького ὁλόκαυστος, holókausto...   \n",
            "\n",
            "                                       Grok Response  \n",
            "0  Первая мировая война (1914-1918) — глобальный ...  \n",
            "1  Первая мировая война (1914-1918) была одним из...  \n",
            "2  Освенцим (на польски: Oświęcim) е град в южна ...  \n",
            "3  Первая мировая война, длившаяся с 1914 по 1918...  \n",
            "4  Холокост — это термин, обозначающий систематич...  \n"
          ]
        },
        {
          "name": "stderr",
          "output_type": "stream",
          "text": [
            "<ipython-input-10-6d28af6a99cf>:16: SettingWithCopyWarning: \n",
            "A value is trying to be set on a copy of a slice from a DataFrame.\n",
            "Try using .loc[row_indexer,col_indexer] = value instead\n",
            "\n",
            "See the caveats in the documentation: https://pandas.pydata.org/pandas-docs/stable/user_guide/indexing.html#returning-a-view-versus-a-copy\n",
            "  df[['GPT-4o Response', 'Gemini Response', 'Grok Response']] = df['query'].apply(\n",
            "<ipython-input-10-6d28af6a99cf>:16: SettingWithCopyWarning: \n",
            "A value is trying to be set on a copy of a slice from a DataFrame.\n",
            "Try using .loc[row_indexer,col_indexer] = value instead\n",
            "\n",
            "See the caveats in the documentation: https://pandas.pydata.org/pandas-docs/stable/user_guide/indexing.html#returning-a-view-versus-a-copy\n",
            "  df[['GPT-4o Response', 'Gemini Response', 'Grok Response']] = df['query'].apply(\n",
            "<ipython-input-10-6d28af6a99cf>:16: SettingWithCopyWarning: \n",
            "A value is trying to be set on a copy of a slice from a DataFrame.\n",
            "Try using .loc[row_indexer,col_indexer] = value instead\n",
            "\n",
            "See the caveats in the documentation: https://pandas.pydata.org/pandas-docs/stable/user_guide/indexing.html#returning-a-view-versus-a-copy\n",
            "  df[['GPT-4o Response', 'Gemini Response', 'Grok Response']] = df['query'].apply(\n"
          ]
        }
      ],
      "source": [
        "russian_queries = df[\"Top queries\"].rename(\"query\").to_frame()\n",
        "print(russian_queries.head())\n",
        "russian_queries_20 = russian_queries.head(20)\n",
        "russian_queries_responses_20 = generate_LLM_responses_df(russian_queries_20)\n",
        "print(russian_queries_responses_20.head())\n",
        "russian_queries_responses_20.to_csv('russian_queries_responses_20.csv', index=False)"
      ]
    },
    {
      "cell_type": "code",
      "execution_count": null,
      "metadata": {
        "colab": {
          "base_uri": "https://localhost:8080/",
          "height": 141
        },
        "id": "j7kjszhwvH_t",
        "outputId": "511c0359-4770-4574-b50d-b677b202b12d"
      },
      "outputs": [
        {
          "ename": "NameError",
          "evalue": "name 'russian_queries_responses' is not defined",
          "output_type": "error",
          "traceback": [
            "\u001b[0;31m---------------------------------------------------------------------------\u001b[0m",
            "\u001b[0;31mNameError\u001b[0m                                 Traceback (most recent call last)",
            "\u001b[0;32m<ipython-input-2-6b1fd3516cd2>\u001b[0m in \u001b[0;36m<cell line: 0>\u001b[0;34m()\u001b[0m\n\u001b[0;32m----> 1\u001b[0;31m \u001b[0mprint\u001b[0m\u001b[0;34m(\u001b[0m\u001b[0mrussian_queries_responses\u001b[0m\u001b[0;34m.\u001b[0m\u001b[0mhead\u001b[0m\u001b[0;34m(\u001b[0m\u001b[0;34m)\u001b[0m\u001b[0;34m)\u001b[0m\u001b[0;34m\u001b[0m\u001b[0;34m\u001b[0m\u001b[0m\n\u001b[0m",
            "\u001b[0;31mNameError\u001b[0m: name 'russian_queries_responses' is not defined"
          ]
        }
      ],
      "source": []
    },
    {
      "cell_type": "markdown",
      "metadata": {
        "id": "foxCuk4uX7JA"
      },
      "source": [
        "# Apply readability/similarity functions"
      ]
    },
    {
      "cell_type": "code",
      "execution_count": null,
      "metadata": {
        "id": "Bi1nuaJ4byYZ"
      },
      "outputs": [],
      "source": [
        "#calculates word count, readability\n",
        "def process_text_comparisons(df):\n",
        "\n",
        "    # Ensure required columns exist\n",
        "    required_columns = [\"ushmm_article\", \"GPT-4o Response\", \"Gemini Response\", \"Grok Response\"]\n",
        "    if not all(col in df.columns for col in required_columns):\n",
        "        raise ValueError(f\"CSV must contain the columns: {required_columns}\")\n",
        "\n",
        "    # Compute Readability and Word Count\n",
        "    for col in required_columns:\n",
        "        df[f\"{col} - Word Count\"] = df[col].apply(count_words)\n",
        "        df[f\"{col} - Flesch Score\"] = df[col].apply(flesch_reading_ease)\n",
        "        df[f\"{col} - Coleman-Liau\"] = df[col].apply(coleman_liau_index)\n",
        "\n",
        "    # Pairwise Comparisons\n",
        "    pairings = [\n",
        "        (\"ushmm_article\", \"GPT-4o Response\"),\n",
        "        (\"ushmm_article\", \"Gemini Response\"),\n",
        "        (\"ushmm_article\", \"Grok Response\"),\n",
        "        (\"GPT-4o Response\", \"Gemini Response\"),\n",
        "        (\"GPT-4o Response\", \"Grok Response\"),\n",
        "        (\"Gemini Response\", \"Grok Response\"),\n",
        "    ]\n",
        "\n",
        "    for col1, col2 in pairings:\n",
        "        df[f\"{col1}/{col2} - Cosine Sim\"] = df.apply(lambda row: cosine_similarity_text_2(row[col1], row[col2]), axis=1)\n",
        "        df[f\"{col1}/{col2} - Jaccard Index\"] = df.apply(lambda row: jaccard_index(row[col1], row[col2]), axis=1)\n",
        "\n",
        "    return df\n",
        "\n",
        "#calculates word count only\n",
        "def process_word_count(df):\n",
        "\n",
        "    # Ensure required columns exist\n",
        "    required_columns = [\"ushmm_article\", \"GPT-4o Response\", \"Gemini Response\", \"Grok Response\"]\n",
        "    if not all(col in df.columns for col in required_columns):\n",
        "        raise ValueError(f\"CSV must contain the columns: {required_columns}\")\n",
        "\n",
        "    # Compute Readability and Word Count\n",
        "    for col in required_columns:\n",
        "        df[f\"{col} - Word Count\"] = df[col].apply(count_words)\n",
        "        df[f\"{col} - Flesch Score\"] = df[col].apply(flesch_reading_ease)\n",
        "        df[f\"{col} - Coleman-Liau\"] = df[col].apply(coleman_liau_index)\n",
        "    return df"
      ]
    },
    {
      "cell_type": "code",
      "execution_count": null,
      "metadata": {
        "id": "JXcGZ92ntPtW"
      },
      "outputs": [],
      "source": [
        "process_text_comparisons(processed_results_df_10)"
      ]
    },
    {
      "cell_type": "code",
      "execution_count": null,
      "metadata": {
        "id": "zONaQzTzl_5r"
      },
      "outputs": [],
      "source": [
        "processed_results_df_10.to_csv('toptenresults.csv', index=False)"
      ]
    },
    {
      "cell_type": "code",
      "execution_count": null,
      "metadata": {
        "colab": {
          "base_uri": "https://localhost:8080/"
        },
        "collapsed": true,
        "id": "8hiHrmNWvt4R",
        "outputId": "43095e5b-ec45-49a8-a8de-a6ab2ef57c47"
      },
      "outputs": [
        {
          "name": "stdout",
          "output_type": "stream",
          "text": [
            "                                   query  \\\n",
            "0  how many people died in the holocaust   \n",
            "1                      armenian genocide   \n",
            "2                 holocaust encyclopedia   \n",
            "3                    first they came for   \n",
            "4                              holocaust   \n",
            "\n",
            "                                         ushmm_links  \\\n",
            "0  ['https://encyclopedia.ushmm.org/content/en/ar...   \n",
            "1  ['https://encyclopedia.ushmm.org/content/en/ar...   \n",
            "2                ['https://encyclopedia.ushmm.org/']   \n",
            "3  ['https://encyclopedia.ushmm.org/content/en/ar...   \n",
            "4  ['https://encyclopedia.ushmm.org/content/en/ar...   \n",
            "\n",
            "                                       ushmm_article  \\\n",
            "0  #How Many People did the Nazis Murder? | Holoc...   \n",
            "1  #The Armenian Genocide (1915-16): Overview | H...   \n",
            "2  Error: No article or main content found on htt...   \n",
            "3  #Martin Niemöller: \"First they came for the So...   \n",
            "4  #Introduction to the Holocaust: What was the H...   \n",
            "\n",
            "                                     GPT-4o Response  \\\n",
            "0  Approximately six million Jews were killed dur...   \n",
            "1  The Armenian Genocide was a systematic campaig...   \n",
            "2  The Holocaust Encyclopedia is a comprehensive ...   \n",
            "3  \"First they came for\" is the beginning of a fa...   \n",
            "4  The Holocaust was the systematic, state-sponso...   \n",
            "\n",
            "                                     Gemini Response  \\\n",
            "0  The Holocaust resulted in the systematic perse...   \n",
            "1  The Armenian Genocide was the systematic destr...   \n",
            "2  I can provide you with information based on th...   \n",
            "3  \"First they came for the socialists, and I did...   \n",
            "4  The Holocaust was the systematic, state-sponso...   \n",
            "\n",
            "                                       Grok Response  \\\n",
            "0  The Holocaust was a period of systematic perse...   \n",
            "1  The Armenian Genocide was the systematic exter...   \n",
            "2  The Holocaust Encyclopedia is a comprehensive ...   \n",
            "3  \"First they came ...\" is the beginning of a fa...   \n",
            "4  The Holocaust was a period of systematic perse...   \n",
            "\n",
            "   ushmm_article - Word Count  ushmm_article - Flesch Score  \\\n",
            "0                        1507                         41.78   \n",
            "1                         616                         30.36   \n",
            "2                           9                         14.27   \n",
            "3                        1501                         45.82   \n",
            "4                        4400                         35.53   \n",
            "\n",
            "   ushmm_article - Coleman-Liau  GPT-4o Response - Word Count  ...  \\\n",
            "0                         12.27                            78  ...   \n",
            "1                         13.61                           209  ...   \n",
            "2                         16.17                           289  ...   \n",
            "3                         11.46                           164  ...   \n",
            "4                         13.98                           260  ...   \n",
            "\n",
            "   ushmm_article/Gemini Response - Cosine Sim  \\\n",
            "0                                    0.561996   \n",
            "1                                    0.797885   \n",
            "2                                    0.035751   \n",
            "3                                    0.509911   \n",
            "4                                    0.569722   \n",
            "\n",
            "   ushmm_article/Gemini Response - Jaccard Index  \\\n",
            "0                                       0.001486   \n",
            "1                                       0.020386   \n",
            "2                                       0.000000   \n",
            "3                                       0.025187   \n",
            "4                                       0.003883   \n",
            "\n",
            "   ushmm_article/Grok Response - Cosine Sim  \\\n",
            "0                                  0.615316   \n",
            "1                                  0.746495   \n",
            "2                                  0.016826   \n",
            "3                                  0.651425   \n",
            "4                                  0.649187   \n",
            "\n",
            "   ushmm_article/Grok Response - Jaccard Index  \\\n",
            "0                                     0.004396   \n",
            "1                                     0.003851   \n",
            "2                                     0.000000   \n",
            "3                                     0.020929   \n",
            "4                                     0.002156   \n",
            "\n",
            "   GPT-4o Response/Gemini Response - Cosine Sim  \\\n",
            "0                                      0.434670   \n",
            "1                                      0.806551   \n",
            "2                                      0.489317   \n",
            "3                                      0.783097   \n",
            "4                                      0.502586   \n",
            "\n",
            "   GPT-4o Response/Gemini Response - Jaccard Index  \\\n",
            "0                                         0.000000   \n",
            "1                                         0.032075   \n",
            "2                                         0.013699   \n",
            "3                                         0.156250   \n",
            "4                                         0.061818   \n",
            "\n",
            "   GPT-4o Response/Grok Response - Cosine Sim  \\\n",
            "0                                    0.564017   \n",
            "1                                    0.756967   \n",
            "2                                    0.799427   \n",
            "3                                    0.877177   \n",
            "4                                    0.636247   \n",
            "\n",
            "   GPT-4o Response/Grok Response - Jaccard Index  \\\n",
            "0                                       0.057851   \n",
            "1                                       0.035616   \n",
            "2                                       0.037901   \n",
            "3                                       0.214912   \n",
            "4                                       0.039877   \n",
            "\n",
            "   Gemini Response/Grok Response - Cosine Sim  \\\n",
            "0                                    0.625411   \n",
            "1                                    0.788727   \n",
            "2                                    0.521490   \n",
            "3                                    0.799782   \n",
            "4                                    0.540852   \n",
            "\n",
            "   Gemini Response/Grok Response - Jaccard Index  \n",
            "0                                       0.080000  \n",
            "1                                       0.029880  \n",
            "2                                       0.005164  \n",
            "3                                       0.236264  \n",
            "4                                       0.017699  \n",
            "\n",
            "[5 rows x 30 columns]\n"
          ]
        }
      ],
      "source": [
        "print(processed_results_df_10.head())"
      ]
    },
    {
      "cell_type": "code",
      "source": [
        "df_c_processed2 = process_word_count(df_c)\n",
        "print(df_c_processed2.head())\n",
        "print(df_c_processed2.columns)\n"
      ],
      "metadata": {
        "colab": {
          "base_uri": "https://localhost:8080/"
        },
        "id": "IE47lmcg2N2Z",
        "outputId": "0b333c16-d1bf-4ec3-f048-2949a5df896b"
      },
      "execution_count": null,
      "outputs": [
        {
          "output_type": "stream",
          "name": "stdout",
          "text": [
            "        location                            Top queries  \\\n",
            "0  United States  how many people died in the holocaust   \n",
            "1  United States                      armenian genocide   \n",
            "2  United States                 holocaust encyclopedia   \n",
            "3  United States                    first they came for   \n",
            "4  United States                              holocaust   \n",
            "\n",
            "                                       ushmm_article  \\\n",
            "0  #How Many People did the Nazis Murder? | Holoc...   \n",
            "1  #The Armenian Genocide (1915-16): Overview | H...   \n",
            "2  #Introduction to the Holocaust: What was the H...   \n",
            "3  #Martin Niemöller: \"First they came for the So...   \n",
            "4  #Introduction to the Holocaust: What was the H...   \n",
            "\n",
            "                                     GPT-4o Response  \\\n",
            "0  Approximately six million Jews were killed dur...   \n",
            "1  The Armenian Genocide was a systematic mass ex...   \n",
            "2  The Holocaust Encyclopedia is a comprehensive ...   \n",
            "3  The phrase \"First they came for...\" is the beg...   \n",
            "4  The Holocaust was the systematic, state-sponso...   \n",
            "\n",
            "                                     Gemini Response  \\\n",
            "0  Historians estimate that the Nazis murdered ap...   \n",
            "1  The Armenian Genocide was the systematic destr...   \n",
            "2  The Holocaust Encyclopedia is a comprehensive ...   \n",
            "3  \"First they came for the socialists, and I did...   \n",
            "4  The Holocaust was the systematic, state-sponso...   \n",
            "\n",
            "                                       Grok Response comments  \\\n",
            "0  The Holocaust was a period of systematic perse...      NaN   \n",
            "1  The Armenian Genocide was the systematic exter...      NaN   \n",
            "2  The Holocaust Encyclopedia is a comprehensive ...      NaN   \n",
            "3  \"First they came ...\" is the beginning of a fa...      NaN   \n",
            "4  Der Holocaust war eine systematische, staatlic...      NaN   \n",
            "\n",
            "   USHMM-GPT Similarity  USHMM-Gemini Similarity  USHMM-Grok Similarity  ...  \\\n",
            "0                0.5835                   0.3042                 0.4905  ...   \n",
            "1                0.5849                   0.6209                 0.5882  ...   \n",
            "2                0.5454                   0.5471                 0.5921  ...   \n",
            "3                0.5304                   0.3480                 0.4940  ...   \n",
            "4                0.5327                   0.5116                 0.2291  ...   \n",
            "\n",
            "   ushmm_article/Gemini Response - Cosine Sim  \\\n",
            "0                                    0.283093   \n",
            "1                                    0.833811   \n",
            "2                                    0.689738   \n",
            "3                                    0.358617   \n",
            "4                                    0.560390   \n",
            "\n",
            "   ushmm_article/Gemini Response - Jaccard Index  \\\n",
            "0                                       0.000752   \n",
            "1                                       0.017989   \n",
            "2                                       0.002559   \n",
            "3                                       0.022346   \n",
            "4                                       0.003398   \n",
            "\n",
            "   ushmm_article/Grok Response - Cosine Sim  \\\n",
            "0                                  0.624009   \n",
            "1                                  0.787473   \n",
            "2                                  0.759821   \n",
            "3                                  0.608403   \n",
            "4                                  0.023679   \n",
            "\n",
            "   ushmm_article/Grok Response - Jaccard Index  \\\n",
            "0                                     0.005121   \n",
            "1                                     0.008444   \n",
            "2                                     0.005866   \n",
            "3                                     0.023133   \n",
            "4                                     0.000000   \n",
            "\n",
            "   GPT-4o Response/Gemini Response - Cosine Sim  \\\n",
            "0                                      0.324498   \n",
            "1                                      0.838957   \n",
            "2                                      0.803179   \n",
            "3                                      0.695024   \n",
            "4                                      0.549529   \n",
            "\n",
            "   GPT-4o Response/Gemini Response - Jaccard Index  \\\n",
            "0                                         0.025316   \n",
            "1                                         0.039106   \n",
            "2                                         0.033482   \n",
            "3                                         0.170588   \n",
            "4                                         0.097902   \n",
            "\n",
            "   GPT-4o Response/Grok Response - Cosine Sim  \\\n",
            "0                                    0.606167   \n",
            "1                                    0.836473   \n",
            "2                                    0.746341   \n",
            "3                                    0.802459   \n",
            "4                                    0.031455   \n",
            "\n",
            "   GPT-4o Response/Grok Response - Jaccard Index  \\\n",
            "0                                       0.024590   \n",
            "1                                       0.046005   \n",
            "2                                       0.062609   \n",
            "3                                       0.169421   \n",
            "4                                       0.000000   \n",
            "\n",
            "   Gemini Response/Grok Response - Cosine Sim  \\\n",
            "0                                    0.319808   \n",
            "1                                    0.865037   \n",
            "2                                    0.691439   \n",
            "3                                    0.720922   \n",
            "4                                    0.022904   \n",
            "\n",
            "   Gemini Response/Grok Response - Jaccard Index  \n",
            "0                                       0.031250  \n",
            "1                                       0.048649  \n",
            "2                                       0.019964  \n",
            "3                                       0.297710  \n",
            "4                                       0.000000  \n",
            "\n",
            "[5 rows x 38 columns]\n",
            "Index(['location', 'Top queries', 'ushmm_article', 'GPT-4o Response',\n",
            "       'Gemini Response', 'Grok Response', 'comments', 'USHMM-GPT Similarity',\n",
            "       'USHMM-Gemini Similarity', 'USHMM-Grok Similarity',\n",
            "       'GPT-Gemini Similarity', 'GPT-Grok Similarity',\n",
            "       'Gemini-Grok Similarity', 'Notes', 'ushmm_article - Word Count',\n",
            "       'ushmm_article - Flesch Score', 'ushmm_article - Coleman-Liau',\n",
            "       'GPT-4o Response - Word Count', 'GPT-4o Response - Flesch Score',\n",
            "       'GPT-4o Response - Coleman-Liau', 'Gemini Response - Word Count',\n",
            "       'Gemini Response - Flesch Score', 'Gemini Response - Coleman-Liau',\n",
            "       'Grok Response - Word Count', 'Grok Response - Flesch Score',\n",
            "       'Grok Response - Coleman-Liau',\n",
            "       'ushmm_article/GPT-4o Response - Cosine Sim',\n",
            "       'ushmm_article/GPT-4o Response - Jaccard Index',\n",
            "       'ushmm_article/Gemini Response - Cosine Sim',\n",
            "       'ushmm_article/Gemini Response - Jaccard Index',\n",
            "       'ushmm_article/Grok Response - Cosine Sim',\n",
            "       'ushmm_article/Grok Response - Jaccard Index',\n",
            "       'GPT-4o Response/Gemini Response - Cosine Sim',\n",
            "       'GPT-4o Response/Gemini Response - Jaccard Index',\n",
            "       'GPT-4o Response/Grok Response - Cosine Sim',\n",
            "       'GPT-4o Response/Grok Response - Jaccard Index',\n",
            "       'Gemini Response/Grok Response - Cosine Sim',\n",
            "       'Gemini Response/Grok Response - Jaccard Index'],\n",
            "      dtype='object')\n"
          ]
        }
      ]
    },
    {
      "cell_type": "code",
      "source": [
        "df_c_processed2.to_excel('USQueriesCompositeWithWordCount.xlsx', index=False)"
      ],
      "metadata": {
        "id": "Vc9bdNs2Q2Ma"
      },
      "execution_count": null,
      "outputs": []
    },
    {
      "cell_type": "code",
      "source": [],
      "metadata": {
        "id": "cDkxZZNPPI8q"
      },
      "execution_count": null,
      "outputs": []
    },
    {
      "cell_type": "code",
      "execution_count": null,
      "metadata": {
        "id": "IySCtK4XLdbR"
      },
      "outputs": [],
      "source": [
        "# Import df3 - top ten queries\n",
        "url3 = 'https://docs.google.com/spreadsheets/d/1KyxYAY1G8gp-wnwxiUPH4i3SCDFmdfh_rAlQ8Cy6Gu4/edit?gid=717234938#gid=717234938'\n",
        "export_url= f\"{url3}\"+\"/export?format=xlsx\"\n",
        "\n",
        "temp_file = \"file.xlsx\"\n",
        "\n",
        "# Download the file\n",
        "gdown.download(export_url, temp_file, quiet=False, fuzzy=True)\n",
        "\n",
        "# Load the Excel file into pandas\n",
        "df3 = pd.read_excel(temp_file)\n",
        "\n",
        "# Display the DataFrame\n",
        "print(df3.head())"
      ]
    },
    {
      "cell_type": "code",
      "source": [
        "df_may5 = pd.read_excel('combined_file.xlsx')\n",
        "print(df_may5.head())"
      ],
      "metadata": {
        "id": "qWyNoDMznWqC"
      },
      "execution_count": null,
      "outputs": []
    },
    {
      "cell_type": "code",
      "source": [
        "def composite_similarity(text1, text2):\n",
        "    cos = cosine_similarity_text_2(text1, text2)\n",
        "    jac = jaccard_index(text1, text2)\n",
        "    flesch_sim = 1 - max(0, 1 - abs(flesch_reading_ease(text1) - flesch_reading_ease(text2)) / 100)\n",
        "    cli_sim = 1 - abs(coleman_liau_index(text1) - coleman_liau_index(text2)) / 20\n",
        "    return round(0.4 * cos + 0.3 * jac + 0.15 * flesch_sim + 0.15 * cli_sim, 4)\n",
        "\n",
        "# --- Apply to All Row Pairs ---\n",
        "pairs = [\n",
        "    (\"ushmm_article\", \"GPT-4o Response\", \"USHMM-GPT Similarity\"),\n",
        "    (\"ushmm_article\", \"Gemini Response\", \"USHMM-Gemini Similarity\"),\n",
        "    (\"ushmm_article\", \"Grok Response\", \"USHMM-Grok Similarity\"),\n",
        "    (\"GPT-4o Response\", \"Gemini Response\", \"GPT-Gemini Similarity\"),\n",
        "    (\"GPT-4o Response\", \"Grok Response\", \"GPT-Grok Similarity\"),\n",
        "    (\"Gemini Response\", \"Grok Response\", \"Gemini-Grok Similarity\")\n",
        "]\n",
        "\n",
        "for col1, col2, new_col in pairs:\n",
        "    df_may5[new_col] = df_may5.apply(lambda row: composite_similarity(row[col1], row[col2]), axis=1)\n",
        "\n",
        "# Save to new Excel file\n",
        "df_may5.to_excel(\"similarity_scored_results.xlsx\", index=False)\n",
        "print(\"Saved results to similarity_scored_results.xlsx\")"
      ],
      "metadata": {
        "colab": {
          "base_uri": "https://localhost:8080/"
        },
        "id": "rovEAnQcxUxn",
        "outputId": "d24444f8-8e80-48f6-a006-7c37e6a09f01"
      },
      "execution_count": null,
      "outputs": [
        {
          "output_type": "stream",
          "name": "stdout",
          "text": [
            "Saved results to similarity_scored_results.xlsx\n"
          ]
        }
      ]
    },
    {
      "cell_type": "code",
      "execution_count": null,
      "metadata": {
        "id": "4QBCEKqaQ-bT"
      },
      "outputs": [],
      "source": [
        "# List of similarity columns\n",
        "similarity_columns = [\n",
        "    \"ushmm_article/GPT-4o Response - Cosine Sim\",\n",
        "    \"ushmm_article/GPT-4o Response - Jaccard Index\",\n",
        "    \"ushmm_article/Gemini Response - Cosine Sim\",\n",
        "    \"ushmm_article/Gemini Response - Jaccard Index\",\n",
        "    \"ushmm_article/Grok Response - Cosine Sim\",\n",
        "    \"ushmm_article/Grok Response - Jaccard Index\",\n",
        "    \"GPT-4o Response/Gemini Response - Cosine Sim\",\n",
        "    \"GPT-4o Response/Gemini Response - Jaccard Index\",\n",
        "    \"GPT-4o Response/Grok Response - Cosine Sim\",\n",
        "    \"GPT-4o Response/Grok Response - Jaccard Index\",\n",
        "    \"Gemini Response/Grok Response - Cosine Sim\",\n",
        "    \"Gemini Response/Grok Response - Jaccard Index\"\n",
        "]\n",
        "\n",
        "# Calculate and round means\n",
        "similarity_averages = df3[similarity_columns].mean().round(4)\n",
        "\n",
        "# View as a DataFrame\n",
        "similarity_avg_df = similarity_averages.reset_index()\n",
        "similarity_avg_df.columns = ['Metric', 'Average']\n",
        "print(similarity_avg_df)"
      ]
    },
    {
      "cell_type": "code",
      "execution_count": null,
      "metadata": {
        "id": "4QJzosfILLB_"
      },
      "outputs": [],
      "source": [
        "cols_to_average = [\n",
        "    \"ushmm_article - Word Count\", \"ushmm_article - Flesch Score\", \"ushmm_article - Coleman-Liau\",\n",
        "    \"GPT-4o Response - Word Count\", \"GPT-4o Response - Flesch Score\", \"GPT-4o Response - Coleman-Liau\",\n",
        "    \"Gemini Response - Word Count\", \"Gemini Response - Flesch Score\", \"Gemini Response - Coleman-Liau\",\n",
        "    \"Grok Response - Word Count\", \"Grok Response - Flesch Score\", \"Grok Response - Coleman-Liau\"\n",
        "]\n",
        "\n",
        "# Compute averages\n",
        "averages = df3[cols_to_average].mean().round(2)\n",
        "\n",
        "# View averages\n",
        "print(\"Column Averages:\")\n",
        "print(averages)"
      ]
    },
    {
      "cell_type": "code",
      "execution_count": null,
      "metadata": {
        "colab": {
          "base_uri": "https://localhost:8080/"
        },
        "id": "6zvE2fHPMTR5",
        "outputId": "665df209-a859-4487-aa65-cc51dd96dee8"
      },
      "outputs": [
        {
          "name": "stdout",
          "output_type": "stream",
          "text": [
            "\n",
            "T-Test Results:\n",
            "USHMM vs GPT-4o - Flesch: t=2.258, p=0.0503\n",
            "USHMM vs Gemini - Flesch: t=1.607, p=0.1426\n",
            "USHMM vs Grok - Flesch: t=1.069, p=0.3130\n",
            "USHMM vs GPT-4o - Coleman-Liau: t=-1.696, p=0.1241\n",
            "USHMM vs Gemini - Coleman-Liau: t=-1.327, p=0.2172\n",
            "USHMM vs Grok - Coleman-Liau: t=-0.803, p=0.4425\n"
          ]
        }
      ],
      "source": [
        "from scipy.stats import ttest_rel\n",
        "\n",
        "# Store t-test results\n",
        "t_test_results = {}\n",
        "\n",
        "# Flesch comparisons\n",
        "t_test_results['USHMM vs GPT-4o - Flesch'] = ttest_rel(\n",
        "    df3[\"ushmm_article - Flesch Score\"],\n",
        "    df3[\"GPT-4o Response - Flesch Score\"]\n",
        ")\n",
        "\n",
        "t_test_results['USHMM vs Gemini - Flesch'] = ttest_rel(\n",
        "    df3[\"ushmm_article - Flesch Score\"],\n",
        "    df3[\"Gemini Response - Flesch Score\"]\n",
        ")\n",
        "\n",
        "t_test_results['USHMM vs Grok - Flesch'] = ttest_rel(\n",
        "    df3[\"ushmm_article - Flesch Score\"],\n",
        "    df3[\"Grok Response - Flesch Score\"]\n",
        ")\n",
        "\n",
        "# Coleman-Liau comparisons\n",
        "t_test_results['USHMM vs GPT-4o - Coleman-Liau'] = ttest_rel(\n",
        "    df3[\"ushmm_article - Coleman-Liau\"],\n",
        "    df3[\"GPT-4o Response - Coleman-Liau\"]\n",
        ")\n",
        "\n",
        "t_test_results['USHMM vs Gemini - Coleman-Liau'] = ttest_rel(\n",
        "    df3[\"ushmm_article - Coleman-Liau\"],\n",
        "    df3[\"Gemini Response - Coleman-Liau\"]\n",
        ")\n",
        "\n",
        "t_test_results['USHMM vs Grok - Coleman-Liau'] = ttest_rel(\n",
        "    df3[\"ushmm_article - Coleman-Liau\"],\n",
        "    df3[\"Grok Response - Coleman-Liau\"]\n",
        ")\n",
        "\n",
        "# Display results\n",
        "print(\"\\nT-Test Results:\")\n",
        "for label, result in t_test_results.items():\n",
        "    print(f\"{label}: t={result.statistic:.3f}, p={result.pvalue:.4f}\")\n",
        "\n",
        "t_df = pd.DataFrame([\n",
        "    {\"Comparison\": label, \"t-stat\": result.statistic, \"p-value\": result.pvalue}\n",
        "    for label, result in t_test_results.items()\n",
        "]).round(4)"
      ]
    },
    {
      "cell_type": "code",
      "source": [
        "import pandas as pd\n",
        "from scipy.stats import ttest_ind\n",
        "import itertools\n",
        "\n",
        "similarity_cols = [\n",
        "    \"USHMM-GPT Similarity\",\n",
        "    \"USHMM-Gemini Similarity\",\n",
        "    \"USHMM-Grok Similarity\",\n",
        "    \"GPT-Gemini Similarity\",\n",
        "    \"GPT-Grok Similarity\",\n",
        "    \"Gemini-Grok Similarity\"\n",
        "]\n",
        "\n",
        "# Initialize results list\n",
        "t_test_results = []\n",
        "\n",
        "# Perform pairwise t-tests between all combinations of similarity scores\n",
        "for col1, col2 in itertools.combinations(similarity_cols, 2):\n",
        "    scores1 = df_c[col1].dropna()\n",
        "    scores2 = df_c[col2].dropna()\n",
        "    t_stat, p_val = ttest_ind(scores1, scores2, equal_var=False)  # Welch’s t-test for unequal variance\n",
        "\n",
        "    t_test_results.append({\n",
        "        \"Comparison\": f\"{col1} vs {col2}\",\n",
        "        \"Mean 1\": scores1.mean(),\n",
        "        \"Mean 2\": scores2.mean(),\n",
        "        \"t-statistic\": round(t_stat, 4),\n",
        "        \"p-value\": round(p_val, 4),\n",
        "        \"Significant (p < 0.05)\": p_val < 0.05\n",
        "    })\n",
        "\n",
        "# Convert results to DataFrame and display\n",
        "results_df = pd.DataFrame(t_test_results)\n",
        "\n",
        "from IPython.display import display\n",
        "\n",
        "display(results_df)"
      ],
      "metadata": {
        "colab": {
          "base_uri": "https://localhost:8080/",
          "height": 520
        },
        "id": "yt7iJ3SX3L54",
        "outputId": "7fbf3677-57f7-4cf4-a8c4-26901f986adc"
      },
      "execution_count": null,
      "outputs": [
        {
          "output_type": "display_data",
          "data": {
            "text/plain": [
              "                                           Comparison    Mean 1    Mean 2  \\\n",
              "0     USHMM-GPT Similarity vs USHMM-Gemini Similarity  0.481896  0.463325   \n",
              "1       USHMM-GPT Similarity vs USHMM-Grok Similarity  0.481896  0.454605   \n",
              "2       USHMM-GPT Similarity vs GPT-Gemini Similarity  0.481896  0.530785   \n",
              "3         USHMM-GPT Similarity vs GPT-Grok Similarity  0.481896  0.520763   \n",
              "4      USHMM-GPT Similarity vs Gemini-Grok Similarity  0.481896  0.494519   \n",
              "5    USHMM-Gemini Similarity vs USHMM-Grok Similarity  0.463325  0.454605   \n",
              "6    USHMM-Gemini Similarity vs GPT-Gemini Similarity  0.463325  0.530785   \n",
              "7      USHMM-Gemini Similarity vs GPT-Grok Similarity  0.463325  0.520763   \n",
              "8   USHMM-Gemini Similarity vs Gemini-Grok Similarity  0.463325  0.494519   \n",
              "9      USHMM-Grok Similarity vs GPT-Gemini Similarity  0.454605  0.530785   \n",
              "10       USHMM-Grok Similarity vs GPT-Grok Similarity  0.454605  0.520763   \n",
              "11    USHMM-Grok Similarity vs Gemini-Grok Similarity  0.454605  0.494519   \n",
              "12       GPT-Gemini Similarity vs GPT-Grok Similarity  0.530785  0.520763   \n",
              "13    GPT-Gemini Similarity vs Gemini-Grok Similarity  0.530785  0.494519   \n",
              "14      GPT-Grok Similarity vs Gemini-Grok Similarity  0.520763  0.494519   \n",
              "\n",
              "    t-statistic  p-value  Significant (p < 0.05)  \n",
              "0        1.9140   0.0558                   False  \n",
              "1        2.8255   0.0048                    True  \n",
              "2       -6.1654   0.0000                    True  \n",
              "3       -4.3113   0.0000                    True  \n",
              "4       -1.4495   0.1474                   False  \n",
              "5        0.9290   0.3530                   False  \n",
              "6       -8.8810   0.0000                    True  \n",
              "7       -6.5845   0.0000                    True  \n",
              "8       -3.7113   0.0002                    True  \n",
              "9      -10.1034   0.0000                    True  \n",
              "10      -7.6268   0.0000                    True  \n",
              "11      -4.7775   0.0000                    True  \n",
              "12       1.4968   0.1346                   False  \n",
              "13       5.7792   0.0000                    True  \n",
              "14       3.4528   0.0006                    True  "
            ],
            "text/html": [
              "\n",
              "  <div id=\"df-0a7adb68-116b-430b-bb14-e34ac37bda35\" class=\"colab-df-container\">\n",
              "    <div>\n",
              "<style scoped>\n",
              "    .dataframe tbody tr th:only-of-type {\n",
              "        vertical-align: middle;\n",
              "    }\n",
              "\n",
              "    .dataframe tbody tr th {\n",
              "        vertical-align: top;\n",
              "    }\n",
              "\n",
              "    .dataframe thead th {\n",
              "        text-align: right;\n",
              "    }\n",
              "</style>\n",
              "<table border=\"1\" class=\"dataframe\">\n",
              "  <thead>\n",
              "    <tr style=\"text-align: right;\">\n",
              "      <th></th>\n",
              "      <th>Comparison</th>\n",
              "      <th>Mean 1</th>\n",
              "      <th>Mean 2</th>\n",
              "      <th>t-statistic</th>\n",
              "      <th>p-value</th>\n",
              "      <th>Significant (p &lt; 0.05)</th>\n",
              "    </tr>\n",
              "  </thead>\n",
              "  <tbody>\n",
              "    <tr>\n",
              "      <th>0</th>\n",
              "      <td>USHMM-GPT Similarity vs USHMM-Gemini Similarity</td>\n",
              "      <td>0.481896</td>\n",
              "      <td>0.463325</td>\n",
              "      <td>1.9140</td>\n",
              "      <td>0.0558</td>\n",
              "      <td>False</td>\n",
              "    </tr>\n",
              "    <tr>\n",
              "      <th>1</th>\n",
              "      <td>USHMM-GPT Similarity vs USHMM-Grok Similarity</td>\n",
              "      <td>0.481896</td>\n",
              "      <td>0.454605</td>\n",
              "      <td>2.8255</td>\n",
              "      <td>0.0048</td>\n",
              "      <td>True</td>\n",
              "    </tr>\n",
              "    <tr>\n",
              "      <th>2</th>\n",
              "      <td>USHMM-GPT Similarity vs GPT-Gemini Similarity</td>\n",
              "      <td>0.481896</td>\n",
              "      <td>0.530785</td>\n",
              "      <td>-6.1654</td>\n",
              "      <td>0.0000</td>\n",
              "      <td>True</td>\n",
              "    </tr>\n",
              "    <tr>\n",
              "      <th>3</th>\n",
              "      <td>USHMM-GPT Similarity vs GPT-Grok Similarity</td>\n",
              "      <td>0.481896</td>\n",
              "      <td>0.520763</td>\n",
              "      <td>-4.3113</td>\n",
              "      <td>0.0000</td>\n",
              "      <td>True</td>\n",
              "    </tr>\n",
              "    <tr>\n",
              "      <th>4</th>\n",
              "      <td>USHMM-GPT Similarity vs Gemini-Grok Similarity</td>\n",
              "      <td>0.481896</td>\n",
              "      <td>0.494519</td>\n",
              "      <td>-1.4495</td>\n",
              "      <td>0.1474</td>\n",
              "      <td>False</td>\n",
              "    </tr>\n",
              "    <tr>\n",
              "      <th>5</th>\n",
              "      <td>USHMM-Gemini Similarity vs USHMM-Grok Similarity</td>\n",
              "      <td>0.463325</td>\n",
              "      <td>0.454605</td>\n",
              "      <td>0.9290</td>\n",
              "      <td>0.3530</td>\n",
              "      <td>False</td>\n",
              "    </tr>\n",
              "    <tr>\n",
              "      <th>6</th>\n",
              "      <td>USHMM-Gemini Similarity vs GPT-Gemini Similarity</td>\n",
              "      <td>0.463325</td>\n",
              "      <td>0.530785</td>\n",
              "      <td>-8.8810</td>\n",
              "      <td>0.0000</td>\n",
              "      <td>True</td>\n",
              "    </tr>\n",
              "    <tr>\n",
              "      <th>7</th>\n",
              "      <td>USHMM-Gemini Similarity vs GPT-Grok Similarity</td>\n",
              "      <td>0.463325</td>\n",
              "      <td>0.520763</td>\n",
              "      <td>-6.5845</td>\n",
              "      <td>0.0000</td>\n",
              "      <td>True</td>\n",
              "    </tr>\n",
              "    <tr>\n",
              "      <th>8</th>\n",
              "      <td>USHMM-Gemini Similarity vs Gemini-Grok Similarity</td>\n",
              "      <td>0.463325</td>\n",
              "      <td>0.494519</td>\n",
              "      <td>-3.7113</td>\n",
              "      <td>0.0002</td>\n",
              "      <td>True</td>\n",
              "    </tr>\n",
              "    <tr>\n",
              "      <th>9</th>\n",
              "      <td>USHMM-Grok Similarity vs GPT-Gemini Similarity</td>\n",
              "      <td>0.454605</td>\n",
              "      <td>0.530785</td>\n",
              "      <td>-10.1034</td>\n",
              "      <td>0.0000</td>\n",
              "      <td>True</td>\n",
              "    </tr>\n",
              "    <tr>\n",
              "      <th>10</th>\n",
              "      <td>USHMM-Grok Similarity vs GPT-Grok Similarity</td>\n",
              "      <td>0.454605</td>\n",
              "      <td>0.520763</td>\n",
              "      <td>-7.6268</td>\n",
              "      <td>0.0000</td>\n",
              "      <td>True</td>\n",
              "    </tr>\n",
              "    <tr>\n",
              "      <th>11</th>\n",
              "      <td>USHMM-Grok Similarity vs Gemini-Grok Similarity</td>\n",
              "      <td>0.454605</td>\n",
              "      <td>0.494519</td>\n",
              "      <td>-4.7775</td>\n",
              "      <td>0.0000</td>\n",
              "      <td>True</td>\n",
              "    </tr>\n",
              "    <tr>\n",
              "      <th>12</th>\n",
              "      <td>GPT-Gemini Similarity vs GPT-Grok Similarity</td>\n",
              "      <td>0.530785</td>\n",
              "      <td>0.520763</td>\n",
              "      <td>1.4968</td>\n",
              "      <td>0.1346</td>\n",
              "      <td>False</td>\n",
              "    </tr>\n",
              "    <tr>\n",
              "      <th>13</th>\n",
              "      <td>GPT-Gemini Similarity vs Gemini-Grok Similarity</td>\n",
              "      <td>0.530785</td>\n",
              "      <td>0.494519</td>\n",
              "      <td>5.7792</td>\n",
              "      <td>0.0000</td>\n",
              "      <td>True</td>\n",
              "    </tr>\n",
              "    <tr>\n",
              "      <th>14</th>\n",
              "      <td>GPT-Grok Similarity vs Gemini-Grok Similarity</td>\n",
              "      <td>0.520763</td>\n",
              "      <td>0.494519</td>\n",
              "      <td>3.4528</td>\n",
              "      <td>0.0006</td>\n",
              "      <td>True</td>\n",
              "    </tr>\n",
              "  </tbody>\n",
              "</table>\n",
              "</div>\n",
              "    <div class=\"colab-df-buttons\">\n",
              "\n",
              "  <div class=\"colab-df-container\">\n",
              "    <button class=\"colab-df-convert\" onclick=\"convertToInteractive('df-0a7adb68-116b-430b-bb14-e34ac37bda35')\"\n",
              "            title=\"Convert this dataframe to an interactive table.\"\n",
              "            style=\"display:none;\">\n",
              "\n",
              "  <svg xmlns=\"http://www.w3.org/2000/svg\" height=\"24px\" viewBox=\"0 -960 960 960\">\n",
              "    <path d=\"M120-120v-720h720v720H120Zm60-500h600v-160H180v160Zm220 220h160v-160H400v160Zm0 220h160v-160H400v160ZM180-400h160v-160H180v160Zm440 0h160v-160H620v160ZM180-180h160v-160H180v160Zm440 0h160v-160H620v160Z\"/>\n",
              "  </svg>\n",
              "    </button>\n",
              "\n",
              "  <style>\n",
              "    .colab-df-container {\n",
              "      display:flex;\n",
              "      gap: 12px;\n",
              "    }\n",
              "\n",
              "    .colab-df-convert {\n",
              "      background-color: #E8F0FE;\n",
              "      border: none;\n",
              "      border-radius: 50%;\n",
              "      cursor: pointer;\n",
              "      display: none;\n",
              "      fill: #1967D2;\n",
              "      height: 32px;\n",
              "      padding: 0 0 0 0;\n",
              "      width: 32px;\n",
              "    }\n",
              "\n",
              "    .colab-df-convert:hover {\n",
              "      background-color: #E2EBFA;\n",
              "      box-shadow: 0px 1px 2px rgba(60, 64, 67, 0.3), 0px 1px 3px 1px rgba(60, 64, 67, 0.15);\n",
              "      fill: #174EA6;\n",
              "    }\n",
              "\n",
              "    .colab-df-buttons div {\n",
              "      margin-bottom: 4px;\n",
              "    }\n",
              "\n",
              "    [theme=dark] .colab-df-convert {\n",
              "      background-color: #3B4455;\n",
              "      fill: #D2E3FC;\n",
              "    }\n",
              "\n",
              "    [theme=dark] .colab-df-convert:hover {\n",
              "      background-color: #434B5C;\n",
              "      box-shadow: 0px 1px 3px 1px rgba(0, 0, 0, 0.15);\n",
              "      filter: drop-shadow(0px 1px 2px rgba(0, 0, 0, 0.3));\n",
              "      fill: #FFFFFF;\n",
              "    }\n",
              "  </style>\n",
              "\n",
              "    <script>\n",
              "      const buttonEl =\n",
              "        document.querySelector('#df-0a7adb68-116b-430b-bb14-e34ac37bda35 button.colab-df-convert');\n",
              "      buttonEl.style.display =\n",
              "        google.colab.kernel.accessAllowed ? 'block' : 'none';\n",
              "\n",
              "      async function convertToInteractive(key) {\n",
              "        const element = document.querySelector('#df-0a7adb68-116b-430b-bb14-e34ac37bda35');\n",
              "        const dataTable =\n",
              "          await google.colab.kernel.invokeFunction('convertToInteractive',\n",
              "                                                    [key], {});\n",
              "        if (!dataTable) return;\n",
              "\n",
              "        const docLinkHtml = 'Like what you see? Visit the ' +\n",
              "          '<a target=\"_blank\" href=https://colab.research.google.com/notebooks/data_table.ipynb>data table notebook</a>'\n",
              "          + ' to learn more about interactive tables.';\n",
              "        element.innerHTML = '';\n",
              "        dataTable['output_type'] = 'display_data';\n",
              "        await google.colab.output.renderOutput(dataTable, element);\n",
              "        const docLink = document.createElement('div');\n",
              "        docLink.innerHTML = docLinkHtml;\n",
              "        element.appendChild(docLink);\n",
              "      }\n",
              "    </script>\n",
              "  </div>\n",
              "\n",
              "\n",
              "    <div id=\"df-434d37e2-8fea-40cc-b472-22a6243341e2\">\n",
              "      <button class=\"colab-df-quickchart\" onclick=\"quickchart('df-434d37e2-8fea-40cc-b472-22a6243341e2')\"\n",
              "                title=\"Suggest charts\"\n",
              "                style=\"display:none;\">\n",
              "\n",
              "<svg xmlns=\"http://www.w3.org/2000/svg\" height=\"24px\"viewBox=\"0 0 24 24\"\n",
              "     width=\"24px\">\n",
              "    <g>\n",
              "        <path d=\"M19 3H5c-1.1 0-2 .9-2 2v14c0 1.1.9 2 2 2h14c1.1 0 2-.9 2-2V5c0-1.1-.9-2-2-2zM9 17H7v-7h2v7zm4 0h-2V7h2v10zm4 0h-2v-4h2v4z\"/>\n",
              "    </g>\n",
              "</svg>\n",
              "      </button>\n",
              "\n",
              "<style>\n",
              "  .colab-df-quickchart {\n",
              "      --bg-color: #E8F0FE;\n",
              "      --fill-color: #1967D2;\n",
              "      --hover-bg-color: #E2EBFA;\n",
              "      --hover-fill-color: #174EA6;\n",
              "      --disabled-fill-color: #AAA;\n",
              "      --disabled-bg-color: #DDD;\n",
              "  }\n",
              "\n",
              "  [theme=dark] .colab-df-quickchart {\n",
              "      --bg-color: #3B4455;\n",
              "      --fill-color: #D2E3FC;\n",
              "      --hover-bg-color: #434B5C;\n",
              "      --hover-fill-color: #FFFFFF;\n",
              "      --disabled-bg-color: #3B4455;\n",
              "      --disabled-fill-color: #666;\n",
              "  }\n",
              "\n",
              "  .colab-df-quickchart {\n",
              "    background-color: var(--bg-color);\n",
              "    border: none;\n",
              "    border-radius: 50%;\n",
              "    cursor: pointer;\n",
              "    display: none;\n",
              "    fill: var(--fill-color);\n",
              "    height: 32px;\n",
              "    padding: 0;\n",
              "    width: 32px;\n",
              "  }\n",
              "\n",
              "  .colab-df-quickchart:hover {\n",
              "    background-color: var(--hover-bg-color);\n",
              "    box-shadow: 0 1px 2px rgba(60, 64, 67, 0.3), 0 1px 3px 1px rgba(60, 64, 67, 0.15);\n",
              "    fill: var(--button-hover-fill-color);\n",
              "  }\n",
              "\n",
              "  .colab-df-quickchart-complete:disabled,\n",
              "  .colab-df-quickchart-complete:disabled:hover {\n",
              "    background-color: var(--disabled-bg-color);\n",
              "    fill: var(--disabled-fill-color);\n",
              "    box-shadow: none;\n",
              "  }\n",
              "\n",
              "  .colab-df-spinner {\n",
              "    border: 2px solid var(--fill-color);\n",
              "    border-color: transparent;\n",
              "    border-bottom-color: var(--fill-color);\n",
              "    animation:\n",
              "      spin 1s steps(1) infinite;\n",
              "  }\n",
              "\n",
              "  @keyframes spin {\n",
              "    0% {\n",
              "      border-color: transparent;\n",
              "      border-bottom-color: var(--fill-color);\n",
              "      border-left-color: var(--fill-color);\n",
              "    }\n",
              "    20% {\n",
              "      border-color: transparent;\n",
              "      border-left-color: var(--fill-color);\n",
              "      border-top-color: var(--fill-color);\n",
              "    }\n",
              "    30% {\n",
              "      border-color: transparent;\n",
              "      border-left-color: var(--fill-color);\n",
              "      border-top-color: var(--fill-color);\n",
              "      border-right-color: var(--fill-color);\n",
              "    }\n",
              "    40% {\n",
              "      border-color: transparent;\n",
              "      border-right-color: var(--fill-color);\n",
              "      border-top-color: var(--fill-color);\n",
              "    }\n",
              "    60% {\n",
              "      border-color: transparent;\n",
              "      border-right-color: var(--fill-color);\n",
              "    }\n",
              "    80% {\n",
              "      border-color: transparent;\n",
              "      border-right-color: var(--fill-color);\n",
              "      border-bottom-color: var(--fill-color);\n",
              "    }\n",
              "    90% {\n",
              "      border-color: transparent;\n",
              "      border-bottom-color: var(--fill-color);\n",
              "    }\n",
              "  }\n",
              "</style>\n",
              "\n",
              "      <script>\n",
              "        async function quickchart(key) {\n",
              "          const quickchartButtonEl =\n",
              "            document.querySelector('#' + key + ' button');\n",
              "          quickchartButtonEl.disabled = true;  // To prevent multiple clicks.\n",
              "          quickchartButtonEl.classList.add('colab-df-spinner');\n",
              "          try {\n",
              "            const charts = await google.colab.kernel.invokeFunction(\n",
              "                'suggestCharts', [key], {});\n",
              "          } catch (error) {\n",
              "            console.error('Error during call to suggestCharts:', error);\n",
              "          }\n",
              "          quickchartButtonEl.classList.remove('colab-df-spinner');\n",
              "          quickchartButtonEl.classList.add('colab-df-quickchart-complete');\n",
              "        }\n",
              "        (() => {\n",
              "          let quickchartButtonEl =\n",
              "            document.querySelector('#df-434d37e2-8fea-40cc-b472-22a6243341e2 button');\n",
              "          quickchartButtonEl.style.display =\n",
              "            google.colab.kernel.accessAllowed ? 'block' : 'none';\n",
              "        })();\n",
              "      </script>\n",
              "    </div>\n",
              "\n",
              "  <div id=\"id_10e068ea-0379-4dcd-b5c0-c3aab7f7a35a\">\n",
              "    <style>\n",
              "      .colab-df-generate {\n",
              "        background-color: #E8F0FE;\n",
              "        border: none;\n",
              "        border-radius: 50%;\n",
              "        cursor: pointer;\n",
              "        display: none;\n",
              "        fill: #1967D2;\n",
              "        height: 32px;\n",
              "        padding: 0 0 0 0;\n",
              "        width: 32px;\n",
              "      }\n",
              "\n",
              "      .colab-df-generate:hover {\n",
              "        background-color: #E2EBFA;\n",
              "        box-shadow: 0px 1px 2px rgba(60, 64, 67, 0.3), 0px 1px 3px 1px rgba(60, 64, 67, 0.15);\n",
              "        fill: #174EA6;\n",
              "      }\n",
              "\n",
              "      [theme=dark] .colab-df-generate {\n",
              "        background-color: #3B4455;\n",
              "        fill: #D2E3FC;\n",
              "      }\n",
              "\n",
              "      [theme=dark] .colab-df-generate:hover {\n",
              "        background-color: #434B5C;\n",
              "        box-shadow: 0px 1px 3px 1px rgba(0, 0, 0, 0.15);\n",
              "        filter: drop-shadow(0px 1px 2px rgba(0, 0, 0, 0.3));\n",
              "        fill: #FFFFFF;\n",
              "      }\n",
              "    </style>\n",
              "    <button class=\"colab-df-generate\" onclick=\"generateWithVariable('results_df')\"\n",
              "            title=\"Generate code using this dataframe.\"\n",
              "            style=\"display:none;\">\n",
              "\n",
              "  <svg xmlns=\"http://www.w3.org/2000/svg\" height=\"24px\"viewBox=\"0 0 24 24\"\n",
              "       width=\"24px\">\n",
              "    <path d=\"M7,19H8.4L18.45,9,17,7.55,7,17.6ZM5,21V16.75L18.45,3.32a2,2,0,0,1,2.83,0l1.4,1.43a1.91,1.91,0,0,1,.58,1.4,1.91,1.91,0,0,1-.58,1.4L9.25,21ZM18.45,9,17,7.55Zm-12,3A5.31,5.31,0,0,0,4.9,8.1,5.31,5.31,0,0,0,1,6.5,5.31,5.31,0,0,0,4.9,4.9,5.31,5.31,0,0,0,6.5,1,5.31,5.31,0,0,0,8.1,4.9,5.31,5.31,0,0,0,12,6.5,5.46,5.46,0,0,0,6.5,12Z\"/>\n",
              "  </svg>\n",
              "    </button>\n",
              "    <script>\n",
              "      (() => {\n",
              "      const buttonEl =\n",
              "        document.querySelector('#id_10e068ea-0379-4dcd-b5c0-c3aab7f7a35a button.colab-df-generate');\n",
              "      buttonEl.style.display =\n",
              "        google.colab.kernel.accessAllowed ? 'block' : 'none';\n",
              "\n",
              "      buttonEl.onclick = () => {\n",
              "        google.colab.notebook.generateWithVariable('results_df');\n",
              "      }\n",
              "      })();\n",
              "    </script>\n",
              "  </div>\n",
              "\n",
              "    </div>\n",
              "  </div>\n"
            ],
            "application/vnd.google.colaboratory.intrinsic+json": {
              "type": "dataframe",
              "variable_name": "results_df",
              "summary": "{\n  \"name\": \"results_df\",\n  \"rows\": 15,\n  \"fields\": [\n    {\n      \"column\": \"Comparison\",\n      \"properties\": {\n        \"dtype\": \"string\",\n        \"num_unique_values\": 15,\n        \"samples\": [\n          \"USHMM-Grok Similarity vs GPT-Gemini Similarity\",\n          \"USHMM-Grok Similarity vs Gemini-Grok Similarity\",\n          \"USHMM-GPT Similarity vs USHMM-Gemini Similarity\"\n        ],\n        \"semantic_type\": \"\",\n        \"description\": \"\"\n      }\n    },\n    {\n      \"column\": \"Mean 1\",\n      \"properties\": {\n        \"dtype\": \"number\",\n        \"std\": 0.02656449099169917,\n        \"min\": 0.454605005005005,\n        \"max\": 0.5307848848848848,\n        \"num_unique_values\": 5,\n        \"samples\": [\n          0.46332522522522523,\n          0.5207630630630631,\n          0.454605005005005\n        ],\n        \"semantic_type\": \"\",\n        \"description\": \"\"\n      }\n    },\n    {\n      \"column\": \"Mean 2\",\n      \"properties\": {\n        \"dtype\": \"number\",\n        \"std\": 0.026933938119289725,\n        \"min\": 0.454605005005005,\n        \"max\": 0.5307848848848848,\n        \"num_unique_values\": 5,\n        \"samples\": [\n          0.454605005005005,\n          0.4945185185185185,\n          0.5307848848848848\n        ],\n        \"semantic_type\": \"\",\n        \"description\": \"\"\n      }\n    },\n    {\n      \"column\": \"t-statistic\",\n      \"properties\": {\n        \"dtype\": \"number\",\n        \"std\": 4.967912338838212,\n        \"min\": -10.1034,\n        \"max\": 5.7792,\n        \"num_unique_values\": 15,\n        \"samples\": [\n          -10.1034,\n          -4.7775,\n          1.914\n        ],\n        \"semantic_type\": \"\",\n        \"description\": \"\"\n      }\n    },\n    {\n      \"column\": \"p-value\",\n      \"properties\": {\n        \"dtype\": \"number\",\n        \"std\": 0.09829201004199291,\n        \"min\": 0.0,\n        \"max\": 0.353,\n        \"num_unique_values\": 8,\n        \"samples\": [\n          0.0048,\n          0.0002,\n          0.0558\n        ],\n        \"semantic_type\": \"\",\n        \"description\": \"\"\n      }\n    },\n    {\n      \"column\": \"Significant (p < 0.05)\",\n      \"properties\": {\n        \"dtype\": \"boolean\",\n        \"num_unique_values\": 2,\n        \"samples\": [\n          true,\n          false\n        ],\n        \"semantic_type\": \"\",\n        \"description\": \"\"\n      }\n    }\n  ]\n}"
            }
          },
          "metadata": {}
        }
      ]
    },
    {
      "cell_type": "code",
      "source": [
        "# Save to Excel\n",
        "results_df.to_excel(\"t_test_results.xlsx\", index=False)"
      ],
      "metadata": {
        "id": "KED2H8os7Kx0"
      },
      "execution_count": null,
      "outputs": []
    },
    {
      "cell_type": "code",
      "execution_count": null,
      "metadata": {
        "colab": {
          "base_uri": "https://localhost:8080/"
        },
        "id": "zpSDXAcV0xDw",
        "outputId": "2256fac6-0c98-4bde-c7ca-fa5a60e6f192"
      },
      "outputs": [
        {
          "name": "stderr",
          "output_type": "stream",
          "text": [
            "Downloading...\n",
            "From (original): https://drive.google.com/uc?id=1hExcVsWbppFXRssXq2VSPEBlRTR-krB0Uh7NMDkXse0\n",
            "From (redirected): https://docs.google.com/spreadsheets/d/1hExcVsWbppFXRssXq2VSPEBlRTR-krB0Uh7NMDkXse0/export?format=xlsx\n",
            "To: /content/file.xlsx\n",
            "148kB [00:00, 11.7MB/s]"
          ]
        },
        {
          "name": "stdout",
          "output_type": "stream",
          "text": [
            "                                               query  is_nuanced  \\\n",
            "0                       how did hitler rise to power           1   \n",
            "1                       how did hitler come to power           1   \n",
            "2                     concentration camps in germany           1   \n",
            "3                     what did the nuremberg laws do           1   \n",
            "4  what were some of the stages implemented as pa...           1   \n",
            "\n",
            "        Question type                                    GPT-4o Response  \\\n",
            "0         Explanation  Adolf Hitler's rise to power was a complex pro...   \n",
            "1         Explanation  Adolf Hitler's rise to power was a complex pro...   \n",
            "2         Explanation  Concentration camps in Germany, particularly d...   \n",
            "3  Historical Context  The Nuremberg Laws, enacted in Nazi Germany in...   \n",
            "4  Historical Context  \"The Final Solution\" was the Nazi plan for the...   \n",
            "\n",
            "                                     Gemini Response  \\\n",
            "0  Adolf Hitler's rise to power was a complex pro...   \n",
            "1  Adolf Hitler's rise to power was a complex pro...   \n",
            "2  During World War II, Nazi Germany established ...   \n",
            "3  The Nuremberg Laws were a set of antisemitic l...   \n",
            "4  \"The Final Solution\" was the Nazi plan to anni...   \n",
            "\n",
            "                                       Grok Response  \n",
            "0  Adolf Hitler's rise to power was a complex pro...  \n",
            "1  Adolf Hitler's rise to power was a complex pro...  \n",
            "2  Concentration camps in Germany were establishe...  \n",
            "3  The Nuremberg Laws were a set of antisemitic a...  \n",
            "4  \"The Final Solution\" refers to the Nazi plan t...  \n"
          ]
        },
        {
          "name": "stderr",
          "output_type": "stream",
          "text": [
            "\n"
          ]
        }
      ],
      "source": [
        "# Import df4 - 68 nuanced queries\n",
        "url4 = 'https://docs.google.com/spreadsheets/d/1hExcVsWbppFXRssXq2VSPEBlRTR-krB0Uh7NMDkXse0/edit?gid=1686246776#gid=1686246776'\n",
        "export_url= f\"{url4}\"+\"/export?format=xlsx\"\n",
        "\n",
        "temp_file = \"file.xlsx\"\n",
        "\n",
        "# Download the file\n",
        "gdown.download(export_url, temp_file, quiet=False, fuzzy=True)\n",
        "\n",
        "# Load the Excel file into pandas\n",
        "df4 = pd.read_excel(temp_file)\n",
        "\n",
        "# Display the DataFrame\n",
        "print(df4.head())"
      ]
    },
    {
      "cell_type": "code",
      "execution_count": null,
      "metadata": {
        "id": "793Q3eOy1j7t"
      },
      "outputs": [],
      "source": [
        "def process_text_comparisons_no_ushmm(df):\n",
        "\n",
        "    # Ensure required columns exist\n",
        "    required_columns = [\"GPT-4o Response\", \"Gemini Response\", \"Grok Response\"]\n",
        "    if not all(col in df.columns for col in required_columns):\n",
        "        raise ValueError(f\"CSV must contain the columns: {required_columns}\")\n",
        "\n",
        "    # Compute Readability and Word Count\n",
        "    for col in required_columns:\n",
        "        df[f\"{col} - Word Count\"] = df[col].apply(count_words)\n",
        "        df[f\"{col} - Flesch Score\"] = df[col].apply(flesch_reading_ease)\n",
        "        df[f\"{col} - Coleman-Liau\"] = df[col].apply(coleman_liau_index)\n",
        "\n",
        "    # Pairwise Comparisons\n",
        "    pairings = [\n",
        "        (\"GPT-4o Response\", \"Gemini Response\"),\n",
        "        (\"GPT-4o Response\", \"Grok Response\"),\n",
        "        (\"Gemini Response\", \"Grok Response\"),\n",
        "    ]\n",
        "\n",
        "    for col1, col2 in pairings:\n",
        "        df[f\"{col1}/{col2} - Cosine Sim\"] = df.apply(lambda row: cosine_similarity_text_2(row[col1], row[col2]), axis=1)\n",
        "        df[f\"{col1}/{col2} - Jaccard Index\"] = df.apply(lambda row: jaccard_index(row[col1], row[col2]), axis=1)\n",
        "\n",
        "    return df"
      ]
    },
    {
      "cell_type": "code",
      "execution_count": null,
      "metadata": {
        "colab": {
          "base_uri": "https://localhost:8080/"
        },
        "id": "qFYklqF_16Cl",
        "outputId": "54f32e27-3b5e-428d-cfd8-c8849237c060"
      },
      "outputs": [
        {
          "name": "stdout",
          "output_type": "stream",
          "text": [
            "                                               query  is_nuanced  \\\n",
            "0                       how did hitler rise to power           1   \n",
            "1                       how did hitler come to power           1   \n",
            "2                     concentration camps in germany           1   \n",
            "3                     what did the nuremberg laws do           1   \n",
            "4  what were some of the stages implemented as pa...           1   \n",
            "\n",
            "        Question type                                    GPT-4o Response  \\\n",
            "0         Explanation  Adolf Hitler's rise to power was a complex pro...   \n",
            "1         Explanation  Adolf Hitler's rise to power was a complex pro...   \n",
            "2         Explanation  Concentration camps in Germany, particularly d...   \n",
            "3  Historical Context  The Nuremberg Laws, enacted in Nazi Germany in...   \n",
            "4  Historical Context  \"The Final Solution\" was the Nazi plan for the...   \n",
            "\n",
            "                                     Gemini Response  \\\n",
            "0  Adolf Hitler's rise to power was a complex pro...   \n",
            "1  Adolf Hitler's rise to power was a complex pro...   \n",
            "2  During World War II, Nazi Germany established ...   \n",
            "3  The Nuremberg Laws were a set of antisemitic l...   \n",
            "4  \"The Final Solution\" was the Nazi plan to anni...   \n",
            "\n",
            "                                       Grok Response  \\\n",
            "0  Adolf Hitler's rise to power was a complex pro...   \n",
            "1  Adolf Hitler's rise to power was a complex pro...   \n",
            "2  Concentration camps in Germany were establishe...   \n",
            "3  The Nuremberg Laws were a set of antisemitic a...   \n",
            "4  \"The Final Solution\" refers to the Nazi plan t...   \n",
            "\n",
            "   GPT-4o Response - Word Count  GPT-4o Response - Flesch Score  \\\n",
            "0                           486                           27.56   \n",
            "1                           359                           25.99   \n",
            "2                           285                           31.32   \n",
            "3                           165                           36.97   \n",
            "4                           310                           33.43   \n",
            "\n",
            "   GPT-4o Response - Coleman-Liau  Gemini Response - Word Count  ...  \\\n",
            "0                           14.31                           285  ...   \n",
            "1                           14.34                           217  ...   \n",
            "2                           13.59                           192  ...   \n",
            "3                           13.77                           238  ...   \n",
            "4                           14.10                           215  ...   \n",
            "\n",
            "   Gemini Response - Coleman-Liau  Grok Response - Word Count  \\\n",
            "0                           16.07                         470   \n",
            "1                           14.87                         535   \n",
            "2                           15.12                         427   \n",
            "3                           13.17                         209   \n",
            "4                           16.24                         397   \n",
            "\n",
            "   Grok Response - Flesch Score  Grok Response - Coleman-Liau  \\\n",
            "0                         30.56                         13.24   \n",
            "1                         36.35                         12.07   \n",
            "2                         42.01                         13.27   \n",
            "3                         44.65                         11.87   \n",
            "4                         40.88                         12.42   \n",
            "\n",
            "   GPT-4o Response/Gemini Response - Cosine Sim  \\\n",
            "0                                      0.784198   \n",
            "1                                      0.702351   \n",
            "2                                      0.767678   \n",
            "3                                      0.757254   \n",
            "4                                      0.658713   \n",
            "\n",
            "   GPT-4o Response/Gemini Response - Jaccard Index  \\\n",
            "0                                         0.025710   \n",
            "1                                         0.028933   \n",
            "2                                         0.049107   \n",
            "3                                         0.064865   \n",
            "4                                         0.036000   \n",
            "\n",
            "   GPT-4o Response/Grok Response - Cosine Sim  \\\n",
            "0                                    0.849047   \n",
            "1                                    0.847184   \n",
            "2                                    0.783958   \n",
            "3                                    0.770152   \n",
            "4                                    0.795690   \n",
            "\n",
            "   GPT-4o Response/Grok Response - Jaccard Index  \\\n",
            "0                                       0.077803   \n",
            "1                                       0.053699   \n",
            "2                                       0.032258   \n",
            "3                                       0.069565   \n",
            "4                                       0.048632   \n",
            "\n",
            "   Gemini Response/Grok Response - Cosine Sim  \\\n",
            "0                                    0.745834   \n",
            "1                                    0.691476   \n",
            "2                                    0.664956   \n",
            "3                                    0.788636   \n",
            "4                                    0.640344   \n",
            "\n",
            "   Gemini Response/Grok Response - Jaccard Index  \n",
            "0                                       0.023513  \n",
            "1                                       0.024862  \n",
            "2                                       0.014876  \n",
            "3                                       0.065854  \n",
            "4                                       0.018933  \n",
            "\n",
            "[5 rows x 21 columns]\n"
          ]
        }
      ],
      "source": [
        "df4 = process_text_comparisons_no_ushmm(df4)\n",
        "\n",
        "print(df4.head())"
      ]
    },
    {
      "cell_type": "code",
      "execution_count": null,
      "metadata": {
        "colab": {
          "base_uri": "https://localhost:8080/"
        },
        "id": "3vc4ewhg2SJy",
        "outputId": "8d95ddae-5ead-4749-8042-4dd8579beb3c"
      },
      "outputs": [
        {
          "name": "stdout",
          "output_type": "stream",
          "text": [
            "Column Averages:\n",
            "GPT-4o Response - Word Count      272.72\n",
            "GPT-4o Response - Flesch Score     27.93\n",
            "GPT-4o Response - Coleman-Liau     14.53\n",
            "Gemini Response - Word Count      302.14\n",
            "Gemini Response - Flesch Score     26.49\n",
            "Gemini Response - Coleman-Liau     14.69\n",
            "Grok Response - Word Count        323.04\n",
            "Grok Response - Flesch Score       34.37\n",
            "Grok Response - Coleman-Liau       13.34\n",
            "dtype: float64\n",
            "                                            Metric  Average\n",
            "0     GPT-4o Response/Gemini Response - Cosine Sim   0.7188\n",
            "1  GPT-4o Response/Gemini Response - Jaccard Index   0.0271\n",
            "2       GPT-4o Response/Grok Response - Cosine Sim   0.7879\n",
            "3    GPT-4o Response/Grok Response - Jaccard Index   0.0481\n",
            "4       Gemini Response/Grok Response - Cosine Sim   0.7298\n",
            "5    Gemini Response/Grok Response - Jaccard Index   0.0312\n"
          ]
        }
      ],
      "source": [
        "cols_to_average2 = [\n",
        "    \"GPT-4o Response - Word Count\", \"GPT-4o Response - Flesch Score\", \"GPT-4o Response - Coleman-Liau\",\n",
        "    \"Gemini Response - Word Count\", \"Gemini Response - Flesch Score\", \"Gemini Response - Coleman-Liau\",\n",
        "    \"Grok Response - Word Count\", \"Grok Response - Flesch Score\", \"Grok Response - Coleman-Liau\"\n",
        "]\n",
        "\n",
        "# Compute averages\n",
        "averages2 = df4[cols_to_average2].mean().round(2)\n",
        "\n",
        "# View averages\n",
        "print(\"Column Averages:\")\n",
        "print(averages2)\n",
        "\n",
        "# List of similarity columns\n",
        "similarity_columns2 = [\n",
        "    \"GPT-4o Response/Gemini Response - Cosine Sim\",\n",
        "    \"GPT-4o Response/Gemini Response - Jaccard Index\",\n",
        "    \"GPT-4o Response/Grok Response - Cosine Sim\",\n",
        "    \"GPT-4o Response/Grok Response - Jaccard Index\",\n",
        "    \"Gemini Response/Grok Response - Cosine Sim\",\n",
        "    \"Gemini Response/Grok Response - Jaccard Index\"\n",
        "]\n",
        "\n",
        "# Calculate and round means\n",
        "similarity_averages2 = df4[similarity_columns2].mean().round(4)\n",
        "\n",
        "# View as a DataFrame\n",
        "similarity_avg_df2 = similarity_averages2.reset_index()\n",
        "similarity_avg_df2.columns = ['Metric', 'Average']\n",
        "print(similarity_avg_df2)"
      ]
    },
    {
      "cell_type": "code",
      "execution_count": null,
      "metadata": {
        "id": "mXDAcv-S36Yk"
      },
      "outputs": [],
      "source": [
        "from scipy.stats import ttest_rel\n",
        "\n",
        "# Store t-test results\n",
        "t_test_results = {}\n",
        "\n",
        "# Flesch comparisons\n",
        "t_test_results['USHMM vs GPT-4o - Flesch'] = ttest_rel(\n",
        "    df3[\"ushmm_article - Flesch Score\"],\n",
        "    df3[\"GPT-4o Response - Flesch Score\"]\n",
        ")\n",
        "\n",
        "t_test_results['USHMM vs Gemini - Flesch'] = ttest_rel(\n",
        "    df3[\"ushmm_article - Flesch Score\"],\n",
        "    df3[\"Gemini Response - Flesch Score\"]\n",
        ")\n",
        "\n",
        "t_test_results['USHMM vs Grok - Flesch'] = ttest_rel(\n",
        "    df3[\"ushmm_article - Flesch Score\"],\n",
        "    df3[\"Grok Response - Flesch Score\"]\n",
        ")\n",
        "\n",
        "# Coleman-Liau comparisons\n",
        "t_test_results['USHMM vs GPT-4o - Coleman-Liau'] = ttest_rel(\n",
        "    df3[\"ushmm_article - Coleman-Liau\"],\n",
        "    df3[\"GPT-4o Response - Coleman-Liau\"]\n",
        ")\n",
        "\n",
        "t_test_results['USHMM vs Gemini - Coleman-Liau'] = ttest_rel(\n",
        "    df3[\"ushmm_article - Coleman-Liau\"],\n",
        "    df3[\"Gemini Response - Coleman-Liau\"]\n",
        ")\n",
        "\n",
        "t_test_results['USHMM vs Grok - Coleman-Liau'] = ttest_rel(\n",
        "    df3[\"ushmm_article - Coleman-Liau\"],\n",
        "    df3[\"Grok Response - Coleman-Liau\"]\n",
        ")\n",
        "\n",
        "# Display results\n",
        "print(\"\\nT-Test Results:\")\n",
        "for label, result in t_test_results.items():\n",
        "    print(f\"{label}: t={result.statistic:.3f}, p={result.pvalue:.4f}\")\n",
        "\n",
        "t_df = pd.DataFrame([\n",
        "    {\"Comparison\": label, \"t-stat\": result.statistic, \"p-value\": result.pvalue}\n",
        "    for label, result in t_test_results.items()\n",
        "]).round(4)"
      ]
    },
    {
      "cell_type": "code",
      "execution_count": null,
      "metadata": {
        "colab": {
          "base_uri": "https://localhost:8080/"
        },
        "id": "cT75Xd-2zX7Z",
        "outputId": "2200dcc1-71d1-4d60-8cb7-e3fe82ddb5af"
      },
      "outputs": [
        {
          "name": "stderr",
          "output_type": "stream",
          "text": [
            "<ipython-input-13-b235043a7524>:10: SettingWithCopyWarning: \n",
            "A value is trying to be set on a copy of a slice from a DataFrame.\n",
            "Try using .loc[row_indexer,col_indexer] = value instead\n",
            "\n",
            "See the caveats in the documentation: https://pandas.pydata.org/pandas-docs/stable/user_guide/indexing.html#returning-a-view-versus-a-copy\n",
            "  df[f\"{col} - Word Count\"] = df[col].apply(count_words)\n",
            "<ipython-input-13-b235043a7524>:11: SettingWithCopyWarning: \n",
            "A value is trying to be set on a copy of a slice from a DataFrame.\n",
            "Try using .loc[row_indexer,col_indexer] = value instead\n",
            "\n",
            "See the caveats in the documentation: https://pandas.pydata.org/pandas-docs/stable/user_guide/indexing.html#returning-a-view-versus-a-copy\n",
            "  df[f\"{col} - Flesch Score\"] = df[col].apply(flesch_reading_ease)\n",
            "<ipython-input-13-b235043a7524>:12: SettingWithCopyWarning: \n",
            "A value is trying to be set on a copy of a slice from a DataFrame.\n",
            "Try using .loc[row_indexer,col_indexer] = value instead\n",
            "\n",
            "See the caveats in the documentation: https://pandas.pydata.org/pandas-docs/stable/user_guide/indexing.html#returning-a-view-versus-a-copy\n",
            "  df[f\"{col} - Coleman-Liau\"] = df[col].apply(coleman_liau_index)\n",
            "<ipython-input-13-b235043a7524>:22: SettingWithCopyWarning: \n",
            "A value is trying to be set on a copy of a slice from a DataFrame.\n",
            "Try using .loc[row_indexer,col_indexer] = value instead\n",
            "\n",
            "See the caveats in the documentation: https://pandas.pydata.org/pandas-docs/stable/user_guide/indexing.html#returning-a-view-versus-a-copy\n",
            "  df[f\"{col1}/{col2} - Cosine Sim\"] = df.apply(lambda row: cosine_similarity_text_2(row[col1], row[col2]), axis=1)\n",
            "<ipython-input-13-b235043a7524>:23: SettingWithCopyWarning: \n",
            "A value is trying to be set on a copy of a slice from a DataFrame.\n",
            "Try using .loc[row_indexer,col_indexer] = value instead\n",
            "\n",
            "See the caveats in the documentation: https://pandas.pydata.org/pandas-docs/stable/user_guide/indexing.html#returning-a-view-versus-a-copy\n",
            "  df[f\"{col1}/{col2} - Jaccard Index\"] = df.apply(lambda row: jaccard_index(row[col1], row[col2]), axis=1)\n"
          ]
        },
        {
          "name": "stdout",
          "output_type": "stream",
          "text": [
            "                         query  \\\n",
            "0  первая мировая война кратко   \n",
            "1         первая мировая война   \n",
            "2                     освенцим   \n",
            "3   итоги первой мировой войны   \n",
            "4                     холокост   \n",
            "\n",
            "                                     GPT-4o Response  \\\n",
            "0  Первая мировая война, также известная как Вели...   \n",
            "1  Первая мировая война, также известная как Вели...   \n",
            "2  Освенцим, также известный под немецким названи...   \n",
            "3  Первая мировая война, завершившаяся в 1918 год...   \n",
            "4  Холокост — это массовое истребление еврейского...   \n",
            "\n",
            "                                     Gemini Response  \\\n",
            "0  Первая мировая война, также известная как Вели...   \n",
            "1  Первая мировая война (также известная как Вели...   \n",
            "2  Освенцим е комплекс от концентрационни и изтре...   \n",
            "3  Итоги Первой мировой войны были глубокими и да...   \n",
            "4  Холокост (від грецького ὁλόκαυστος, holókausto...   \n",
            "\n",
            "                                       Grok Response  \\\n",
            "0  Первая мировая война (1914-1918) — глобальный ...   \n",
            "1  Первая мировая война (1914-1918) была одним из...   \n",
            "2  Освенцим (на польски: Oświęcim) е град в южна ...   \n",
            "3  Первая мировая война, длившаяся с 1914 по 1918...   \n",
            "4  Холокост — это термин, обозначающий систематич...   \n",
            "\n",
            "   GPT-4o Response - Word Count  GPT-4o Response - Flesch Score  \\\n",
            "0                           250                          109.34   \n",
            "1                           180                          102.56   \n",
            "2                           109                          102.24   \n",
            "3                           258                          109.11   \n",
            "4                            91                           99.14   \n",
            "\n",
            "   GPT-4o Response - Coleman-Liau  Gemini Response - Word Count  \\\n",
            "0                           15.96                           300   \n",
            "1                           19.66                           462   \n",
            "2                           20.82                            68   \n",
            "3                           18.78                           514   \n",
            "4                           17.21                           521   \n",
            "\n",
            "   Gemini Response - Flesch Score  Gemini Response - Coleman-Liau  \\\n",
            "0                          113.78                           17.72   \n",
            "1                          111.95                           18.46   \n",
            "2                          102.49                           14.80   \n",
            "3                          112.81                           20.20   \n",
            "4                          106.68                           17.51   \n",
            "\n",
            "   Grok Response - Word Count  Grok Response - Flesch Score  \\\n",
            "0                          68                         97.98   \n",
            "1                         253                        114.75   \n",
            "2                          56                         97.25   \n",
            "3                         281                        111.06   \n",
            "4                         108                        104.75   \n",
            "\n",
            "   Grok Response - Coleman-Liau  GPT-4o Response/Gemini Response - Cosine Sim  \\\n",
            "0                         23.54                                      0.442913   \n",
            "1                         15.51                                      0.289563   \n",
            "2                         14.85                                      0.063342   \n",
            "3                         18.69                                      0.319173   \n",
            "4                         18.00                                      0.047618   \n",
            "\n",
            "   GPT-4o Response/Gemini Response - Jaccard Index  \\\n",
            "0                                         0.026465   \n",
            "1                                         0.026273   \n",
            "2                                         0.000000   \n",
            "3                                         0.005291   \n",
            "4                                         0.000000   \n",
            "\n",
            "   GPT-4o Response/Grok Response - Cosine Sim  \\\n",
            "0                                    0.302537   \n",
            "1                                    0.294525   \n",
            "2                                    0.088795   \n",
            "3                                    0.356583   \n",
            "4                                    0.283518   \n",
            "\n",
            "   GPT-4o Response/Grok Response - Jaccard Index  \\\n",
            "0                                       0.012945   \n",
            "1                                       0.026379   \n",
            "2                                       0.000000   \n",
            "3                                       0.025097   \n",
            "4                                       0.054054   \n",
            "\n",
            "   Gemini Response/Grok Response - Cosine Sim  \\\n",
            "0                                    0.238260   \n",
            "1                                    0.447550   \n",
            "2                                    0.322420   \n",
            "3                                    0.296565   \n",
            "4                                    0.060555   \n",
            "\n",
            "   Gemini Response/Grok Response - Jaccard Index  \n",
            "0                                       0.002770  \n",
            "1                                       0.051282  \n",
            "2                                       0.034483  \n",
            "3                                       0.007722  \n",
            "4                                       0.000000  \n",
            "Column Averages:\n",
            "GPT-4o Response - Word Count      149.25\n",
            "GPT-4o Response - Flesch Score    104.26\n",
            "GPT-4o Response - Coleman-Liau     18.05\n",
            "Gemini Response - Word Count      215.50\n",
            "Gemini Response - Flesch Score    107.47\n",
            "Gemini Response - Coleman-Liau     18.20\n",
            "Grok Response - Word Count        128.00\n",
            "Grok Response - Flesch Score      106.62\n",
            "Grok Response - Coleman-Liau       17.57\n",
            "dtype: float64\n"
          ]
        },
        {
          "name": "stderr",
          "output_type": "stream",
          "text": [
            "<ipython-input-13-b235043a7524>:22: SettingWithCopyWarning: \n",
            "A value is trying to be set on a copy of a slice from a DataFrame.\n",
            "Try using .loc[row_indexer,col_indexer] = value instead\n",
            "\n",
            "See the caveats in the documentation: https://pandas.pydata.org/pandas-docs/stable/user_guide/indexing.html#returning-a-view-versus-a-copy\n",
            "  df[f\"{col1}/{col2} - Cosine Sim\"] = df.apply(lambda row: cosine_similarity_text_2(row[col1], row[col2]), axis=1)\n",
            "<ipython-input-13-b235043a7524>:23: SettingWithCopyWarning: \n",
            "A value is trying to be set on a copy of a slice from a DataFrame.\n",
            "Try using .loc[row_indexer,col_indexer] = value instead\n",
            "\n",
            "See the caveats in the documentation: https://pandas.pydata.org/pandas-docs/stable/user_guide/indexing.html#returning-a-view-versus-a-copy\n",
            "  df[f\"{col1}/{col2} - Jaccard Index\"] = df.apply(lambda row: jaccard_index(row[col1], row[col2]), axis=1)\n",
            "<ipython-input-13-b235043a7524>:22: SettingWithCopyWarning: \n",
            "A value is trying to be set on a copy of a slice from a DataFrame.\n",
            "Try using .loc[row_indexer,col_indexer] = value instead\n",
            "\n",
            "See the caveats in the documentation: https://pandas.pydata.org/pandas-docs/stable/user_guide/indexing.html#returning-a-view-versus-a-copy\n",
            "  df[f\"{col1}/{col2} - Cosine Sim\"] = df.apply(lambda row: cosine_similarity_text_2(row[col1], row[col2]), axis=1)\n",
            "<ipython-input-13-b235043a7524>:23: SettingWithCopyWarning: \n",
            "A value is trying to be set on a copy of a slice from a DataFrame.\n",
            "Try using .loc[row_indexer,col_indexer] = value instead\n",
            "\n",
            "See the caveats in the documentation: https://pandas.pydata.org/pandas-docs/stable/user_guide/indexing.html#returning-a-view-versus-a-copy\n",
            "  df[f\"{col1}/{col2} - Jaccard Index\"] = df.apply(lambda row: jaccard_index(row[col1], row[col2]), axis=1)\n"
          ]
        }
      ],
      "source": [
        "russia_quant_20 = process_text_comparisons_no_ushmm(russian_queries_responses_20)\n",
        "russia_quant_20.to_csv('russian_top20_quant.csv', index=False)\n",
        "print(russia_quant_20.head())\n",
        "cols_to_average2 = [\n",
        "    \"GPT-4o Response - Word Count\", \"GPT-4o Response - Flesch Score\", \"GPT-4o Response - Coleman-Liau\",\n",
        "    \"Gemini Response - Word Count\", \"Gemini Response - Flesch Score\", \"Gemini Response - Coleman-Liau\",\n",
        "    \"Grok Response - Word Count\", \"Grok Response - Flesch Score\", \"Grok Response - Coleman-Liau\"\n",
        "]\n",
        "similarity_columns2 = [\n",
        "    \"GPT-4o Response/Gemini Response - Cosine Sim\",\n",
        "    \"GPT-4o Response/Gemini Response - Jaccard Index\",\n",
        "    \"GPT-4o Response/Grok Response - Cosine Sim\",\n",
        "    \"GPT-4o Response/Grok Response - Jaccard Index\",\n",
        "    \"Gemini Response/Grok Response - Cosine Sim\",\n",
        "    \"Gemini Response/Grok Response - Jaccard Index\"\n",
        "]\n",
        "similarity_averages_russian = russia_quant_20[similarity_columns2].mean().round(4)\n",
        "averages_russian = russia_quant_20[cols_to_average2].mean().round(2)\n",
        "\n",
        "# View averages\n",
        "print(\"Column Averages:\")\n",
        "print(averages_russian)\n",
        "# Store t-test results\n",
        "t_test_results = {}\n"
      ]
    },
    {
      "cell_type": "code",
      "execution_count": null,
      "metadata": {
        "id": "Q6AUSdLV5FoZ"
      },
      "outputs": [],
      "source": [
        "#columns for english translation of each russian response"
      ]
    }
  ],
  "metadata": {
    "colab": {
      "collapsed_sections": [
        "iJwAJultXcEx",
        "mLTeSmJSOhl-"
      ],
      "provenance": [],
      "include_colab_link": true
    },
    "kernelspec": {
      "display_name": "Python 3",
      "name": "python3"
    },
    "language_info": {
      "name": "python"
    }
  },
  "nbformat": 4,
  "nbformat_minor": 0
}